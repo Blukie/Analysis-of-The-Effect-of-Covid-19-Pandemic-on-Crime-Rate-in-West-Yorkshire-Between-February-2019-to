{
 "cells": [
  {
   "cell_type": "markdown",
   "metadata": {},
   "source": [
    " # Importing the required Libaries and other Functions"
   ]
  },
  {
   "cell_type": "code",
   "execution_count": 1,
   "metadata": {},
   "outputs": [
    {
     "name": "stdout",
     "output_type": "stream",
     "text": [
      "3.6.8\n",
      "2.4.3\n"
     ]
    }
   ],
   "source": [
    "# PySpark API:\n",
    "#http://spark.apache.org/docs/latest/api/python/index.html\n",
    "\n",
    "import os\n",
    "import sys\n",
    " \n",
    "os.environ[\"SPARK_HOME\"] = \"/usr/spark2.4.3\"\n",
    "os.environ[\"PYLIB\"] = os.environ[\"SPARK_HOME\"] + \"/python/lib\"\n",
    "# In below two lines, use /usr/bin/python2.7 if you want to use Python 2\n",
    "os.environ[\"PYSPARK_PYTHON\"] = \"/usr/local/anaconda/bin/python\" \n",
    "os.environ[\"PYSPARK_DRIVER_PYTHON\"] = \"/usr/local/anaconda/bin/python\"\n",
    "sys.path.insert(0, os.environ[\"PYLIB\"] +\"/py4j-0.10.7-src.zip\")\n",
    "sys.path.insert(0, os.environ[\"PYLIB\"] +\"/pyspark.zip\")\n",
    "\n",
    "from pyspark import SparkContext, SparkConf\n",
    "conf = SparkConf().setAppName(\"appName2\")\n",
    "sc = SparkContext(conf=conf)\n",
    "\n",
    "# initialise sc\n",
    "#from pyspark import SparkConf, SparkContext\n",
    "from pyspark.sql import SQLContext, HiveContext\n",
    "from pyspark.sql.types import *\n",
    "#sc= SparkContext()\n",
    "sqlContext = SQLContext(sc)\n",
    "\n",
    "\n",
    "# get python and spark versions\n",
    "import platform\n",
    "print(platform.python_version())\n",
    "print(sc.version)\n",
    "\n",
    "# import python sql libraries and other functions \n",
    "from pyspark.sql.types import *\n",
    "from pyspark.sql import Row\n",
    "from pyspark.sql.functions import *\n",
    "\n",
    "# import python library for plotting data\n",
    "import matplotlib.pyplot as plt\n",
    "import gmplot\n",
    "\n",
    "#import pandas and numpy\n",
    "import pandas as pd\n",
    "import numpy as np"
   ]
  },
  {
   "cell_type": "code",
   "execution_count": 2,
   "metadata": {},
   "outputs": [],
   "source": [
    "# Importing Additional Libraries\n",
    "from pyspark.sql import SparkSession\n",
    "from functools import reduce\n",
    "from pyspark.sql.functions import col, lit, when\n",
    "\n",
    "spark = SparkSession.builder.appName(\"Yorkshire Police\").config(\"spark.jars.packages\",\"graphframes:graphframes:0.6.0-spark2.3-s_2.11\").enableHiveSupport().getOrCreate()\n",
    "\n",
    "sqlContext = SQLContext(spark)"
   ]
  },
  {
   "cell_type": "markdown",
   "metadata": {},
   "source": [
    "# Load the West Yorkshire Police dataset into rdd as one file"
   ]
  },
  {
   "cell_type": "code",
   "execution_count": 3,
   "metadata": {},
   "outputs": [],
   "source": [
    "# All the files downloaded from police site are loaded as a single file\n",
    "#Open source police data available from https://data.police.uk/data/\n",
    "\n",
    "Yorkshire_data = sc.wholeTextFiles(\"hdfs:///user/imat5322_208953/*west-yorkshire-street.csv\")\\\n",
    ".map(lambda x: x[1]).take(3)"
   ]
  },
  {
   "cell_type": "code",
   "execution_count": 4,
   "metadata": {},
   "outputs": [
    {
     "data": {
      "text/plain": [
       "list"
      ]
     },
     "execution_count": 4,
     "metadata": {},
     "output_type": "execute_result"
    }
   ],
   "source": [
    "type(Yorkshire_data)"
   ]
  },
  {
   "cell_type": "code",
   "execution_count": 5,
   "metadata": {},
   "outputs": [
    {
     "data": {
      "text/plain": [
       "3"
      ]
     },
     "execution_count": 5,
     "metadata": {},
     "output_type": "execute_result"
    }
   ],
   "source": [
    "# Covert the list data to an RDD\n",
    "RDD_Yorkshire = sc.parallelize(Yorkshire_data)\n",
    "\n",
    "#Get the count of the files\n",
    "RDD_Yorkshire.count()"
   ]
  },
  {
   "cell_type": "markdown",
   "metadata": {},
   "source": [
    "## Flatten the data out to have access per line and then per word"
   ]
  },
  {
   "cell_type": "code",
   "execution_count": 6,
   "metadata": {},
   "outputs": [],
   "source": [
    "# flatten the data out to handle data per line instead of per file\n",
    "RDD1_Yorkshire =RDD_Yorkshire.flatMap(lambda x: x.split('\\n'))"
   ]
  },
  {
   "cell_type": "code",
   "execution_count": 7,
   "metadata": {},
   "outputs": [
    {
     "data": {
      "text/plain": [
       "82584"
      ]
     },
     "execution_count": 7,
     "metadata": {},
     "output_type": "execute_result"
    }
   ],
   "source": [
    "#shows the number of lines\n",
    "RDD1_Yorkshire.count()"
   ]
  },
  {
   "cell_type": "code",
   "execution_count": 8,
   "metadata": {},
   "outputs": [
    {
     "data": {
      "text/plain": [
       "['Crime ID,Month,Reported by,Falls within,Longitude,Latitude,Location,LSOA code,LSOA name,Crime type,Last outcome category,Context\\r',\n",
       " '44e2ee4bdc8aab99b8d4fa1a0b6b4e260de4334e7dd381e6cae7e2ce31e0caa1,2019-02,West Yorkshire Police,West Yorkshire Police,-1.882481,53.924936,On or near Moorside Lane,E01010646,Bradford 001A,Other theft,Investigation complete; no suspect identified,\\r']"
      ]
     },
     "execution_count": 8,
     "metadata": {},
     "output_type": "execute_result"
    }
   ],
   "source": [
    "RDD1_Yorkshire.take(2)"
   ]
  },
  {
   "cell_type": "code",
   "execution_count": 9,
   "metadata": {},
   "outputs": [],
   "source": [
    "#split the line into words\n",
    "RDD2_Yorkshire = RDD1_Yorkshire.map(lambda x: x.split(\",\"))"
   ]
  },
  {
   "cell_type": "code",
   "execution_count": 10,
   "metadata": {},
   "outputs": [
    {
     "data": {
      "text/plain": [
       "[['Crime ID',\n",
       "  'Month',\n",
       "  'Reported by',\n",
       "  'Falls within',\n",
       "  'Longitude',\n",
       "  'Latitude',\n",
       "  'Location',\n",
       "  'LSOA code',\n",
       "  'LSOA name',\n",
       "  'Crime type',\n",
       "  'Last outcome category',\n",
       "  'Context\\r'],\n",
       " ['44e2ee4bdc8aab99b8d4fa1a0b6b4e260de4334e7dd381e6cae7e2ce31e0caa1',\n",
       "  '2019-02',\n",
       "  'West Yorkshire Police',\n",
       "  'West Yorkshire Police',\n",
       "  '-1.882481',\n",
       "  '53.924936',\n",
       "  'On or near Moorside Lane',\n",
       "  'E01010646',\n",
       "  'Bradford 001A',\n",
       "  'Other theft',\n",
       "  'Investigation complete; no suspect identified',\n",
       "  '\\r']]"
      ]
     },
     "execution_count": 10,
     "metadata": {},
     "output_type": "execute_result"
    }
   ],
   "source": [
    "RDD2_Yorkshire.take(2)"
   ]
  },
  {
   "cell_type": "markdown",
   "metadata": {},
   "source": [
    "## Data Cleansing and Preprocessing"
   ]
  },
  {
   "cell_type": "markdown",
   "metadata": {},
   "source": [
    "### Define Header"
   ]
  },
  {
   "cell_type": "code",
   "execution_count": 11,
   "metadata": {},
   "outputs": [],
   "source": [
    "#define Header from the RDD\n",
    "#Note: the RDD must be exactly the same as the other\n",
    "\n",
    "Header = RDD2_Yorkshire.first()"
   ]
  },
  {
   "cell_type": "code",
   "execution_count": 12,
   "metadata": {},
   "outputs": [
    {
     "data": {
      "text/plain": [
       "82584"
      ]
     },
     "execution_count": 12,
     "metadata": {},
     "output_type": "execute_result"
    }
   ],
   "source": [
    "#count the number of rows\n",
    "RDD2_Yorkshire.count()"
   ]
  },
  {
   "cell_type": "code",
   "execution_count": 13,
   "metadata": {},
   "outputs": [],
   "source": [
    "#filter out the header\n",
    "\n",
    "Yorkshirewithoutheader = RDD2_Yorkshire.filter(lambda x: x!=Header)"
   ]
  },
  {
   "cell_type": "code",
   "execution_count": 14,
   "metadata": {},
   "outputs": [
    {
     "data": {
      "text/plain": [
       "82581"
      ]
     },
     "execution_count": 14,
     "metadata": {},
     "output_type": "execute_result"
    }
   ],
   "source": [
    "#count the number of rows remain after removing header for confirmation\n",
    "Yorkshirewithoutheader.count()"
   ]
  },
  {
   "cell_type": "code",
   "execution_count": 15,
   "metadata": {},
   "outputs": [
    {
     "data": {
      "text/plain": [
       "['Crime ID',\n",
       " 'Month',\n",
       " 'Reported by',\n",
       " 'Falls within',\n",
       " 'Longitude',\n",
       " 'Latitude',\n",
       " 'Location',\n",
       " 'LSOA code',\n",
       " 'LSOA name',\n",
       " 'Crime type',\n",
       " 'Last outcome category',\n",
       " 'Context\\r']"
      ]
     },
     "execution_count": 15,
     "metadata": {},
     "output_type": "execute_result"
    }
   ],
   "source": [
    "#Check the header to be sure\n",
    "Header"
   ]
  },
  {
   "cell_type": "code",
   "execution_count": 16,
   "metadata": {
    "scrolled": true
   },
   "outputs": [
    {
     "data": {
      "text/plain": [
       "[['44e2ee4bdc8aab99b8d4fa1a0b6b4e260de4334e7dd381e6cae7e2ce31e0caa1',\n",
       "  '2019-02',\n",
       "  'West Yorkshire Police',\n",
       "  'West Yorkshire Police',\n",
       "  '-1.882481',\n",
       "  '53.924936',\n",
       "  'On or near Moorside Lane',\n",
       "  'E01010646',\n",
       "  'Bradford 001A',\n",
       "  'Other theft',\n",
       "  'Investigation complete; no suspect identified',\n",
       "  '\\r'],\n",
       " ['7f09f2c27d2a2e213cf67c2f031beba9335a8b83a2963d071541f133292b829e',\n",
       "  '2019-02',\n",
       "  'West Yorkshire Police',\n",
       "  'West Yorkshire Police',\n",
       "  '-1.879031',\n",
       "  '53.943807',\n",
       "  'On or near Cross End Fold',\n",
       "  'E01010646',\n",
       "  'Bradford 001A',\n",
       "  'Shoplifting',\n",
       "  'Investigation complete; no suspect identified',\n",
       "  '\\r']]"
      ]
     },
     "execution_count": 16,
     "metadata": {},
     "output_type": "execute_result"
    }
   ],
   "source": [
    "Yorkshirewithoutheader.take(2)"
   ]
  },
  {
   "cell_type": "code",
   "execution_count": 17,
   "metadata": {},
   "outputs": [],
   "source": [
    "# define the field types of the RDD using the map transformation\n",
    "# rename the fields i.e Crime ID becomes Crime_ID\n",
    "\n",
    "RDDYorkshire = Yorkshirewithoutheader.map(lambda x: Row(Crime_ID=x[0],Month=x[1],Reported_by=x[2],Falls_within=x[3],\\\n",
    "                                                        Longitude=x[4],Latitude=x[5],Location=x[6],LSOA_code=x[7],\\\n",
    "                                                        LSOA_name=x[8],Crime_type=x[9],Last_outcome_category=x[10],Context=x[11]))"
   ]
  },
  {
   "cell_type": "code",
   "execution_count": 18,
   "metadata": {},
   "outputs": [
    {
     "data": {
      "text/plain": [
       "[Row(Context='\\r', Crime_ID='44e2ee4bdc8aab99b8d4fa1a0b6b4e260de4334e7dd381e6cae7e2ce31e0caa1', Crime_type='Other theft', Falls_within='West Yorkshire Police', LSOA_code='E01010646', LSOA_name='Bradford 001A', Last_outcome_category='Investigation complete; no suspect identified', Latitude='53.924936', Location='On or near Moorside Lane', Longitude='-1.882481', Month='2019-02', Reported_by='West Yorkshire Police')]"
      ]
     },
     "execution_count": 18,
     "metadata": {},
     "output_type": "execute_result"
    }
   ],
   "source": [
    "RDDYorkshire.take(1)"
   ]
  },
  {
   "cell_type": "markdown",
   "metadata": {},
   "source": [
    "## Create Dataframe"
   ]
  },
  {
   "cell_type": "code",
   "execution_count": 19,
   "metadata": {},
   "outputs": [],
   "source": [
    "#create dataframe from the RDD\n",
    "DFYorkshire= sqlContext.createDataFrame(RDDYorkshire)"
   ]
  },
  {
   "cell_type": "code",
   "execution_count": 20,
   "metadata": {},
   "outputs": [
    {
     "name": "stdout",
     "output_type": "stream",
     "text": [
      "+-------+--------------------+--------------------+--------------------+---------+-------------+---------------------+---------+--------------------+---------+-------+--------------------+\n",
      "|Context|            Crime_ID|          Crime_type|        Falls_within|LSOA_code|    LSOA_name|Last_outcome_category| Latitude|            Location|Longitude|  Month|         Reported_by|\n",
      "+-------+--------------------+--------------------+--------------------+---------+-------------+---------------------+---------+--------------------+---------+-------+--------------------+\n",
      "|44e2ee4bdc8aab99b...|         Other theft|West Yorkshire Po...|E01010646|Bradford 001A| Investigation com...|53.924936|On or near Moorsi...|-1.882481|2019-02|West Yorkshire Po...|\n",
      "|7f09f2c27d2a2e213...|         Shoplifting|West Yorkshire Po...|E01010646|Bradford 001A| Investigation com...|53.943807|On or near Cross ...|-1.879031|2019-02|West Yorkshire Po...|\n",
      "|                    |Anti-social behav...|West Yorkshire Po...|E01010648|Bradford 001C|                     |53.943130|On or near Southf...|-1.885675|2019-02|West Yorkshire Po...|\n",
      "|                    |Anti-social behav...|West Yorkshire Po...|E01010692|Bradford 001D|                     |53.920696|On or near Crossb...|-1.819121|2019-02|West Yorkshire Po...|\n",
      "|9a6b44b74fa689377...|Criminal damage a...|West Yorkshire Po...|E01010692|Bradford 001D| Investigation com...|53.920583|On or near Craigl...|-1.815940|2019-02|West Yorkshire Po...|\n",
      "|712fc858a2e895b8c...|Criminal damage a...|West Yorkshire Po...|E01010692|Bradford 001D| Investigation com...|53.924664|On or near Shoppi...|-1.822332|2019-02|West Yorkshire Po...|\n",
      "|be807c24f6d9daa56...|        Public order|West Yorkshire Po...|E01010692|Bradford 001D| Further investiga...|53.920008|On or near Cragg ...|-1.788870|2019-02|West Yorkshire Po...|\n",
      "|e824a06bf16f344fa...|Theft from the pe...|West Yorkshire Po...|E01010692|Bradford 001D| Unable to prosecu...|53.924664|On or near Shoppi...|-1.822332|2019-02|West Yorkshire Po...|\n",
      "|5890b826c88a91d94...|Violence and sexu...|West Yorkshire Po...|E01010692|Bradford 001D| Investigation com...|53.923926|On or near Whitto...|-1.821620|2019-02|West Yorkshire Po...|\n",
      "|7d96aeed0a95fd41c...|Violence and sexu...|West Yorkshire Po...|E01010692|Bradford 001D| Investigation com...|53.922051|On or near Linnbu...|-1.823714|2019-02|West Yorkshire Po...|\n",
      "|b7e7db16460100172...|Violence and sexu...|West Yorkshire Po...|E01010692|Bradford 001D| Investigation com...|53.922177|On or near Belle Vue|-1.817790|2019-02|West Yorkshire Po...|\n",
      "|0bed67728017fac59...|            Burglary|West Yorkshire Po...|E01010691|Bradford 002A| Investigation com...|53.921908|On or near Wheatl...|-1.812599|2019-02|West Yorkshire Po...|\n",
      "|837c95417b507f390...|         Other theft|West Yorkshire Po...|E01010691|Bradford 002A| Unable to prosecu...|53.924004|On or near Manley...|-1.802402|2019-02|West Yorkshire Po...|\n",
      "|6e1cc73e58c1414cc...|         Shoplifting|West Yorkshire Po...|E01010691|Bradford 002A| Investigation com...|53.923969|On or near Spring...|-1.813930|2019-02|West Yorkshire Po...|\n",
      "|a672e8b0750f90b53...|       Vehicle crime|West Yorkshire Po...|E01010691|Bradford 002A| Investigation com...|53.923320|On or near Spring...|-1.812791|2019-02|West Yorkshire Po...|\n",
      "|dff4a64115145fb68...|Violence and sexu...|West Yorkshire Po...|E01010691|Bradford 002A| Unable to prosecu...|53.922048|On or near Connau...|-1.804620|2019-02|West Yorkshire Po...|\n",
      "|                    |Anti-social behav...|West Yorkshire Po...|E01010693|Bradford 002B|                     |53.927876|On or near Apple ...|-1.836923|2019-02|West Yorkshire Po...|\n",
      "|b61b8e3acb6fac2ee...|       Vehicle crime|West Yorkshire Po...|E01010693|Bradford 002B| Investigation com...|53.925197|On or near Dale C...|-1.843116|2019-02|West Yorkshire Po...|\n",
      "|863dc13eb1811d169...|Criminal damage a...|West Yorkshire Po...|E01010694|Bradford 002C| Unable to prosecu...|53.926859|On or near Back M...|-1.829557|2019-02|West Yorkshire Po...|\n",
      "|3eec94fa4d67f8b6e...|        Public order|West Yorkshire Po...|E01010694|Bradford 002C| Unable to prosecu...|53.928641|On or near Stocke...|-1.831240|2019-02|West Yorkshire Po...|\n",
      "+-------+--------------------+--------------------+--------------------+---------+-------------+---------------------+---------+--------------------+---------+-------+--------------------+\n",
      "only showing top 20 rows\n",
      "\n"
     ]
    }
   ],
   "source": [
    "DFYorkshire.show()"
   ]
  },
  {
   "cell_type": "code",
   "execution_count": 21,
   "metadata": {},
   "outputs": [
    {
     "name": "stdout",
     "output_type": "stream",
     "text": [
      "root\n",
      " |-- Context: string (nullable = true)\n",
      " |-- Crime_ID: string (nullable = true)\n",
      " |-- Crime_type: string (nullable = true)\n",
      " |-- Falls_within: string (nullable = true)\n",
      " |-- LSOA_code: string (nullable = true)\n",
      " |-- LSOA_name: string (nullable = true)\n",
      " |-- Last_outcome_category: string (nullable = true)\n",
      " |-- Latitude: string (nullable = true)\n",
      " |-- Location: string (nullable = true)\n",
      " |-- Longitude: string (nullable = true)\n",
      " |-- Month: string (nullable = true)\n",
      " |-- Reported_by: string (nullable = true)\n",
      "\n"
     ]
    }
   ],
   "source": [
    "#longitude and Latitude has been explicitly defined as Float\n",
    "\n",
    "DFYorkshire.printSchema()"
   ]
  },
  {
   "cell_type": "code",
   "execution_count": 22,
   "metadata": {},
   "outputs": [
    {
     "name": "stdout",
     "output_type": "stream",
     "text": [
      "+-------+--------------------+--------------------+--------------------+---------+-------------+---------------------+---------+--------------------+---------+-------+--------------------+\n",
      "|Context|            Crime_ID|          Crime_type|        Falls_within|LSOA_code|    LSOA_name|Last_outcome_category| Latitude|            Location|Longitude|  Month|         Reported_by|\n",
      "+-------+--------------------+--------------------+--------------------+---------+-------------+---------------------+---------+--------------------+---------+-------+--------------------+\n",
      "|44e2ee4bdc8aab99b...|         Other theft|West Yorkshire Po...|E01010646|Bradford 001A| Investigation com...|53.924936|On or near Moorsi...|-1.882481|2019-02|West Yorkshire Po...|\n",
      "|7f09f2c27d2a2e213...|         Shoplifting|West Yorkshire Po...|E01010646|Bradford 001A| Investigation com...|53.943807|On or near Cross ...|-1.879031|2019-02|West Yorkshire Po...|\n",
      "|                    |Anti-social behav...|West Yorkshire Po...|E01010648|Bradford 001C|                     |53.943130|On or near Southf...|-1.885675|2019-02|West Yorkshire Po...|\n",
      "|                    |Anti-social behav...|West Yorkshire Po...|E01010692|Bradford 001D|                     |53.920696|On or near Crossb...|-1.819121|2019-02|West Yorkshire Po...|\n",
      "|9a6b44b74fa689377...|Criminal damage a...|West Yorkshire Po...|E01010692|Bradford 001D| Investigation com...|53.920583|On or near Craigl...|-1.815940|2019-02|West Yorkshire Po...|\n",
      "|712fc858a2e895b8c...|Criminal damage a...|West Yorkshire Po...|E01010692|Bradford 001D| Investigation com...|53.924664|On or near Shoppi...|-1.822332|2019-02|West Yorkshire Po...|\n",
      "|be807c24f6d9daa56...|        Public order|West Yorkshire Po...|E01010692|Bradford 001D| Further investiga...|53.920008|On or near Cragg ...|-1.788870|2019-02|West Yorkshire Po...|\n",
      "|e824a06bf16f344fa...|Theft from the pe...|West Yorkshire Po...|E01010692|Bradford 001D| Unable to prosecu...|53.924664|On or near Shoppi...|-1.822332|2019-02|West Yorkshire Po...|\n",
      "|5890b826c88a91d94...|Violence and sexu...|West Yorkshire Po...|E01010692|Bradford 001D| Investigation com...|53.923926|On or near Whitto...|-1.821620|2019-02|West Yorkshire Po...|\n",
      "|7d96aeed0a95fd41c...|Violence and sexu...|West Yorkshire Po...|E01010692|Bradford 001D| Investigation com...|53.922051|On or near Linnbu...|-1.823714|2019-02|West Yorkshire Po...|\n",
      "|b7e7db16460100172...|Violence and sexu...|West Yorkshire Po...|E01010692|Bradford 001D| Investigation com...|53.922177|On or near Belle Vue|-1.817790|2019-02|West Yorkshire Po...|\n",
      "|0bed67728017fac59...|            Burglary|West Yorkshire Po...|E01010691|Bradford 002A| Investigation com...|53.921908|On or near Wheatl...|-1.812599|2019-02|West Yorkshire Po...|\n",
      "|837c95417b507f390...|         Other theft|West Yorkshire Po...|E01010691|Bradford 002A| Unable to prosecu...|53.924004|On or near Manley...|-1.802402|2019-02|West Yorkshire Po...|\n",
      "|6e1cc73e58c1414cc...|         Shoplifting|West Yorkshire Po...|E01010691|Bradford 002A| Investigation com...|53.923969|On or near Spring...|-1.813930|2019-02|West Yorkshire Po...|\n",
      "|a672e8b0750f90b53...|       Vehicle crime|West Yorkshire Po...|E01010691|Bradford 002A| Investigation com...|53.923320|On or near Spring...|-1.812791|2019-02|West Yorkshire Po...|\n",
      "|dff4a64115145fb68...|Violence and sexu...|West Yorkshire Po...|E01010691|Bradford 002A| Unable to prosecu...|53.922048|On or near Connau...|-1.804620|2019-02|West Yorkshire Po...|\n",
      "|                    |Anti-social behav...|West Yorkshire Po...|E01010693|Bradford 002B|                     |53.927876|On or near Apple ...|-1.836923|2019-02|West Yorkshire Po...|\n",
      "|b61b8e3acb6fac2ee...|       Vehicle crime|West Yorkshire Po...|E01010693|Bradford 002B| Investigation com...|53.925197|On or near Dale C...|-1.843116|2019-02|West Yorkshire Po...|\n",
      "|863dc13eb1811d169...|Criminal damage a...|West Yorkshire Po...|E01010694|Bradford 002C| Unable to prosecu...|53.926859|On or near Back M...|-1.829557|2019-02|West Yorkshire Po...|\n",
      "|3eec94fa4d67f8b6e...|        Public order|West Yorkshire Po...|E01010694|Bradford 002C| Unable to prosecu...|53.928641|On or near Stocke...|-1.831240|2019-02|West Yorkshire Po...|\n",
      "+-------+--------------------+--------------------+--------------------+---------+-------------+---------------------+---------+--------------------+---------+-------+--------------------+\n",
      "only showing top 20 rows\n",
      "\n"
     ]
    }
   ],
   "source": [
    "DFYorkshire.show()"
   ]
  },
  {
   "cell_type": "code",
   "execution_count": 23,
   "metadata": {},
   "outputs": [],
   "source": [
    "# create schema for only the fields that will be required for analysis\n",
    "# all other fields are dropped\n",
    "\n",
    "schema_Yorkshire = StructType([\\\n",
    "                          StructField('Month',         StringType(), True), \\\n",
    "                          StructField('Longitude',     StringType(), True), \\\n",
    "                          StructField('Latitude',      StringType(), True), \\\n",
    "                          StructField('Location',      StringType(), True), \\\n",
    "                          StructField('Crime_type',    StringType(), True), \\\n",
    "                          StructField('Outcome',       StringType(), True) ])"
   ]
  },
  {
   "cell_type": "code",
   "execution_count": 24,
   "metadata": {},
   "outputs": [],
   "source": [
    "# define the schema explicitly\n",
    "\n",
    "RDD_crime = Yorkshirewithoutheader.map(lambda x: \\\n",
    "                                       ((str(x[1]), str(x[4]), str(x[5]), \\\n",
    "                                         str(x[6]), str(x[9]),str(x[10]) )))"
   ]
  },
  {
   "cell_type": "code",
   "execution_count": 25,
   "metadata": {},
   "outputs": [
    {
     "data": {
      "text/plain": [
       "('2019-02',\n",
       " '-1.882481',\n",
       " '53.924936',\n",
       " 'On or near Moorside Lane',\n",
       " 'Other theft',\n",
       " 'Investigation complete; no suspect identified')"
      ]
     },
     "execution_count": 25,
     "metadata": {},
     "output_type": "execute_result"
    }
   ],
   "source": [
    "RDD_crime.first()"
   ]
  },
  {
   "cell_type": "code",
   "execution_count": 26,
   "metadata": {},
   "outputs": [
    {
     "data": {
      "text/plain": [
       "pyspark.rdd.PipelinedRDD"
      ]
     },
     "execution_count": 26,
     "metadata": {},
     "output_type": "execute_result"
    }
   ],
   "source": [
    "type(RDD_crime)"
   ]
  },
  {
   "cell_type": "code",
   "execution_count": 27,
   "metadata": {},
   "outputs": [],
   "source": [
    "# remove missing rows\n",
    "RDD_crime2 = RDD_crime.filter(lambda x: len(x) > 0) "
   ]
  },
  {
   "cell_type": "code",
   "execution_count": 28,
   "metadata": {},
   "outputs": [
    {
     "data": {
      "text/plain": [
       "('2019-02',\n",
       " '-1.882481',\n",
       " '53.924936',\n",
       " 'On or near Moorside Lane',\n",
       " 'Other theft',\n",
       " 'Investigation complete; no suspect identified')"
      ]
     },
     "execution_count": 28,
     "metadata": {},
     "output_type": "execute_result"
    }
   ],
   "source": [
    "RDD_crime2.first()"
   ]
  },
  {
   "cell_type": "code",
   "execution_count": 29,
   "metadata": {},
   "outputs": [
    {
     "data": {
      "text/plain": [
       "DataFrame[Month: string, Longitude: string, Latitude: string, Location: string, Crime_type: string, Outcome: string]"
      ]
     },
     "execution_count": 29,
     "metadata": {},
     "output_type": "execute_result"
    }
   ],
   "source": [
    "#create dataframe using schema\n",
    "\n",
    "DF_crime = sqlContext.createDataFrame(RDD_crime2, schema_Yorkshire)\n",
    "\n",
    "DF_crime"
   ]
  },
  {
   "cell_type": "code",
   "execution_count": 30,
   "metadata": {},
   "outputs": [
    {
     "name": "stdout",
     "output_type": "stream",
     "text": [
      "+-------+---------+---------+--------------------+--------------------+--------------------+\n",
      "|  Month|Longitude| Latitude|            Location|          Crime_type|             Outcome|\n",
      "+-------+---------+---------+--------------------+--------------------+--------------------+\n",
      "|2019-02|-1.882481|53.924936|On or near Moorsi...|         Other theft|Investigation com...|\n",
      "|2019-02|-1.879031|53.943807|On or near Cross ...|         Shoplifting|Investigation com...|\n",
      "|2019-02|-1.885675|53.943130|On or near Southf...|Anti-social behav...|                    |\n",
      "|2019-02|-1.819121|53.920696|On or near Crossb...|Anti-social behav...|                    |\n",
      "|2019-02|-1.815940|53.920583|On or near Craigl...|Criminal damage a...|Investigation com...|\n",
      "|2019-02|-1.822332|53.924664|On or near Shoppi...|Criminal damage a...|Investigation com...|\n",
      "|2019-02|-1.788870|53.920008|On or near Cragg ...|        Public order|Further investiga...|\n",
      "|2019-02|-1.822332|53.924664|On or near Shoppi...|Theft from the pe...|Unable to prosecu...|\n",
      "|2019-02|-1.821620|53.923926|On or near Whitto...|Violence and sexu...|Investigation com...|\n",
      "|2019-02|-1.823714|53.922051|On or near Linnbu...|Violence and sexu...|Investigation com...|\n",
      "|2019-02|-1.817790|53.922177|On or near Belle Vue|Violence and sexu...|Investigation com...|\n",
      "|2019-02|-1.812599|53.921908|On or near Wheatl...|            Burglary|Investigation com...|\n",
      "|2019-02|-1.802402|53.924004|On or near Manley...|         Other theft|Unable to prosecu...|\n",
      "|2019-02|-1.813930|53.923969|On or near Spring...|         Shoplifting|Investigation com...|\n",
      "|2019-02|-1.812791|53.923320|On or near Spring...|       Vehicle crime|Investigation com...|\n",
      "|2019-02|-1.804620|53.922048|On or near Connau...|Violence and sexu...|Unable to prosecu...|\n",
      "|2019-02|-1.836923|53.927876|On or near Apple ...|Anti-social behav...|                    |\n",
      "|2019-02|-1.843116|53.925197|On or near Dale C...|       Vehicle crime|Investigation com...|\n",
      "|2019-02|-1.829557|53.926859|On or near Back M...|Criminal damage a...|Unable to prosecu...|\n",
      "|2019-02|-1.831240|53.928641|On or near Stocke...|        Public order|Unable to prosecu...|\n",
      "+-------+---------+---------+--------------------+--------------------+--------------------+\n",
      "only showing top 20 rows\n",
      "\n"
     ]
    }
   ],
   "source": [
    "DF_crime.show()"
   ]
  },
  {
   "cell_type": "code",
   "execution_count": 31,
   "metadata": {},
   "outputs": [],
   "source": [
    "#Convert datatype from string to float\n",
    "\n",
    "DF_crime1=DF_crime.withColumn(\"Latitude\",DF_crime[\"Latitude\"].cast(FloatType()))\n",
    "DF_crime2=DF_crime1.withColumn(\"Longitude\",DF_crime1[\"Longitude\"].cast(FloatType()))"
   ]
  },
  {
   "cell_type": "markdown",
   "metadata": {},
   "source": [
    "## Register Temporary Table to run queries"
   ]
  },
  {
   "cell_type": "code",
   "execution_count": 32,
   "metadata": {},
   "outputs": [],
   "source": [
    "#register the dataframe as a table\n",
    "\n",
    "sqlContext.registerDataFrameAsTable(DF_crime2, \"Data_Table\")"
   ]
  },
  {
   "cell_type": "code",
   "execution_count": 33,
   "metadata": {},
   "outputs": [
    {
     "name": "stdout",
     "output_type": "stream",
     "text": [
      "+-------+---------+---------+--------------------+--------------------+--------------------+\n",
      "|  Month|Longitude| Latitude|            Location|          Crime_type|             Outcome|\n",
      "+-------+---------+---------+--------------------+--------------------+--------------------+\n",
      "|2019-02|-1.882481|53.924934|On or near Moorsi...|         Other theft|Investigation com...|\n",
      "|2019-02|-1.879031|53.943806|On or near Cross ...|         Shoplifting|Investigation com...|\n",
      "|2019-02|-1.885675| 53.94313|On or near Southf...|Anti-social behav...|                    |\n",
      "|2019-02|-1.819121|53.920696|On or near Crossb...|Anti-social behav...|                    |\n",
      "|2019-02| -1.81594| 53.92058|On or near Craigl...|Criminal damage a...|Investigation com...|\n",
      "|2019-02|-1.822332|53.924664|On or near Shoppi...|Criminal damage a...|Investigation com...|\n",
      "|2019-02| -1.78887| 53.92001|On or near Cragg ...|        Public order|Further investiga...|\n",
      "|2019-02|-1.822332|53.924664|On or near Shoppi...|Theft from the pe...|Unable to prosecu...|\n",
      "|2019-02| -1.82162|53.923927|On or near Whitto...|Violence and sexu...|Investigation com...|\n",
      "|2019-02|-1.823714| 53.92205|On or near Linnbu...|Violence and sexu...|Investigation com...|\n",
      "|2019-02| -1.81779|53.922176|On or near Belle Vue|Violence and sexu...|Investigation com...|\n",
      "|2019-02|-1.812599| 53.92191|On or near Wheatl...|            Burglary|Investigation com...|\n",
      "|2019-02|-1.802402|53.924004|On or near Manley...|         Other theft|Unable to prosecu...|\n",
      "|2019-02| -1.81393| 53.92397|On or near Spring...|         Shoplifting|Investigation com...|\n",
      "|2019-02|-1.812791| 53.92332|On or near Spring...|       Vehicle crime|Investigation com...|\n",
      "|2019-02| -1.80462|53.922047|On or near Connau...|Violence and sexu...|Unable to prosecu...|\n",
      "|2019-02|-1.836923|53.927876|On or near Apple ...|Anti-social behav...|                    |\n",
      "|2019-02|-1.843116|53.925198|On or near Dale C...|       Vehicle crime|Investigation com...|\n",
      "|2019-02|-1.829557| 53.92686|On or near Back M...|Criminal damage a...|Unable to prosecu...|\n",
      "|2019-02| -1.83124|53.928642|On or near Stocke...|        Public order|Unable to prosecu...|\n",
      "+-------+---------+---------+--------------------+--------------------+--------------------+\n",
      "only showing top 20 rows\n",
      "\n"
     ]
    }
   ],
   "source": [
    "sqlContext.sql(\"SELECT * FROM Data_Table\").show()"
   ]
  },
  {
   "cell_type": "code",
   "execution_count": 34,
   "metadata": {},
   "outputs": [
    {
     "name": "stdout",
     "output_type": "stream",
     "text": [
      "+-------+--------------------+\n",
      "|  Month|          Crime_type|\n",
      "+-------+--------------------+\n",
      "|2019-02|         Other theft|\n",
      "|2019-02|         Shoplifting|\n",
      "|2019-02|Anti-social behav...|\n",
      "|2019-02|Anti-social behav...|\n",
      "|2019-02|Criminal damage a...|\n",
      "|2019-02|Criminal damage a...|\n",
      "|2019-02|        Public order|\n",
      "|2019-02|Theft from the pe...|\n",
      "|2019-02|Violence and sexu...|\n",
      "|2019-02|Violence and sexu...|\n",
      "|2019-02|Violence and sexu...|\n",
      "|2019-02|            Burglary|\n",
      "|2019-02|         Other theft|\n",
      "|2019-02|         Shoplifting|\n",
      "|2019-02|       Vehicle crime|\n",
      "|2019-02|Violence and sexu...|\n",
      "|2019-02|Anti-social behav...|\n",
      "|2019-02|       Vehicle crime|\n",
      "|2019-02|Criminal damage a...|\n",
      "|2019-02|        Public order|\n",
      "+-------+--------------------+\n",
      "only showing top 20 rows\n",
      "\n"
     ]
    }
   ],
   "source": [
    "sqlContext.sql(\"select Month, Crime_type from Data_Table\").show()"
   ]
  },
  {
   "cell_type": "markdown",
   "metadata": {},
   "source": [
    "# Create Police DataFrame directly from Police dataset csv files"
   ]
  },
  {
   "cell_type": "code",
   "execution_count": 35,
   "metadata": {},
   "outputs": [],
   "source": [
    "#create a DataFrame directly from Police dataset csv files \n",
    "\n",
    "PoliceYorkDF = spark.read.option(\"header\", \"true\").option(\"delimiter\", \",\")\\\n",
    ".option(\"inferSchema\", \"true\").csv(\"hdfs:///user/imat5322_208953/*west-yorkshire-street.csv\")"
   ]
  },
  {
   "cell_type": "code",
   "execution_count": 36,
   "metadata": {},
   "outputs": [
    {
     "data": {
      "text/plain": [
       "DataFrame[Crime ID: string, Month: string, Reported by: string, Falls within: string, Longitude: double, Latitude: double, Location: string, LSOA code: string, LSOA name: string, Crime type: string, Last outcome category: string, Context: string]"
      ]
     },
     "execution_count": 36,
     "metadata": {},
     "output_type": "execute_result"
    }
   ],
   "source": [
    "PoliceYorkDF"
   ]
  },
  {
   "cell_type": "code",
   "execution_count": 37,
   "metadata": {
    "scrolled": true
   },
   "outputs": [
    {
     "name": "stdout",
     "output_type": "stream",
     "text": [
      "+--------------------+-------+--------------------+--------------------+---------+---------+--------------------+---------+-------------+--------------------+---------------------+-------+\n",
      "|            Crime ID|  Month|         Reported by|        Falls within|Longitude| Latitude|            Location|LSOA code|    LSOA name|          Crime type|Last outcome category|Context|\n",
      "+--------------------+-------+--------------------+--------------------+---------+---------+--------------------+---------+-------------+--------------------+---------------------+-------+\n",
      "|                null|2019-07|West Yorkshire Po...|West Yorkshire Po...|-1.549301|53.601233|On or near Haigh ...|E01007359|Barnsley 005C|Anti-social behav...|                 null|   null|\n",
      "|58fb6b2b1823cf399...|2019-07|West Yorkshire Po...|West Yorkshire Po...|-1.647108| 53.52783|On or near Tenter...|E01007428|Barnsley 024B|            Burglary| Investigation com...|   null|\n",
      "|                null|2019-07|West Yorkshire Po...|West Yorkshire Po...|-1.882153|53.944205|On or near Parkin...|E01010646|Bradford 001A|Anti-social behav...|                 null|   null|\n",
      "|e43ae794d32250268...|2019-07|West Yorkshire Po...|West Yorkshire Po...|-1.863065|53.939035| On or near Low Mill|E01010646|Bradford 001A|Violence and sexu...| Unable to prosecu...|   null|\n",
      "|                null|2019-07|West Yorkshire Po...|West Yorkshire Po...|-1.822203|53.922867|On or near Annand...|E01010692|Bradford 001D|Anti-social behav...|                 null|   null|\n",
      "|                null|2019-07|West Yorkshire Po...|West Yorkshire Po...|-1.785872|53.928739|On or near Sports...|E01010692|Bradford 001D|Anti-social behav...|                 null|   null|\n",
      "|                null|2019-07|West Yorkshire Po...|West Yorkshire Po...| -1.81594|53.920583|On or near Craigl...|E01010692|Bradford 001D|Anti-social behav...|                 null|   null|\n",
      "|                null|2019-07|West Yorkshire Po...|West Yorkshire Po...|-1.785872|53.928739|On or near Sports...|E01010692|Bradford 001D|Anti-social behav...|                 null|   null|\n",
      "|aecf8cb6d7cd27b3f...|2019-07|West Yorkshire Po...|West Yorkshire Po...| -1.81779|53.922177|On or near Belle Vue|E01010692|Bradford 001D|            Burglary| Investigation com...|   null|\n",
      "|bb476a1bad313c0b3...|2019-07|West Yorkshire Po...|West Yorkshire Po...| -1.78887|53.920008|On or near Cragg ...|E01010692|Bradford 001D|             Robbery| Investigation com...|   null|\n",
      "|c638cace6dd0c4f38...|2019-07|West Yorkshire Po...|West Yorkshire Po...|-1.825657|53.919789|On or near Brodri...|E01010692|Bradford 001D|       Vehicle crime| Investigation com...|   null|\n",
      "|b7ceb6a69fc98b776...|2019-07|West Yorkshire Po...|West Yorkshire Po...|-1.833073|53.919674|On or near Pinewo...|E01010692|Bradford 001D|       Vehicle crime| Investigation com...|   null|\n",
      "|36bc77bef1a074b54...|2019-07|West Yorkshire Po...|West Yorkshire Po...|-1.825657|53.919789|On or near Brodri...|E01010692|Bradford 001D|       Vehicle crime| Investigation com...|   null|\n",
      "|f578341ffe80809f8...|2019-07|West Yorkshire Po...|West Yorkshire Po...|-1.821724|53.924412|On or near Statio...|E01010692|Bradford 001D|Violence and sexu...| Unable to prosecu...|   null|\n",
      "|e7abf0b7c3b60383f...|2019-07|West Yorkshire Po...|West Yorkshire Po...|-1.821724|53.924412|On or near Statio...|E01010692|Bradford 001D|Violence and sexu...| Unable to prosecu...|   null|\n",
      "|b110d856e54704a56...|2019-07|West Yorkshire Po...|West Yorkshire Po...|-1.822332|53.924664|On or near Shoppi...|E01010692|Bradford 001D|Violence and sexu...| Investigation com...|   null|\n",
      "|                null|2019-07|West Yorkshire Po...|West Yorkshire Po...|-1.809774|53.920358|On or near Ryedal...|E01010691|Bradford 002A|Anti-social behav...|                 null|   null|\n",
      "|                null|2019-07|West Yorkshire Po...|West Yorkshire Po...|-1.800464| 53.91868|On or near Underc...|E01010691|Bradford 002A|Anti-social behav...|                 null|   null|\n",
      "|                null|2019-07|West Yorkshire Po...|West Yorkshire Po...|-1.812791| 53.92332|On or near Spring...|E01010691|Bradford 002A|Anti-social behav...|                 null|   null|\n",
      "|359e08209df40d9cf...|2019-07|West Yorkshire Po...|West Yorkshire Po...|-1.812599|53.921908|On or near Wheatl...|E01010691|Bradford 002A|Criminal damage a...| Investigation com...|   null|\n",
      "+--------------------+-------+--------------------+--------------------+---------+---------+--------------------+---------+-------------+--------------------+---------------------+-------+\n",
      "only showing top 20 rows\n",
      "\n"
     ]
    }
   ],
   "source": [
    "PoliceYorkDF.show()"
   ]
  },
  {
   "cell_type": "markdown",
   "metadata": {},
   "source": [
    "# Data Cleansing and Preprocessing"
   ]
  },
  {
   "cell_type": "code",
   "execution_count": 38,
   "metadata": {},
   "outputs": [
    {
     "name": "stdout",
     "output_type": "stream",
     "text": [
      "root\n",
      " |-- Crime ID: string (nullable = true)\n",
      " |-- Month: string (nullable = true)\n",
      " |-- Reported by: string (nullable = true)\n",
      " |-- Falls within: string (nullable = true)\n",
      " |-- Longitude: double (nullable = true)\n",
      " |-- Latitude: double (nullable = true)\n",
      " |-- Location: string (nullable = true)\n",
      " |-- LSOA code: string (nullable = true)\n",
      " |-- LSOA name: string (nullable = true)\n",
      " |-- Crime type: string (nullable = true)\n",
      " |-- Last outcome category: string (nullable = true)\n",
      " |-- Context: string (nullable = true)\n",
      "\n"
     ]
    }
   ],
   "source": [
    "PoliceYorkDF.printSchema()"
   ]
  },
  {
   "cell_type": "code",
   "execution_count": 39,
   "metadata": {},
   "outputs": [],
   "source": [
    "#Change column names to a single word to make them neater\n",
    "#change Month to Date to easily split it in the code below\n",
    "\n",
    "PoliceYorkDF=PoliceYorkDF.withColumnRenamed('Crime ID', 'Crime_ID')\n",
    "PoliceYorkDF=PoliceYorkDF.withColumnRenamed('Reported by', 'Reported_by')\n",
    "PoliceYorkDF=PoliceYorkDF.withColumnRenamed('Falls within', 'Falls_within')\n",
    "PoliceYorkDF=PoliceYorkDF.withColumnRenamed('LSOA code', 'LSOA_code')\n",
    "PoliceYorkDF=PoliceYorkDF.withColumnRenamed('LSOA name', 'LSOA_name')\n",
    "PoliceYorkDF=PoliceYorkDF.withColumnRenamed('Crime type', 'Crime_type')\n",
    "PoliceYorkDF=PoliceYorkDF.withColumnRenamed('Reported by', 'Reported_by')\n",
    "PoliceYorkDF=PoliceYorkDF.withColumnRenamed('Last outcome category', 'Last_outcome_category')"
   ]
  },
  {
   "cell_type": "code",
   "execution_count": 40,
   "metadata": {},
   "outputs": [
    {
     "name": "stdout",
     "output_type": "stream",
     "text": [
      "+-------+--------------------+---------+---------+--------------------+--------------------+---------------------+\n",
      "|   Date|         Reported_by|Longitude| Latitude|            Location|          Crime_type|Last_outcome_category|\n",
      "+-------+--------------------+---------+---------+--------------------+--------------------+---------------------+\n",
      "|2019-07|West Yorkshire Po...|-1.549301|53.601233|On or near Haigh ...|Anti-social behav...|                 null|\n",
      "|2019-07|West Yorkshire Po...|-1.647108| 53.52783|On or near Tenter...|            Burglary| Investigation com...|\n",
      "|2019-07|West Yorkshire Po...|-1.882153|53.944205|On or near Parkin...|Anti-social behav...|                 null|\n",
      "|2019-07|West Yorkshire Po...|-1.863065|53.939035| On or near Low Mill|Violence and sexu...| Unable to prosecu...|\n",
      "|2019-07|West Yorkshire Po...|-1.822203|53.922867|On or near Annand...|Anti-social behav...|                 null|\n",
      "|2019-07|West Yorkshire Po...|-1.785872|53.928739|On or near Sports...|Anti-social behav...|                 null|\n",
      "|2019-07|West Yorkshire Po...| -1.81594|53.920583|On or near Craigl...|Anti-social behav...|                 null|\n",
      "|2019-07|West Yorkshire Po...|-1.785872|53.928739|On or near Sports...|Anti-social behav...|                 null|\n",
      "|2019-07|West Yorkshire Po...| -1.81779|53.922177|On or near Belle Vue|            Burglary| Investigation com...|\n",
      "|2019-07|West Yorkshire Po...| -1.78887|53.920008|On or near Cragg ...|             Robbery| Investigation com...|\n",
      "|2019-07|West Yorkshire Po...|-1.825657|53.919789|On or near Brodri...|       Vehicle crime| Investigation com...|\n",
      "|2019-07|West Yorkshire Po...|-1.833073|53.919674|On or near Pinewo...|       Vehicle crime| Investigation com...|\n",
      "|2019-07|West Yorkshire Po...|-1.825657|53.919789|On or near Brodri...|       Vehicle crime| Investigation com...|\n",
      "|2019-07|West Yorkshire Po...|-1.821724|53.924412|On or near Statio...|Violence and sexu...| Unable to prosecu...|\n",
      "|2019-07|West Yorkshire Po...|-1.821724|53.924412|On or near Statio...|Violence and sexu...| Unable to prosecu...|\n",
      "|2019-07|West Yorkshire Po...|-1.822332|53.924664|On or near Shoppi...|Violence and sexu...| Investigation com...|\n",
      "|2019-07|West Yorkshire Po...|-1.809774|53.920358|On or near Ryedal...|Anti-social behav...|                 null|\n",
      "|2019-07|West Yorkshire Po...|-1.800464| 53.91868|On or near Underc...|Anti-social behav...|                 null|\n",
      "|2019-07|West Yorkshire Po...|-1.812791| 53.92332|On or near Spring...|Anti-social behav...|                 null|\n",
      "|2019-07|West Yorkshire Po...|-1.812599|53.921908|On or near Wheatl...|Criminal damage a...| Investigation com...|\n",
      "+-------+--------------------+---------+---------+--------------------+--------------------+---------------------+\n",
      "only showing top 20 rows\n",
      "\n"
     ]
    }
   ],
   "source": [
    "#Drop irrelevant and duplicate variables\n",
    "PoliceYorkDF1 = PoliceYorkDF.drop(\"Crime_ID\", \"Falls_within\", \"Context\", \"LSOA_code\", \"LSOA_name\")\n",
    "\n",
    "#rename Month to Date for easy splitting of year and month\n",
    "PoliceYorkDF2=PoliceYorkDF1.withColumnRenamed('Month', 'Date')\n",
    "PoliceYorkDF2.show()"
   ]
  },
  {
   "cell_type": "code",
   "execution_count": 41,
   "metadata": {},
   "outputs": [
    {
     "name": "stdout",
     "output_type": "stream",
     "text": [
      "+--------------------+---------+---------+--------------------+--------------------+---------------------+----+-----+\n",
      "|         Reported_by|Longitude| Latitude|            Location|          Crime_type|Last_outcome_category|year|month|\n",
      "+--------------------+---------+---------+--------------------+--------------------+---------------------+----+-----+\n",
      "|West Yorkshire Po...|-1.549301|53.601233|On or near Haigh ...|Anti-social behav...|                 null|2019|    7|\n",
      "|West Yorkshire Po...|-1.647108| 53.52783|On or near Tenter...|            Burglary| Investigation com...|2019|    7|\n",
      "|West Yorkshire Po...|-1.882153|53.944205|On or near Parkin...|Anti-social behav...|                 null|2019|    7|\n",
      "|West Yorkshire Po...|-1.863065|53.939035| On or near Low Mill|Violence and sexu...| Unable to prosecu...|2019|    7|\n",
      "|West Yorkshire Po...|-1.822203|53.922867|On or near Annand...|Anti-social behav...|                 null|2019|    7|\n",
      "|West Yorkshire Po...|-1.785872|53.928739|On or near Sports...|Anti-social behav...|                 null|2019|    7|\n",
      "|West Yorkshire Po...| -1.81594|53.920583|On or near Craigl...|Anti-social behav...|                 null|2019|    7|\n",
      "|West Yorkshire Po...|-1.785872|53.928739|On or near Sports...|Anti-social behav...|                 null|2019|    7|\n",
      "|West Yorkshire Po...| -1.81779|53.922177|On or near Belle Vue|            Burglary| Investigation com...|2019|    7|\n",
      "|West Yorkshire Po...| -1.78887|53.920008|On or near Cragg ...|             Robbery| Investigation com...|2019|    7|\n",
      "|West Yorkshire Po...|-1.825657|53.919789|On or near Brodri...|       Vehicle crime| Investigation com...|2019|    7|\n",
      "|West Yorkshire Po...|-1.833073|53.919674|On or near Pinewo...|       Vehicle crime| Investigation com...|2019|    7|\n",
      "|West Yorkshire Po...|-1.825657|53.919789|On or near Brodri...|       Vehicle crime| Investigation com...|2019|    7|\n",
      "|West Yorkshire Po...|-1.821724|53.924412|On or near Statio...|Violence and sexu...| Unable to prosecu...|2019|    7|\n",
      "|West Yorkshire Po...|-1.821724|53.924412|On or near Statio...|Violence and sexu...| Unable to prosecu...|2019|    7|\n",
      "|West Yorkshire Po...|-1.822332|53.924664|On or near Shoppi...|Violence and sexu...| Investigation com...|2019|    7|\n",
      "|West Yorkshire Po...|-1.809774|53.920358|On or near Ryedal...|Anti-social behav...|                 null|2019|    7|\n",
      "|West Yorkshire Po...|-1.800464| 53.91868|On or near Underc...|Anti-social behav...|                 null|2019|    7|\n",
      "|West Yorkshire Po...|-1.812791| 53.92332|On or near Spring...|Anti-social behav...|                 null|2019|    7|\n",
      "|West Yorkshire Po...|-1.812599|53.921908|On or near Wheatl...|Criminal damage a...| Investigation com...|2019|    7|\n",
      "+--------------------+---------+---------+--------------------+--------------------+---------------------+----+-----+\n",
      "only showing top 20 rows\n",
      "\n"
     ]
    }
   ],
   "source": [
    "#Create new columns (year,month) \n",
    "PoliceYorkDF3=PoliceYorkDF2.withColumn(\"year\", year(PoliceYorkDF2.Date))\n",
    "PoliceYorkDF4=PoliceYorkDF3.withColumn(\"month\", month(PoliceYorkDF3.Date)).drop(\"Date\")\n",
    "\n",
    "\n",
    "PoliceYorkDF4.show()"
   ]
  },
  {
   "cell_type": "markdown",
   "metadata": {},
   "source": [
    "## Output to Pandas for futher analysis"
   ]
  },
  {
   "cell_type": "code",
   "execution_count": 42,
   "metadata": {},
   "outputs": [
    {
     "data": {
      "text/html": [
       "<div>\n",
       "<style scoped>\n",
       "    .dataframe tbody tr th:only-of-type {\n",
       "        vertical-align: middle;\n",
       "    }\n",
       "\n",
       "    .dataframe tbody tr th {\n",
       "        vertical-align: top;\n",
       "    }\n",
       "\n",
       "    .dataframe thead th {\n",
       "        text-align: right;\n",
       "    }\n",
       "</style>\n",
       "<table border=\"1\" class=\"dataframe\">\n",
       "  <thead>\n",
       "    <tr style=\"text-align: right;\">\n",
       "      <th></th>\n",
       "      <th>Reported_by</th>\n",
       "      <th>Longitude</th>\n",
       "      <th>Latitude</th>\n",
       "      <th>Location</th>\n",
       "      <th>Crime_type</th>\n",
       "      <th>Last_outcome_category</th>\n",
       "      <th>year</th>\n",
       "      <th>month</th>\n",
       "    </tr>\n",
       "  </thead>\n",
       "  <tbody>\n",
       "    <tr>\n",
       "      <th>0</th>\n",
       "      <td>False</td>\n",
       "      <td>False</td>\n",
       "      <td>False</td>\n",
       "      <td>False</td>\n",
       "      <td>False</td>\n",
       "      <td>True</td>\n",
       "      <td>False</td>\n",
       "      <td>False</td>\n",
       "    </tr>\n",
       "    <tr>\n",
       "      <th>1</th>\n",
       "      <td>False</td>\n",
       "      <td>False</td>\n",
       "      <td>False</td>\n",
       "      <td>False</td>\n",
       "      <td>False</td>\n",
       "      <td>False</td>\n",
       "      <td>False</td>\n",
       "      <td>False</td>\n",
       "    </tr>\n",
       "    <tr>\n",
       "      <th>2</th>\n",
       "      <td>False</td>\n",
       "      <td>False</td>\n",
       "      <td>False</td>\n",
       "      <td>False</td>\n",
       "      <td>False</td>\n",
       "      <td>True</td>\n",
       "      <td>False</td>\n",
       "      <td>False</td>\n",
       "    </tr>\n",
       "    <tr>\n",
       "      <th>3</th>\n",
       "      <td>False</td>\n",
       "      <td>False</td>\n",
       "      <td>False</td>\n",
       "      <td>False</td>\n",
       "      <td>False</td>\n",
       "      <td>False</td>\n",
       "      <td>False</td>\n",
       "      <td>False</td>\n",
       "    </tr>\n",
       "    <tr>\n",
       "      <th>4</th>\n",
       "      <td>False</td>\n",
       "      <td>False</td>\n",
       "      <td>False</td>\n",
       "      <td>False</td>\n",
       "      <td>False</td>\n",
       "      <td>True</td>\n",
       "      <td>False</td>\n",
       "      <td>False</td>\n",
       "    </tr>\n",
       "    <tr>\n",
       "      <th>...</th>\n",
       "      <td>...</td>\n",
       "      <td>...</td>\n",
       "      <td>...</td>\n",
       "      <td>...</td>\n",
       "      <td>...</td>\n",
       "      <td>...</td>\n",
       "      <td>...</td>\n",
       "      <td>...</td>\n",
       "    </tr>\n",
       "    <tr>\n",
       "      <th>948659</th>\n",
       "      <td>False</td>\n",
       "      <td>True</td>\n",
       "      <td>True</td>\n",
       "      <td>False</td>\n",
       "      <td>False</td>\n",
       "      <td>False</td>\n",
       "      <td>False</td>\n",
       "      <td>False</td>\n",
       "    </tr>\n",
       "    <tr>\n",
       "      <th>948660</th>\n",
       "      <td>False</td>\n",
       "      <td>True</td>\n",
       "      <td>True</td>\n",
       "      <td>False</td>\n",
       "      <td>False</td>\n",
       "      <td>False</td>\n",
       "      <td>False</td>\n",
       "      <td>False</td>\n",
       "    </tr>\n",
       "    <tr>\n",
       "      <th>948661</th>\n",
       "      <td>False</td>\n",
       "      <td>True</td>\n",
       "      <td>True</td>\n",
       "      <td>False</td>\n",
       "      <td>False</td>\n",
       "      <td>False</td>\n",
       "      <td>False</td>\n",
       "      <td>False</td>\n",
       "    </tr>\n",
       "    <tr>\n",
       "      <th>948662</th>\n",
       "      <td>False</td>\n",
       "      <td>True</td>\n",
       "      <td>True</td>\n",
       "      <td>False</td>\n",
       "      <td>False</td>\n",
       "      <td>False</td>\n",
       "      <td>False</td>\n",
       "      <td>False</td>\n",
       "    </tr>\n",
       "    <tr>\n",
       "      <th>948663</th>\n",
       "      <td>False</td>\n",
       "      <td>True</td>\n",
       "      <td>True</td>\n",
       "      <td>False</td>\n",
       "      <td>False</td>\n",
       "      <td>False</td>\n",
       "      <td>False</td>\n",
       "      <td>False</td>\n",
       "    </tr>\n",
       "  </tbody>\n",
       "</table>\n",
       "<p>948664 rows × 8 columns</p>\n",
       "</div>"
      ],
      "text/plain": [
       "        Reported_by  Longitude  Latitude  Location  Crime_type  \\\n",
       "0             False      False     False     False       False   \n",
       "1             False      False     False     False       False   \n",
       "2             False      False     False     False       False   \n",
       "3             False      False     False     False       False   \n",
       "4             False      False     False     False       False   \n",
       "...             ...        ...       ...       ...         ...   \n",
       "948659        False       True      True     False       False   \n",
       "948660        False       True      True     False       False   \n",
       "948661        False       True      True     False       False   \n",
       "948662        False       True      True     False       False   \n",
       "948663        False       True      True     False       False   \n",
       "\n",
       "        Last_outcome_category   year  month  \n",
       "0                        True  False  False  \n",
       "1                       False  False  False  \n",
       "2                        True  False  False  \n",
       "3                       False  False  False  \n",
       "4                        True  False  False  \n",
       "...                       ...    ...    ...  \n",
       "948659                  False  False  False  \n",
       "948660                  False  False  False  \n",
       "948661                  False  False  False  \n",
       "948662                  False  False  False  \n",
       "948663                  False  False  False  \n",
       "\n",
       "[948664 rows x 8 columns]"
      ]
     },
     "execution_count": 42,
     "metadata": {},
     "output_type": "execute_result"
    }
   ],
   "source": [
    "# Identifiy missing values\n",
    "pdNull = PoliceYorkDF4.toPandas()\n",
    "\n",
    "pdNull.isnull()"
   ]
  },
  {
   "cell_type": "code",
   "execution_count": 43,
   "metadata": {},
   "outputs": [
    {
     "data": {
      "text/plain": [
       "24232"
      ]
     },
     "execution_count": 43,
     "metadata": {},
     "output_type": "execute_result"
    }
   ],
   "source": [
    "#checking for the total number of missing values in column with 'True' \n",
    "\n",
    "PoliceYorkDF4.filter(\"Longitude is NULL\").count()"
   ]
  },
  {
   "cell_type": "code",
   "execution_count": 44,
   "metadata": {},
   "outputs": [
    {
     "data": {
      "text/plain": [
       "24232"
      ]
     },
     "execution_count": 44,
     "metadata": {},
     "output_type": "execute_result"
    }
   ],
   "source": [
    "#checking for the total number of missing values in column with 'True' \n",
    "\n",
    "PoliceYorkDF4.filter(\"Latitude is NULL\").count()"
   ]
  },
  {
   "cell_type": "code",
   "execution_count": 45,
   "metadata": {},
   "outputs": [
    {
     "data": {
      "text/plain": [
       "135258"
      ]
     },
     "execution_count": 45,
     "metadata": {},
     "output_type": "execute_result"
    }
   ],
   "source": [
    "#checking for the total number of missing values in column with 'True' \n",
    "\n",
    "PoliceYorkDF4.filter(\"Last_outcome_category is NULL\").count()"
   ]
  },
  {
   "cell_type": "code",
   "execution_count": 46,
   "metadata": {},
   "outputs": [
    {
     "data": {
      "text/plain": [
       "790536"
      ]
     },
     "execution_count": 46,
     "metadata": {},
     "output_type": "execute_result"
    }
   ],
   "source": [
    "#filtering out missing values \n",
    "\n",
    "PoliceYorkDF5=PoliceYorkDF4.filter(\"Latitude is not NULL\")\n",
    "PoliceYorkDF6=PoliceYorkDF5.filter(\"Last_outcome_category is not NULL\")\n",
    "PoliceYorkDF7=PoliceYorkDF6.filter(\"Location is not NULL\")\n",
    "PoliceYorkDF7.count()"
   ]
  },
  {
   "cell_type": "code",
   "execution_count": 47,
   "metadata": {},
   "outputs": [
    {
     "data": {
      "text/html": [
       "<div>\n",
       "<style scoped>\n",
       "    .dataframe tbody tr th:only-of-type {\n",
       "        vertical-align: middle;\n",
       "    }\n",
       "\n",
       "    .dataframe tbody tr th {\n",
       "        vertical-align: top;\n",
       "    }\n",
       "\n",
       "    .dataframe thead th {\n",
       "        text-align: right;\n",
       "    }\n",
       "</style>\n",
       "<table border=\"1\" class=\"dataframe\">\n",
       "  <thead>\n",
       "    <tr style=\"text-align: right;\">\n",
       "      <th></th>\n",
       "      <th>Reported_by</th>\n",
       "      <th>Longitude</th>\n",
       "      <th>Latitude</th>\n",
       "      <th>Location</th>\n",
       "      <th>Crime_type</th>\n",
       "      <th>Last_outcome_category</th>\n",
       "      <th>year</th>\n",
       "      <th>month</th>\n",
       "    </tr>\n",
       "  </thead>\n",
       "  <tbody>\n",
       "    <tr>\n",
       "      <th>0</th>\n",
       "      <td>West Yorkshire Police</td>\n",
       "      <td>-1.647108</td>\n",
       "      <td>53.527830</td>\n",
       "      <td>On or near Tenter Hill</td>\n",
       "      <td>Burglary</td>\n",
       "      <td>Investigation complete; no suspect identified</td>\n",
       "      <td>2019</td>\n",
       "      <td>7</td>\n",
       "    </tr>\n",
       "    <tr>\n",
       "      <th>1</th>\n",
       "      <td>West Yorkshire Police</td>\n",
       "      <td>-1.863065</td>\n",
       "      <td>53.939035</td>\n",
       "      <td>On or near Low Mill</td>\n",
       "      <td>Violence and sexual offences</td>\n",
       "      <td>Unable to prosecute suspect</td>\n",
       "      <td>2019</td>\n",
       "      <td>7</td>\n",
       "    </tr>\n",
       "    <tr>\n",
       "      <th>2</th>\n",
       "      <td>West Yorkshire Police</td>\n",
       "      <td>-1.817790</td>\n",
       "      <td>53.922177</td>\n",
       "      <td>On or near Belle Vue</td>\n",
       "      <td>Burglary</td>\n",
       "      <td>Investigation complete; no suspect identified</td>\n",
       "      <td>2019</td>\n",
       "      <td>7</td>\n",
       "    </tr>\n",
       "    <tr>\n",
       "      <th>3</th>\n",
       "      <td>West Yorkshire Police</td>\n",
       "      <td>-1.788870</td>\n",
       "      <td>53.920008</td>\n",
       "      <td>On or near Cragg Drive</td>\n",
       "      <td>Robbery</td>\n",
       "      <td>Investigation complete; no suspect identified</td>\n",
       "      <td>2019</td>\n",
       "      <td>7</td>\n",
       "    </tr>\n",
       "    <tr>\n",
       "      <th>4</th>\n",
       "      <td>West Yorkshire Police</td>\n",
       "      <td>-1.825657</td>\n",
       "      <td>53.919789</td>\n",
       "      <td>On or near Brodrick Drive</td>\n",
       "      <td>Vehicle crime</td>\n",
       "      <td>Investigation complete; no suspect identified</td>\n",
       "      <td>2019</td>\n",
       "      <td>7</td>\n",
       "    </tr>\n",
       "    <tr>\n",
       "      <th>...</th>\n",
       "      <td>...</td>\n",
       "      <td>...</td>\n",
       "      <td>...</td>\n",
       "      <td>...</td>\n",
       "      <td>...</td>\n",
       "      <td>...</td>\n",
       "      <td>...</td>\n",
       "      <td>...</td>\n",
       "    </tr>\n",
       "    <tr>\n",
       "      <th>790531</th>\n",
       "      <td>West Yorkshire Police</td>\n",
       "      <td>-1.327778</td>\n",
       "      <td>53.592096</td>\n",
       "      <td>On or near Green Lane</td>\n",
       "      <td>Violence and sexual offences</td>\n",
       "      <td>Unable to prosecute suspect</td>\n",
       "      <td>2020</td>\n",
       "      <td>4</td>\n",
       "    </tr>\n",
       "    <tr>\n",
       "      <th>790532</th>\n",
       "      <td>West Yorkshire Police</td>\n",
       "      <td>-1.330320</td>\n",
       "      <td>53.590852</td>\n",
       "      <td>On or near Mill Street</td>\n",
       "      <td>Violence and sexual offences</td>\n",
       "      <td>Investigation complete; no suspect identified</td>\n",
       "      <td>2020</td>\n",
       "      <td>4</td>\n",
       "    </tr>\n",
       "    <tr>\n",
       "      <th>790533</th>\n",
       "      <td>West Yorkshire Police</td>\n",
       "      <td>-1.329856</td>\n",
       "      <td>53.591577</td>\n",
       "      <td>On or near Jons Avenue</td>\n",
       "      <td>Violence and sexual offences</td>\n",
       "      <td>Unable to prosecute suspect</td>\n",
       "      <td>2020</td>\n",
       "      <td>4</td>\n",
       "    </tr>\n",
       "    <tr>\n",
       "      <th>790534</th>\n",
       "      <td>West Yorkshire Police</td>\n",
       "      <td>-1.323984</td>\n",
       "      <td>53.591239</td>\n",
       "      <td>On or near Grove Street</td>\n",
       "      <td>Violence and sexual offences</td>\n",
       "      <td>Unable to prosecute suspect</td>\n",
       "      <td>2020</td>\n",
       "      <td>4</td>\n",
       "    </tr>\n",
       "    <tr>\n",
       "      <th>790535</th>\n",
       "      <td>West Yorkshire Police</td>\n",
       "      <td>-1.332527</td>\n",
       "      <td>53.590810</td>\n",
       "      <td>On or near Holmsley Avenue</td>\n",
       "      <td>Violence and sexual offences</td>\n",
       "      <td>Unable to prosecute suspect</td>\n",
       "      <td>2020</td>\n",
       "      <td>4</td>\n",
       "    </tr>\n",
       "  </tbody>\n",
       "</table>\n",
       "<p>790536 rows × 8 columns</p>\n",
       "</div>"
      ],
      "text/plain": [
       "                  Reported_by  Longitude   Latitude  \\\n",
       "0       West Yorkshire Police  -1.647108  53.527830   \n",
       "1       West Yorkshire Police  -1.863065  53.939035   \n",
       "2       West Yorkshire Police  -1.817790  53.922177   \n",
       "3       West Yorkshire Police  -1.788870  53.920008   \n",
       "4       West Yorkshire Police  -1.825657  53.919789   \n",
       "...                       ...        ...        ...   \n",
       "790531  West Yorkshire Police  -1.327778  53.592096   \n",
       "790532  West Yorkshire Police  -1.330320  53.590852   \n",
       "790533  West Yorkshire Police  -1.329856  53.591577   \n",
       "790534  West Yorkshire Police  -1.323984  53.591239   \n",
       "790535  West Yorkshire Police  -1.332527  53.590810   \n",
       "\n",
       "                          Location                    Crime_type  \\\n",
       "0           On or near Tenter Hill                      Burglary   \n",
       "1              On or near Low Mill  Violence and sexual offences   \n",
       "2             On or near Belle Vue                      Burglary   \n",
       "3           On or near Cragg Drive                       Robbery   \n",
       "4        On or near Brodrick Drive                 Vehicle crime   \n",
       "...                            ...                           ...   \n",
       "790531       On or near Green Lane  Violence and sexual offences   \n",
       "790532      On or near Mill Street  Violence and sexual offences   \n",
       "790533      On or near Jons Avenue  Violence and sexual offences   \n",
       "790534     On or near Grove Street  Violence and sexual offences   \n",
       "790535  On or near Holmsley Avenue  Violence and sexual offences   \n",
       "\n",
       "                                Last_outcome_category  year  month  \n",
       "0       Investigation complete; no suspect identified  2019      7  \n",
       "1                         Unable to prosecute suspect  2019      7  \n",
       "2       Investigation complete; no suspect identified  2019      7  \n",
       "3       Investigation complete; no suspect identified  2019      7  \n",
       "4       Investigation complete; no suspect identified  2019      7  \n",
       "...                                               ...   ...    ...  \n",
       "790531                    Unable to prosecute suspect  2020      4  \n",
       "790532  Investigation complete; no suspect identified  2020      4  \n",
       "790533                    Unable to prosecute suspect  2020      4  \n",
       "790534                    Unable to prosecute suspect  2020      4  \n",
       "790535                    Unable to prosecute suspect  2020      4  \n",
       "\n",
       "[790536 rows x 8 columns]"
      ]
     },
     "execution_count": 47,
     "metadata": {},
     "output_type": "execute_result"
    }
   ],
   "source": [
    "#Creating Pandas dataframes \n",
    "pdPoliceYorkDF=PoliceYorkDF7.toPandas()\n",
    "pdPoliceYorkDF"
   ]
  },
  {
   "cell_type": "code",
   "execution_count": null,
   "metadata": {},
   "outputs": [],
   "source": []
  },
  {
   "cell_type": "code",
   "execution_count": 48,
   "metadata": {},
   "outputs": [
    {
     "data": {
      "text/html": [
       "<div>\n",
       "<style scoped>\n",
       "    .dataframe tbody tr th:only-of-type {\n",
       "        vertical-align: middle;\n",
       "    }\n",
       "\n",
       "    .dataframe tbody tr th {\n",
       "        vertical-align: top;\n",
       "    }\n",
       "\n",
       "    .dataframe thead th {\n",
       "        text-align: right;\n",
       "    }\n",
       "</style>\n",
       "<table border=\"1\" class=\"dataframe\">\n",
       "  <thead>\n",
       "    <tr style=\"text-align: right;\">\n",
       "      <th></th>\n",
       "      <th>Reported_by</th>\n",
       "      <th>Longitude</th>\n",
       "      <th>Latitude</th>\n",
       "      <th>Location</th>\n",
       "      <th>Crime_type</th>\n",
       "      <th>Last_outcome_category</th>\n",
       "      <th>year</th>\n",
       "      <th>month</th>\n",
       "    </tr>\n",
       "  </thead>\n",
       "  <tbody>\n",
       "    <tr>\n",
       "      <th>0</th>\n",
       "      <td>West Yorkshire Police</td>\n",
       "      <td>-1.882481</td>\n",
       "      <td>53.924936</td>\n",
       "      <td>On or near Moorside Lane</td>\n",
       "      <td>Public order</td>\n",
       "      <td>Investigation complete; no suspect identified</td>\n",
       "      <td>2020</td>\n",
       "      <td>8</td>\n",
       "    </tr>\n",
       "    <tr>\n",
       "      <th>1</th>\n",
       "      <td>West Yorkshire Police</td>\n",
       "      <td>-1.883511</td>\n",
       "      <td>53.943550</td>\n",
       "      <td>On or near Old Station Way</td>\n",
       "      <td>Criminal damage and arson</td>\n",
       "      <td>Investigation complete; no suspect identified</td>\n",
       "      <td>2020</td>\n",
       "      <td>8</td>\n",
       "    </tr>\n",
       "    <tr>\n",
       "      <th>2</th>\n",
       "      <td>West Yorkshire Police</td>\n",
       "      <td>-1.883511</td>\n",
       "      <td>53.943550</td>\n",
       "      <td>On or near Old Station Way</td>\n",
       "      <td>Violence and sexual offences</td>\n",
       "      <td>Unable to prosecute suspect</td>\n",
       "      <td>2020</td>\n",
       "      <td>8</td>\n",
       "    </tr>\n",
       "    <tr>\n",
       "      <th>3</th>\n",
       "      <td>West Yorkshire Police</td>\n",
       "      <td>-1.883511</td>\n",
       "      <td>53.943550</td>\n",
       "      <td>On or near Old Station Way</td>\n",
       "      <td>Violence and sexual offences</td>\n",
       "      <td>Unable to prosecute suspect</td>\n",
       "      <td>2020</td>\n",
       "      <td>8</td>\n",
       "    </tr>\n",
       "    <tr>\n",
       "      <th>4</th>\n",
       "      <td>West Yorkshire Police</td>\n",
       "      <td>-1.894266</td>\n",
       "      <td>53.943704</td>\n",
       "      <td>On or near Jonathan Garth</td>\n",
       "      <td>Other theft</td>\n",
       "      <td>Investigation complete; no suspect identified</td>\n",
       "      <td>2020</td>\n",
       "      <td>8</td>\n",
       "    </tr>\n",
       "    <tr>\n",
       "      <th>...</th>\n",
       "      <td>...</td>\n",
       "      <td>...</td>\n",
       "      <td>...</td>\n",
       "      <td>...</td>\n",
       "      <td>...</td>\n",
       "      <td>...</td>\n",
       "      <td>...</td>\n",
       "      <td>...</td>\n",
       "    </tr>\n",
       "    <tr>\n",
       "      <th>254836</th>\n",
       "      <td>West Yorkshire Police</td>\n",
       "      <td>-1.327778</td>\n",
       "      <td>53.592096</td>\n",
       "      <td>On or near Green Lane</td>\n",
       "      <td>Violence and sexual offences</td>\n",
       "      <td>Unable to prosecute suspect</td>\n",
       "      <td>2020</td>\n",
       "      <td>4</td>\n",
       "    </tr>\n",
       "    <tr>\n",
       "      <th>254837</th>\n",
       "      <td>West Yorkshire Police</td>\n",
       "      <td>-1.330320</td>\n",
       "      <td>53.590852</td>\n",
       "      <td>On or near Mill Street</td>\n",
       "      <td>Violence and sexual offences</td>\n",
       "      <td>Investigation complete; no suspect identified</td>\n",
       "      <td>2020</td>\n",
       "      <td>4</td>\n",
       "    </tr>\n",
       "    <tr>\n",
       "      <th>254838</th>\n",
       "      <td>West Yorkshire Police</td>\n",
       "      <td>-1.329856</td>\n",
       "      <td>53.591577</td>\n",
       "      <td>On or near Jons Avenue</td>\n",
       "      <td>Violence and sexual offences</td>\n",
       "      <td>Unable to prosecute suspect</td>\n",
       "      <td>2020</td>\n",
       "      <td>4</td>\n",
       "    </tr>\n",
       "    <tr>\n",
       "      <th>254839</th>\n",
       "      <td>West Yorkshire Police</td>\n",
       "      <td>-1.323984</td>\n",
       "      <td>53.591239</td>\n",
       "      <td>On or near Grove Street</td>\n",
       "      <td>Violence and sexual offences</td>\n",
       "      <td>Unable to prosecute suspect</td>\n",
       "      <td>2020</td>\n",
       "      <td>4</td>\n",
       "    </tr>\n",
       "    <tr>\n",
       "      <th>254840</th>\n",
       "      <td>West Yorkshire Police</td>\n",
       "      <td>-1.332527</td>\n",
       "      <td>53.590810</td>\n",
       "      <td>On or near Holmsley Avenue</td>\n",
       "      <td>Violence and sexual offences</td>\n",
       "      <td>Unable to prosecute suspect</td>\n",
       "      <td>2020</td>\n",
       "      <td>4</td>\n",
       "    </tr>\n",
       "  </tbody>\n",
       "</table>\n",
       "<p>254841 rows × 8 columns</p>\n",
       "</div>"
      ],
      "text/plain": [
       "                  Reported_by  Longitude   Latitude  \\\n",
       "0       West Yorkshire Police  -1.882481  53.924936   \n",
       "1       West Yorkshire Police  -1.883511  53.943550   \n",
       "2       West Yorkshire Police  -1.883511  53.943550   \n",
       "3       West Yorkshire Police  -1.883511  53.943550   \n",
       "4       West Yorkshire Police  -1.894266  53.943704   \n",
       "...                       ...        ...        ...   \n",
       "254836  West Yorkshire Police  -1.327778  53.592096   \n",
       "254837  West Yorkshire Police  -1.330320  53.590852   \n",
       "254838  West Yorkshire Police  -1.329856  53.591577   \n",
       "254839  West Yorkshire Police  -1.323984  53.591239   \n",
       "254840  West Yorkshire Police  -1.332527  53.590810   \n",
       "\n",
       "                          Location                    Crime_type  \\\n",
       "0         On or near Moorside Lane                  Public order   \n",
       "1       On or near Old Station Way     Criminal damage and arson   \n",
       "2       On or near Old Station Way  Violence and sexual offences   \n",
       "3       On or near Old Station Way  Violence and sexual offences   \n",
       "4        On or near Jonathan Garth                   Other theft   \n",
       "...                            ...                           ...   \n",
       "254836       On or near Green Lane  Violence and sexual offences   \n",
       "254837      On or near Mill Street  Violence and sexual offences   \n",
       "254838      On or near Jons Avenue  Violence and sexual offences   \n",
       "254839     On or near Grove Street  Violence and sexual offences   \n",
       "254840  On or near Holmsley Avenue  Violence and sexual offences   \n",
       "\n",
       "                                Last_outcome_category  year  month  \n",
       "0       Investigation complete; no suspect identified  2020      8  \n",
       "1       Investigation complete; no suspect identified  2020      8  \n",
       "2                         Unable to prosecute suspect  2020      8  \n",
       "3                         Unable to prosecute suspect  2020      8  \n",
       "4       Investigation complete; no suspect identified  2020      8  \n",
       "...                                               ...   ...    ...  \n",
       "254836                    Unable to prosecute suspect  2020      4  \n",
       "254837  Investigation complete; no suspect identified  2020      4  \n",
       "254838                    Unable to prosecute suspect  2020      4  \n",
       "254839                    Unable to prosecute suspect  2020      4  \n",
       "254840                    Unable to prosecute suspect  2020      4  \n",
       "\n",
       "[254841 rows x 8 columns]"
      ]
     },
     "execution_count": 48,
     "metadata": {},
     "output_type": "execute_result"
    }
   ],
   "source": [
    "#filtering year 2020 for for visualization (pixiedust)\n",
    "\n",
    "YorkPolice_2020=PoliceYorkDF7.filter(\"Year == 2020\")\n",
    "\n",
    "\n",
    "#Creating Pandas dataframes\n",
    "pdYorkPolice_2020=YorkPolice_2020.toPandas()\n",
    "pdYorkPolice_2020"
   ]
  },
  {
   "cell_type": "code",
   "execution_count": 49,
   "metadata": {},
   "outputs": [],
   "source": [
    "# convert the pandas dataframe back to Spark dataframe\n",
    "DF2020_crime= spark.createDataFrame(pdYorkPolice_2020)"
   ]
  },
  {
   "cell_type": "code",
   "execution_count": 50,
   "metadata": {},
   "outputs": [
    {
     "name": "stdout",
     "output_type": "stream",
     "text": [
      "+--------------------+---------+---------+--------------------+--------------------+---------------------+----+-----+\n",
      "|         Reported_by|Longitude| Latitude|            Location|          Crime_type|Last_outcome_category|year|month|\n",
      "+--------------------+---------+---------+--------------------+--------------------+---------------------+----+-----+\n",
      "|West Yorkshire Po...|-1.882481|53.924936|On or near Moorsi...|        Public order| Investigation com...|2020|    8|\n",
      "|West Yorkshire Po...|-1.883511| 53.94355|On or near Old St...|Criminal damage a...| Investigation com...|2020|    8|\n",
      "|West Yorkshire Po...|-1.883511| 53.94355|On or near Old St...|Violence and sexu...| Unable to prosecu...|2020|    8|\n",
      "|West Yorkshire Po...|-1.883511| 53.94355|On or near Old St...|Violence and sexu...| Unable to prosecu...|2020|    8|\n",
      "|West Yorkshire Po...|-1.894266|53.943704|On or near Jonath...|         Other theft| Investigation com...|2020|    8|\n",
      "|West Yorkshire Po...|-1.890771|53.946029|On or near Green ...|Possession of wea...| Formal action is ...|2020|    8|\n",
      "|West Yorkshire Po...|-1.889034|   53.946|On or near School...|Violence and sexu...| Unable to prosecu...|2020|    8|\n",
      "|West Yorkshire Po...|-1.830943|53.919212|On or near Regenc...|            Burglary| Court result unav...|2020|    8|\n",
      "|West Yorkshire Po...| -1.78887|53.920008|On or near Cragg ...|            Burglary| Investigation com...|2020|    8|\n",
      "|West Yorkshire Po...|-1.819597|53.923411|On or near Sefton...|            Burglary| Investigation com...|2020|    8|\n",
      "|West Yorkshire Po...|-1.822332|53.924664|On or near Shoppi...|Criminal damage a...| Investigation com...|2020|    8|\n",
      "|West Yorkshire Po...|-1.839147| 53.91206|On or near Keighl...|               Drugs|     Local resolution|2020|    8|\n",
      "|West Yorkshire Po...|-1.819121|53.920696|On or near Crossb...|         Other theft| Status update una...|2020|    8|\n",
      "|West Yorkshire Po...|-1.819597|53.923411|On or near Sefton...|        Public order| Unable to prosecu...|2020|    8|\n",
      "|West Yorkshire Po...|-1.789894|53.916208|On or near Ben Rh...|Violence and sexu...| Unable to prosecu...|2020|    8|\n",
      "|West Yorkshire Po...|-1.819121|53.920696|On or near Crossb...|Violence and sexu...| Unable to prosecu...|2020|    8|\n",
      "|West Yorkshire Po...|-1.789894|53.916208|On or near Ben Rh...|Violence and sexu...| Unable to prosecu...|2020|    8|\n",
      "|West Yorkshire Po...| -1.82056|53.922433|On or near Maufe Way|Violence and sexu...| Unable to prosecu...|2020|    8|\n",
      "|West Yorkshire Po...|-1.819121|53.920696|On or near Crossb...|Violence and sexu...| Unable to prosecu...|2020|    8|\n",
      "|West Yorkshire Po...|-1.819121|53.920696|On or near Crossb...|Violence and sexu...| Unable to prosecu...|2020|    8|\n",
      "+--------------------+---------+---------+--------------------+--------------------+---------------------+----+-----+\n",
      "only showing top 20 rows\n",
      "\n"
     ]
    }
   ],
   "source": [
    "DF2020_crime.show()"
   ]
  },
  {
   "cell_type": "code",
   "execution_count": 51,
   "metadata": {},
   "outputs": [
    {
     "data": {
      "text/html": [
       "<div>\n",
       "<style scoped>\n",
       "    .dataframe tbody tr th:only-of-type {\n",
       "        vertical-align: middle;\n",
       "    }\n",
       "\n",
       "    .dataframe tbody tr th {\n",
       "        vertical-align: top;\n",
       "    }\n",
       "\n",
       "    .dataframe thead th {\n",
       "        text-align: right;\n",
       "    }\n",
       "</style>\n",
       "<table border=\"1\" class=\"dataframe\">\n",
       "  <thead>\n",
       "    <tr style=\"text-align: right;\">\n",
       "      <th></th>\n",
       "      <th>Reported_by</th>\n",
       "      <th>Longitude</th>\n",
       "      <th>Latitude</th>\n",
       "      <th>Location</th>\n",
       "      <th>Crime_type</th>\n",
       "      <th>Last_outcome_category</th>\n",
       "      <th>year</th>\n",
       "      <th>month</th>\n",
       "    </tr>\n",
       "  </thead>\n",
       "  <tbody>\n",
       "    <tr>\n",
       "      <th>0</th>\n",
       "      <td>West Yorkshire Police</td>\n",
       "      <td>-1.879031</td>\n",
       "      <td>53.943807</td>\n",
       "      <td>On or near Cross End Fold</td>\n",
       "      <td>Public order</td>\n",
       "      <td>Investigation complete; no suspect identified</td>\n",
       "      <td>2021</td>\n",
       "      <td>10</td>\n",
       "    </tr>\n",
       "    <tr>\n",
       "      <th>1</th>\n",
       "      <td>West Yorkshire Police</td>\n",
       "      <td>-1.882153</td>\n",
       "      <td>53.944205</td>\n",
       "      <td>On or near Parking Area</td>\n",
       "      <td>Vehicle crime</td>\n",
       "      <td>Investigation complete; no suspect identified</td>\n",
       "      <td>2021</td>\n",
       "      <td>10</td>\n",
       "    </tr>\n",
       "    <tr>\n",
       "      <th>2</th>\n",
       "      <td>West Yorkshire Police</td>\n",
       "      <td>-1.879359</td>\n",
       "      <td>53.946225</td>\n",
       "      <td>On or near The Acres</td>\n",
       "      <td>Violence and sexual offences</td>\n",
       "      <td>Investigation complete; no suspect identified</td>\n",
       "      <td>2021</td>\n",
       "      <td>10</td>\n",
       "    </tr>\n",
       "    <tr>\n",
       "      <th>3</th>\n",
       "      <td>West Yorkshire Police</td>\n",
       "      <td>-1.884440</td>\n",
       "      <td>53.943479</td>\n",
       "      <td>On or near West Croft</td>\n",
       "      <td>Public order</td>\n",
       "      <td>Unable to prosecute suspect</td>\n",
       "      <td>2021</td>\n",
       "      <td>10</td>\n",
       "    </tr>\n",
       "    <tr>\n",
       "      <th>4</th>\n",
       "      <td>West Yorkshire Police</td>\n",
       "      <td>-1.881808</td>\n",
       "      <td>53.942344</td>\n",
       "      <td>On or near Stockinger Lane</td>\n",
       "      <td>Violence and sexual offences</td>\n",
       "      <td>Under investigation</td>\n",
       "      <td>2021</td>\n",
       "      <td>10</td>\n",
       "    </tr>\n",
       "    <tr>\n",
       "      <th>...</th>\n",
       "      <td>...</td>\n",
       "      <td>...</td>\n",
       "      <td>...</td>\n",
       "      <td>...</td>\n",
       "      <td>...</td>\n",
       "      <td>...</td>\n",
       "      <td>...</td>\n",
       "      <td>...</td>\n",
       "    </tr>\n",
       "    <tr>\n",
       "      <th>276127</th>\n",
       "      <td>West Yorkshire Police</td>\n",
       "      <td>-1.330234</td>\n",
       "      <td>53.587723</td>\n",
       "      <td>On or near Millars Walk</td>\n",
       "      <td>Shoplifting</td>\n",
       "      <td>Investigation complete; no suspect identified</td>\n",
       "      <td>2021</td>\n",
       "      <td>2</td>\n",
       "    </tr>\n",
       "    <tr>\n",
       "      <th>276128</th>\n",
       "      <td>West Yorkshire Police</td>\n",
       "      <td>-1.331735</td>\n",
       "      <td>53.592145</td>\n",
       "      <td>On or near Holmsley Mount</td>\n",
       "      <td>Vehicle crime</td>\n",
       "      <td>Investigation complete; no suspect identified</td>\n",
       "      <td>2021</td>\n",
       "      <td>2</td>\n",
       "    </tr>\n",
       "    <tr>\n",
       "      <th>276129</th>\n",
       "      <td>West Yorkshire Police</td>\n",
       "      <td>-1.331445</td>\n",
       "      <td>53.590462</td>\n",
       "      <td>On or near Marion Close</td>\n",
       "      <td>Vehicle crime</td>\n",
       "      <td>Investigation complete; no suspect identified</td>\n",
       "      <td>2021</td>\n",
       "      <td>2</td>\n",
       "    </tr>\n",
       "    <tr>\n",
       "      <th>276130</th>\n",
       "      <td>West Yorkshire Police</td>\n",
       "      <td>-1.329450</td>\n",
       "      <td>53.587629</td>\n",
       "      <td>On or near The Leys</td>\n",
       "      <td>Vehicle crime</td>\n",
       "      <td>Investigation complete; no suspect identified</td>\n",
       "      <td>2021</td>\n",
       "      <td>2</td>\n",
       "    </tr>\n",
       "    <tr>\n",
       "      <th>276131</th>\n",
       "      <td>West Yorkshire Police</td>\n",
       "      <td>-1.329856</td>\n",
       "      <td>53.591577</td>\n",
       "      <td>On or near Jons Avenue</td>\n",
       "      <td>Vehicle crime</td>\n",
       "      <td>Unable to prosecute suspect</td>\n",
       "      <td>2021</td>\n",
       "      <td>2</td>\n",
       "    </tr>\n",
       "  </tbody>\n",
       "</table>\n",
       "<p>276132 rows × 8 columns</p>\n",
       "</div>"
      ],
      "text/plain": [
       "                  Reported_by  Longitude   Latitude  \\\n",
       "0       West Yorkshire Police  -1.879031  53.943807   \n",
       "1       West Yorkshire Police  -1.882153  53.944205   \n",
       "2       West Yorkshire Police  -1.879359  53.946225   \n",
       "3       West Yorkshire Police  -1.884440  53.943479   \n",
       "4       West Yorkshire Police  -1.881808  53.942344   \n",
       "...                       ...        ...        ...   \n",
       "276127  West Yorkshire Police  -1.330234  53.587723   \n",
       "276128  West Yorkshire Police  -1.331735  53.592145   \n",
       "276129  West Yorkshire Police  -1.331445  53.590462   \n",
       "276130  West Yorkshire Police  -1.329450  53.587629   \n",
       "276131  West Yorkshire Police  -1.329856  53.591577   \n",
       "\n",
       "                          Location                    Crime_type  \\\n",
       "0        On or near Cross End Fold                  Public order   \n",
       "1          On or near Parking Area                 Vehicle crime   \n",
       "2             On or near The Acres  Violence and sexual offences   \n",
       "3            On or near West Croft                  Public order   \n",
       "4       On or near Stockinger Lane  Violence and sexual offences   \n",
       "...                            ...                           ...   \n",
       "276127     On or near Millars Walk                   Shoplifting   \n",
       "276128   On or near Holmsley Mount                 Vehicle crime   \n",
       "276129     On or near Marion Close                 Vehicle crime   \n",
       "276130         On or near The Leys                 Vehicle crime   \n",
       "276131      On or near Jons Avenue                 Vehicle crime   \n",
       "\n",
       "                                Last_outcome_category  year  month  \n",
       "0       Investigation complete; no suspect identified  2021     10  \n",
       "1       Investigation complete; no suspect identified  2021     10  \n",
       "2       Investigation complete; no suspect identified  2021     10  \n",
       "3                         Unable to prosecute suspect  2021     10  \n",
       "4                                 Under investigation  2021     10  \n",
       "...                                               ...   ...    ...  \n",
       "276127  Investigation complete; no suspect identified  2021      2  \n",
       "276128  Investigation complete; no suspect identified  2021      2  \n",
       "276129  Investigation complete; no suspect identified  2021      2  \n",
       "276130  Investigation complete; no suspect identified  2021      2  \n",
       "276131                    Unable to prosecute suspect  2021      2  \n",
       "\n",
       "[276132 rows x 8 columns]"
      ]
     },
     "execution_count": 51,
     "metadata": {},
     "output_type": "execute_result"
    }
   ],
   "source": [
    "#filtering year 2021 for for visualization (pixiedust)\n",
    "\n",
    "YorkPolice_2021=PoliceYorkDF7.filter(\"Year == 2021\")\n",
    "\n",
    "\n",
    "#Creating Pandas dataframes\n",
    "pdYorkPolice_2021=YorkPolice_2021.toPandas()\n",
    "pdYorkPolice_2021"
   ]
  },
  {
   "cell_type": "code",
   "execution_count": 52,
   "metadata": {},
   "outputs": [],
   "source": [
    "# convert back to Spark dataframe\n",
    "DF2021_crime= spark.createDataFrame(pdYorkPolice_2021)"
   ]
  },
  {
   "cell_type": "code",
   "execution_count": 53,
   "metadata": {},
   "outputs": [
    {
     "data": {
      "text/plain": [
       "pyspark.sql.dataframe.DataFrame"
      ]
     },
     "execution_count": 53,
     "metadata": {},
     "output_type": "execute_result"
    }
   ],
   "source": [
    "type(DF2021_crime)"
   ]
  },
  {
   "cell_type": "code",
   "execution_count": 54,
   "metadata": {},
   "outputs": [
    {
     "name": "stdout",
     "output_type": "stream",
     "text": [
      "+--------------------+---------+---------+--------------------+--------------------+---------------------+----+-----+\n",
      "|         Reported_by|Longitude| Latitude|            Location|          Crime_type|Last_outcome_category|year|month|\n",
      "+--------------------+---------+---------+--------------------+--------------------+---------------------+----+-----+\n",
      "|West Yorkshire Po...|-1.879031|53.943807|On or near Cross ...|        Public order| Investigation com...|2021|   10|\n",
      "|West Yorkshire Po...|-1.882153|53.944205|On or near Parkin...|       Vehicle crime| Investigation com...|2021|   10|\n",
      "|West Yorkshire Po...|-1.879359|53.946225|On or near The Acres|Violence and sexu...| Investigation com...|2021|   10|\n",
      "|West Yorkshire Po...| -1.88444|53.943479|On or near West C...|        Public order| Unable to prosecu...|2021|   10|\n",
      "|West Yorkshire Po...|-1.881808|53.942344|On or near Stocki...|Violence and sexu...|  Under investigation|2021|   10|\n",
      "|West Yorkshire Po...| -1.88444|53.943479|On or near West C...|Violence and sexu...| Unable to prosecu...|2021|   10|\n",
      "|West Yorkshire Po...|-1.891522|53.944421|On or near Town H...|Violence and sexu...| Investigation com...|2021|   10|\n",
      "|West Yorkshire Po...|-1.885675| 53.94313|On or near Southf...|         Other crime|  Under investigation|2021|   10|\n",
      "|West Yorkshire Po...|-1.819597|53.923411|On or near Sefton...|Criminal damage a...| Investigation com...|2021|   10|\n",
      "|West Yorkshire Po...|-1.819121|53.920696|On or near Crossb...|Theft from the pe...| Investigation com...|2021|   10|\n",
      "|West Yorkshire Po...|-1.819121|53.920696|On or near Crossb...|Theft from the pe...| Investigation com...|2021|   10|\n",
      "|West Yorkshire Po...|-1.819121|53.920696|On or near Crossb...|Violence and sexu...|  Under investigation|2021|   10|\n",
      "|West Yorkshire Po...|-1.803698|53.923817|On or near Manley...|            Burglary| Investigation com...|2021|   10|\n",
      "|West Yorkshire Po...|-1.809654|53.923189|On or near Marlbo...|Criminal damage a...| Investigation com...|2021|   10|\n",
      "|West Yorkshire Po...|-1.812599|53.921908|On or near Wheatl...|Possession of wea...| Offender given a ...|2021|   10|\n",
      "|West Yorkshire Po...|-1.812599|53.921908|On or near Wheatl...|Possession of wea...| Offender given a ...|2021|   10|\n",
      "|West Yorkshire Po...|-1.807357|  53.9195|On or near Maxwel...|       Vehicle crime| Investigation com...|2021|   10|\n",
      "|West Yorkshire Po...|-1.812485|53.920236|On or near Moorsi...|Violence and sexu...| Unable to prosecu...|2021|   10|\n",
      "|West Yorkshire Po...|-1.835997|53.927128|On or near Easby ...|       Vehicle crime| Investigation com...|2021|   10|\n",
      "|West Yorkshire Po...| -1.83864|53.932821|On or near Common...|            Burglary| Investigation com...|2021|   10|\n",
      "+--------------------+---------+---------+--------------------+--------------------+---------------------+----+-----+\n",
      "only showing top 20 rows\n",
      "\n"
     ]
    }
   ],
   "source": [
    "DF2021_crime.show()"
   ]
  },
  {
   "cell_type": "code",
   "execution_count": 55,
   "metadata": {},
   "outputs": [],
   "source": [
    "# Create new data frame with Month and counts per Month (use the original dataframe with\n",
    "# month not split to have count of each month)\n",
    "Yorkcrime = PoliceYorkDF1.select(PoliceYorkDF1.Month).groupby(PoliceYorkDF1.Month).count()"
   ]
  },
  {
   "cell_type": "code",
   "execution_count": 56,
   "metadata": {},
   "outputs": [
    {
     "name": "stdout",
     "output_type": "stream",
     "text": [
      "root\n",
      " |-- Month: string (nullable = true)\n",
      " |-- count: long (nullable = false)\n",
      "\n"
     ]
    }
   ],
   "source": [
    "Yorkcrime.printSchema()"
   ]
  },
  {
   "cell_type": "code",
   "execution_count": 57,
   "metadata": {},
   "outputs": [
    {
     "name": "stdout",
     "output_type": "stream",
     "text": [
      "+-------+-----+\n",
      "|  Month|count|\n",
      "+-------+-----+\n",
      "|2020-06|26730|\n",
      "|2019-10|29559|\n",
      "|2020-12|23126|\n",
      "|2020-02|25179|\n",
      "|2021-07|29547|\n",
      "|2019-11|28110|\n",
      "|2021-04|26564|\n",
      "|2021-06|28971|\n",
      "|2019-03|28634|\n",
      "|2020-05|24657|\n",
      "|2021-11|28041|\n",
      "|2021-03|26657|\n",
      "|2021-02|22219|\n",
      "|2019-07|30828|\n",
      "|2021-10|29381|\n",
      "|2021-12|25793|\n",
      "|2020-11|25445|\n",
      "|2021-05|27377|\n",
      "|2019-05|28328|\n",
      "|2020-07|29278|\n",
      "+-------+-----+\n",
      "only showing top 20 rows\n",
      "\n"
     ]
    }
   ],
   "source": [
    "Yorkcrime.show()"
   ]
  },
  {
   "cell_type": "code",
   "execution_count": 58,
   "metadata": {},
   "outputs": [
    {
     "name": "stdout",
     "output_type": "stream",
     "text": [
      "+----+------+\n",
      "|Year| count|\n",
      "+----+------+\n",
      "|2019|311548|\n",
      "|2020|313880|\n",
      "|2021|323236|\n",
      "+----+------+\n",
      "\n"
     ]
    }
   ],
   "source": [
    "#show the number of crimes observed for each year\n",
    "\n",
    "crime_Year=PoliceYorkDF1.select(substring(PoliceYorkDF1.Month, 1,4).alias('Year'),\\\n",
    "                'Month').groupby('Year').count().orderBy(asc('Year')).show()"
   ]
  },
  {
   "cell_type": "code",
   "execution_count": 59,
   "metadata": {},
   "outputs": [],
   "source": [
    "#create a temporary table York_Table\n",
    "Yorkcrime.registerTempTable(\"York_Table\")"
   ]
  },
  {
   "cell_type": "code",
   "execution_count": 60,
   "metadata": {},
   "outputs": [],
   "source": [
    "# Create new dataframe with month, total and averages\n",
    "monthlyCrimeAmount = sqlContext.sql(\"select substring(Month, 6, 2) as Month,\\\n",
    "SUM(count) as Total, avg(count) as Average from York_Table group by substring(Month, 6, 2)\")"
   ]
  },
  {
   "cell_type": "code",
   "execution_count": 61,
   "metadata": {},
   "outputs": [
    {
     "data": {
      "text/plain": [
       "DataFrame[Month: string, Total: bigint, Average: double]"
      ]
     },
     "execution_count": 61,
     "metadata": {},
     "output_type": "execute_result"
    }
   ],
   "source": [
    "monthlyCrimeAmount"
   ]
  },
  {
   "cell_type": "code",
   "execution_count": 62,
   "metadata": {},
   "outputs": [
    {
     "name": "stdout",
     "output_type": "stream",
     "text": [
      "+-----+-----+------------------+\n",
      "|Month|Total|           Average|\n",
      "+-----+-----+------------------+\n",
      "|   07|89653|29884.333333333332|\n",
      "|   11|81596|27198.666666666668|\n",
      "|   01|49851|           24925.5|\n",
      "|   09|83168|27722.666666666668|\n",
      "|   05|80362|26787.333333333332|\n",
      "|   08|87671|29223.666666666668|\n",
      "|   03|81696|           27232.0|\n",
      "|   02|73557|           24519.0|\n",
      "|   06|83612|27870.666666666668|\n",
      "|   10|86515|28838.333333333332|\n",
      "|   12|74849|24949.666666666668|\n",
      "|   04|76134|           25378.0|\n",
      "+-----+-----+------------------+\n",
      "\n"
     ]
    }
   ],
   "source": [
    "monthlyCrimeAmount.show()"
   ]
  },
  {
   "cell_type": "code",
   "execution_count": 63,
   "metadata": {},
   "outputs": [
    {
     "name": "stdout",
     "output_type": "stream",
     "text": [
      "+-----+-----+------------------+\n",
      "|Month|Total|           Average|\n",
      "+-----+-----+------------------+\n",
      "|   07|89653|29884.333333333332|\n",
      "|   11|81596|27198.666666666668|\n",
      "|   01|49851|           24925.5|\n",
      "|   09|83168|27722.666666666668|\n",
      "|   05|80362|26787.333333333332|\n",
      "|   08|87671|29223.666666666668|\n",
      "|   03|81696|           27232.0|\n",
      "|   02|73557|           24519.0|\n",
      "|   06|83612|27870.666666666668|\n",
      "|   10|86515|28838.333333333332|\n",
      "|   12|74849|24949.666666666668|\n",
      "|   04|76134|           25378.0|\n",
      "+-----+-----+------------------+\n",
      "\n"
     ]
    }
   ],
   "source": [
    "#register the monthlyCrimeAmount\n",
    "#dataframe as temp table and show the contemps\n",
    "\n",
    "monthlyCrimeAmount.registerTempTable(\"York_Table\")\n",
    "sqlContext.sql(\"select * from York_Table\").show()"
   ]
  },
  {
   "cell_type": "code",
   "execution_count": 64,
   "metadata": {},
   "outputs": [],
   "source": [
    "#Prepare variable for visualizations\n",
    "\n",
    "monthArray = sqlContext.sql(\"select Month from York_Table\").rdd.map(lambda b:b[0]).collect()\n",
    "monthTotalArray = sqlContext.sql(\"select Total from York_Table\").rdd.map(lambda b:b[0]).collect()\n",
    "monthAvgArray = sqlContext.sql(\"select Average from York_Table\").rdd.map(lambda b:b[0]).collect()"
   ]
  },
  {
   "cell_type": "code",
   "execution_count": 65,
   "metadata": {},
   "outputs": [
    {
     "data": {
      "image/png": "[encoded data removed]",
      "text/plain": [
       "<Figure size 432x288 with 2 Axes>"
      ]
     },
     "metadata": {
      "needs_background": "light"
     },
     "output_type": "display_data"
    }
   ],
   "source": [
    "import matplotlib.pyplot as plt\n",
    "import numpy as np\n",
    "\n",
    "y = monthArray\n",
    "t = monthTotalArray\n",
    "a = monthAvgArray\n",
    "\n",
    "plt.subplot(2, 1, 1)\n",
    "plt.plot(y, t, \"o-\")\n",
    "plt.title(\"Crime Amount by Month\")\n",
    "plt.ylabel(\"Cumulate (count)\")\n",
    "plt.grid(True)\n",
    "\n",
    "plt.subplot(2, 1, 2)\n",
    "plt.plot(y, a,\".-\" )\n",
    "plt.xlabel('Year')\n",
    "plt.ylabel('Average (mount)')\n",
    "plt.grid(True)\n",
    "plt.savefig(\"YearlyCrimeAmount.png\")\n",
    "plt.show()"
   ]
  },
  {
   "cell_type": "code",
   "execution_count": 66,
   "metadata": {},
   "outputs": [],
   "source": [
    "Yorkcrime.registerTempTable(\"York_Table\")"
   ]
  },
  {
   "cell_type": "code",
   "execution_count": 67,
   "metadata": {
    "code_folding": []
   },
   "outputs": [],
   "source": [
    "# Create dataframe to retrieve Total and Average information by year\n",
    "\n",
    "yearlyCrimeAmount = sqlContext.sql(\"select substring(Month, 0, 4) as Year, \\\n",
    "SUM(count) as Total, avg(count) as Average from York_Table \\\n",
    "group by substring(Month,0, 4)\")"
   ]
  },
  {
   "cell_type": "code",
   "execution_count": 68,
   "metadata": {},
   "outputs": [
    {
     "data": {
      "text/plain": [
       "DataFrame[Year: string, Total: bigint, Average: double]"
      ]
     },
     "execution_count": 68,
     "metadata": {},
     "output_type": "execute_result"
    }
   ],
   "source": [
    "yearlyCrimeAmount"
   ]
  },
  {
   "cell_type": "code",
   "execution_count": 69,
   "metadata": {},
   "outputs": [
    {
     "name": "stdout",
     "output_type": "stream",
     "text": [
      "+----+------+------------------+\n",
      "|Year| Total|           Average|\n",
      "+----+------+------------------+\n",
      "|2020|313880|26156.666666666668|\n",
      "|2019|311548|28322.545454545456|\n",
      "|2021|323236|26936.333333333332|\n",
      "+----+------+------------------+\n",
      "\n"
     ]
    }
   ],
   "source": [
    "yearlyCrimeAmount.show()"
   ]
  },
  {
   "cell_type": "code",
   "execution_count": 70,
   "metadata": {},
   "outputs": [
    {
     "name": "stdout",
     "output_type": "stream",
     "text": [
      "+----+------+------------------+\n",
      "|Year| Total|           Average|\n",
      "+----+------+------------------+\n",
      "|2020|313880|26156.666666666668|\n",
      "|2019|311548|28322.545454545456|\n",
      "|2021|323236|26936.333333333332|\n",
      "+----+------+------------------+\n",
      "\n"
     ]
    }
   ],
   "source": [
    "#Register the yearly data in a temp table and show the contents\n",
    "yearlyCrimeAmount.registerTempTable(\"yearlyCrime\")\n",
    "sqlContext.sql(\"select * from yearlyCrime\").show()"
   ]
  },
  {
   "cell_type": "code",
   "execution_count": 71,
   "metadata": {},
   "outputs": [],
   "source": [
    "# Prepare variables for visualisations\n",
    "\n",
    "yearArray = sqlContext.sql(\"select Total from yearlyCrime\").rdd.map(lambda b:b[0]).collect()\n",
    "totalArray = sqlContext.sql(\"select Year from yearlyCrime\").rdd.map(lambda b:b[0]).collect()\n",
    "averageArray = sqlContext.sql(\"select Average from yearlyCrime\").rdd.map(lambda b:b[0]).collect()"
   ]
  },
  {
   "cell_type": "code",
   "execution_count": 72,
   "metadata": {},
   "outputs": [
    {
     "data": {
      "image/png": "[encoded data removed]",
      "text/plain": [
       "<Figure size 432x288 with 2 Axes>"
      ]
     },
     "metadata": {
      "needs_background": "light"
     },
     "output_type": "display_data"
    }
   ],
   "source": [
    "import matplotlib.pyplot as plt\n",
    "import numpy as np\n",
    "\n",
    "t = yearArray\n",
    "y = totalArray\n",
    "a = averageArray\n",
    "\n",
    "plt.subplot(2, 1, 1)\n",
    "plt.plot(y, t, \"o-\")\n",
    "plt.title(\"Crime Amount by Year (2019-02 to 2021-12)\")\n",
    "plt.ylabel(\"Cumulate (year)\")\n",
    "plt.grid(True)\n",
    "\n",
    "plt.subplot(2, 1, 2)\n",
    "plt.plot(y, a,\".-\" )\n",
    "plt.xlabel('Year')\n",
    "plt.ylabel('Average (Amount)')\n",
    "plt.grid(True)\n",
    "plt.savefig(\"YearlyCrimeAmount.png\")\n",
    "plt.show()"
   ]
  },
  {
   "cell_type": "code",
   "execution_count": 73,
   "metadata": {},
   "outputs": [],
   "source": [
    "#create a Temp Table\n",
    "\n",
    "Yorkcrime.registerTempTable(\"Yorkcrime_Table\")"
   ]
  },
  {
   "cell_type": "code",
   "execution_count": 74,
   "metadata": {},
   "outputs": [
    {
     "name": "stdout",
     "output_type": "stream",
     "text": [
      "+-----+-----+------------------+\n",
      "|Month|Total|           Average|\n",
      "+-----+-----+------------------+\n",
      "|   07|89653|29884.333333333332|\n",
      "|   11|81596|27198.666666666668|\n",
      "|   01|49851|           24925.5|\n",
      "|   09|83168|27722.666666666668|\n",
      "|   05|80362|26787.333333333332|\n",
      "|   08|87671|29223.666666666668|\n",
      "|   03|81696|           27232.0|\n",
      "|   02|73557|           24519.0|\n",
      "|   06|83612|27870.666666666668|\n",
      "|   10|86515|28838.333333333332|\n",
      "|   12|74849|24949.666666666668|\n",
      "|   04|76134|           25378.0|\n",
      "+-----+-----+------------------+\n",
      "\n"
     ]
    }
   ],
   "source": [
    "monthlyCrimeAmount.registerTempTable(\"York_Table\")\n",
    "sqlContext.sql(\"select * from York_Table\").show()"
   ]
  },
  {
   "cell_type": "code",
   "execution_count": 75,
   "metadata": {},
   "outputs": [],
   "source": [
    "#create a Temporary Table Crime_Tab\n",
    "PoliceYorkDF1.registerTempTable(\"Crime_Tab\")"
   ]
  },
  {
   "cell_type": "code",
   "execution_count": 76,
   "metadata": {},
   "outputs": [
    {
     "name": "stdout",
     "output_type": "stream",
     "text": [
      "+-------+--------------------+---------+---------+--------------------+--------------------+---------------------+\n",
      "|  Month|         Reported_by|Longitude| Latitude|            Location|          Crime_type|Last_outcome_category|\n",
      "+-------+--------------------+---------+---------+--------------------+--------------------+---------------------+\n",
      "|2019-07|West Yorkshire Po...|-1.549301|53.601233|On or near Haigh ...|Anti-social behav...|                 null|\n",
      "|2019-07|West Yorkshire Po...|-1.647108| 53.52783|On or near Tenter...|            Burglary| Investigation com...|\n",
      "|2019-07|West Yorkshire Po...|-1.882153|53.944205|On or near Parkin...|Anti-social behav...|                 null|\n",
      "|2019-07|West Yorkshire Po...|-1.863065|53.939035| On or near Low Mill|Violence and sexu...| Unable to prosecu...|\n",
      "|2019-07|West Yorkshire Po...|-1.822203|53.922867|On or near Annand...|Anti-social behav...|                 null|\n",
      "|2019-07|West Yorkshire Po...|-1.785872|53.928739|On or near Sports...|Anti-social behav...|                 null|\n",
      "|2019-07|West Yorkshire Po...| -1.81594|53.920583|On or near Craigl...|Anti-social behav...|                 null|\n",
      "|2019-07|West Yorkshire Po...|-1.785872|53.928739|On or near Sports...|Anti-social behav...|                 null|\n",
      "|2019-07|West Yorkshire Po...| -1.81779|53.922177|On or near Belle Vue|            Burglary| Investigation com...|\n",
      "|2019-07|West Yorkshire Po...| -1.78887|53.920008|On or near Cragg ...|             Robbery| Investigation com...|\n",
      "|2019-07|West Yorkshire Po...|-1.825657|53.919789|On or near Brodri...|       Vehicle crime| Investigation com...|\n",
      "|2019-07|West Yorkshire Po...|-1.833073|53.919674|On or near Pinewo...|       Vehicle crime| Investigation com...|\n",
      "|2019-07|West Yorkshire Po...|-1.825657|53.919789|On or near Brodri...|       Vehicle crime| Investigation com...|\n",
      "|2019-07|West Yorkshire Po...|-1.821724|53.924412|On or near Statio...|Violence and sexu...| Unable to prosecu...|\n",
      "|2019-07|West Yorkshire Po...|-1.821724|53.924412|On or near Statio...|Violence and sexu...| Unable to prosecu...|\n",
      "|2019-07|West Yorkshire Po...|-1.822332|53.924664|On or near Shoppi...|Violence and sexu...| Investigation com...|\n",
      "|2019-07|West Yorkshire Po...|-1.809774|53.920358|On or near Ryedal...|Anti-social behav...|                 null|\n",
      "|2019-07|West Yorkshire Po...|-1.800464| 53.91868|On or near Underc...|Anti-social behav...|                 null|\n",
      "|2019-07|West Yorkshire Po...|-1.812791| 53.92332|On or near Spring...|Anti-social behav...|                 null|\n",
      "|2019-07|West Yorkshire Po...|-1.812599|53.921908|On or near Wheatl...|Criminal damage a...| Investigation com...|\n",
      "+-------+--------------------+---------+---------+--------------------+--------------------+---------------------+\n",
      "only showing top 20 rows\n",
      "\n"
     ]
    }
   ],
   "source": [
    "sqlContext.sql(\"select * from Crime_Tab\").show()"
   ]
  },
  {
   "cell_type": "code",
   "execution_count": 77,
   "metadata": {},
   "outputs": [
    {
     "name": "stdout",
     "output_type": "stream",
     "text": [
      "+--------------------+\n",
      "|          Crime_type|\n",
      "+--------------------+\n",
      "|       Bicycle theft|\n",
      "|        Public order|\n",
      "|               Drugs|\n",
      "|         Other crime|\n",
      "|             Robbery|\n",
      "|Criminal damage a...|\n",
      "|Theft from the pe...|\n",
      "|         Shoplifting|\n",
      "|            Burglary|\n",
      "|         Other theft|\n",
      "|Possession of wea...|\n",
      "|Violence and sexu...|\n",
      "|       Vehicle crime|\n",
      "|Anti-social behav...|\n",
      "+--------------------+\n",
      "\n"
     ]
    }
   ],
   "source": [
    "#select distinct crime\n",
    "sqlContext.sql(\"select distinct Crime_type from Crime_Tab\").show()"
   ]
  },
  {
   "cell_type": "code",
   "execution_count": 78,
   "metadata": {},
   "outputs": [],
   "source": [
    "#Explore Crime Types per year/month\n",
    "\n",
    "CrimeTypes1 = sqlContext.sql(\"select Crime_type, Month, \\\n",
    "count(*) as count from Crime_Tab group by Month, Crime_type\")"
   ]
  },
  {
   "cell_type": "code",
   "execution_count": 79,
   "metadata": {},
   "outputs": [
    {
     "name": "stdout",
     "output_type": "stream",
     "text": [
      "+--------------------+-------+-----+\n",
      "|          Crime_type|  Month|count|\n",
      "+--------------------+-------+-----+\n",
      "|       Bicycle theft|2020-07|  180|\n",
      "|Criminal damage a...|2019-06| 2317|\n",
      "|            Burglary|2020-06| 1180|\n",
      "|Anti-social behav...|2021-10| 3044|\n",
      "|Theft from the pe...|2019-09|  321|\n",
      "|Violence and sexu...|2021-01| 8998|\n",
      "|         Other theft|2019-03| 2115|\n",
      "|             Robbery|2020-07|  209|\n",
      "|Theft from the pe...|2019-08|  423|\n",
      "|        Public order|2019-09| 2718|\n",
      "|Anti-social behav...|2021-04| 4000|\n",
      "|         Other crime|2020-12|  570|\n",
      "|Criminal damage a...|2019-07| 2518|\n",
      "|Possession of wea...|2021-08|  211|\n",
      "|            Burglary|2020-10| 1276|\n",
      "|Criminal damage a...|2020-03| 2409|\n",
      "|             Robbery|2021-05|  180|\n",
      "|Anti-social behav...|2020-09| 4656|\n",
      "|            Burglary|2021-12| 1232|\n",
      "|Criminal damage a...|2021-03| 2404|\n",
      "+--------------------+-------+-----+\n",
      "only showing top 20 rows\n",
      "\n"
     ]
    }
   ],
   "source": [
    "CrimeTypes1.show()"
   ]
  },
  {
   "cell_type": "code",
   "execution_count": 80,
   "metadata": {},
   "outputs": [],
   "source": [
    "#Explore Crime Types per year/month\n",
    "\n",
    "CrimeTypes = sqlContext.sql(\"select Crime_type, substring(Month, 6, 2) as Month, substring(Month, 0, 4) as Year, \\\n",
    "count(*) as count from Crime_Tab group by Month, Crime_type\")"
   ]
  },
  {
   "cell_type": "code",
   "execution_count": 81,
   "metadata": {},
   "outputs": [
    {
     "name": "stdout",
     "output_type": "stream",
     "text": [
      "+--------------------+-----+----+-----+\n",
      "|          Crime_type|Month|Year|count|\n",
      "+--------------------+-----+----+-----+\n",
      "|       Bicycle theft|   07|2020|  180|\n",
      "|Criminal damage a...|   06|2019| 2317|\n",
      "|            Burglary|   06|2020| 1180|\n",
      "|Anti-social behav...|   10|2021| 3044|\n",
      "|Theft from the pe...|   09|2019|  321|\n",
      "|Violence and sexu...|   01|2021| 8998|\n",
      "|         Other theft|   03|2019| 2115|\n",
      "|             Robbery|   07|2020|  209|\n",
      "|Theft from the pe...|   08|2019|  423|\n",
      "|        Public order|   09|2019| 2718|\n",
      "|Anti-social behav...|   04|2021| 4000|\n",
      "|         Other crime|   12|2020|  570|\n",
      "|Criminal damage a...|   07|2019| 2518|\n",
      "|Possession of wea...|   08|2021|  211|\n",
      "|            Burglary|   10|2020| 1276|\n",
      "|Criminal damage a...|   03|2020| 2409|\n",
      "|             Robbery|   05|2021|  180|\n",
      "|Anti-social behav...|   09|2020| 4656|\n",
      "|            Burglary|   12|2021| 1232|\n",
      "|Criminal damage a...|   03|2021| 2404|\n",
      "+--------------------+-----+----+-----+\n",
      "only showing top 20 rows\n",
      "\n"
     ]
    }
   ],
   "source": [
    "CrimeTypes.show()"
   ]
  },
  {
   "cell_type": "code",
   "execution_count": 82,
   "metadata": {},
   "outputs": [
    {
     "name": "stdout",
     "output_type": "stream",
     "text": [
      "Pixiedust database opened successfully\n"
     ]
    },
    {
     "data": {
      "text/html": [
       "\n",
       "        <div style=\"margin:10px\">\n",
       "            <a href=\"https://github.com/ibm-watson-data-lab/pixiedust\" target=\"_new\">\n",
       "                <img src=\"https://github.com/ibm-watson-data-lab/pixiedust/raw/master/docs/_static/pd_icon32.png\" style=\"float:left;margin-right:10px\"/>\n",
       "            </a>\n",
       "            <span>Pixiedust version 1.1.19</span>\n",
       "        </div>\n",
       "        "
      ],
      "text/plain": [
       "<IPython.core.display.HTML object>"
      ]
     },
     "metadata": {},
     "output_type": "display_data"
    }
   ],
   "source": [
    "import pixiedust"
   ]
  },
  {
   "cell_type": "code",
   "execution_count": 83,
   "metadata": {},
   "outputs": [],
   "source": [
    "# Explore Crime Types per Year/Month\n",
    "\n",
    "CrimeTypesGeo = sqlContext.sql(\"select Crime_type, Month, \\\n",
    "substring(Month, 0, 4) as Year, Latitude, Longitude, \\\n",
    "count(*) as Count from Crime_Tab group by Month, \\\n",
    "Crime_type, Latitude, Longitude\")"
   ]
  },
  {
   "cell_type": "code",
   "execution_count": 84,
   "metadata": {
    "pixiedust": {
     "displayParams": {
      "aggregation": "SUM",
      "chartsize": "91",
      "charttype": "grouped",
      "clusterby": "Year",
      "handlerId": "barChart",
      "keyFields": "Crime_type",
      "orientation": "horizontal",
      "rendererId": "matplotlib",
      "timeseries": "true",
      "title": "Crime Time series plot from February 2019 to December 2021",
      "valueFields": "count"
     }
    }
   },
   "outputs": [
    {
     "data": {
      "text/html": [
       "<style type=\"text/css\">.pd_warning{display:none;}</style><div class=\"pd_warning\"><em>Hey, there's something awesome here! To see it, open this notebook outside GitHub, in a viewer like Jupyter</em></div>\n",
       "        <div class=\"pd_save is-viewer-good\" style=\"padding-right:10px;text-align: center;line-height:initial !important;font-size: xx-large;font-weight: 500;color: coral;\">\n",
       "            Crime Time series plot from February 2019 to December 2021\n",
       "        </div>\n",
       "    <div id=\"chartFigure3688ad2e\" class=\"pd_save is-viewer-good\" style=\"overflow-x:auto\">\n",
       "            \n",
       "                    \n",
       "                            <center><img style=\"max-width:initial !important\" src=\"data:image/png;base64,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\" class=\"pd_save\"></center>\n",
       "                        \n",
       "                    \n",
       "                \n",
       "        </div>"
      ],
      "text/plain": [
       "<IPython.core.display.HTML object>"
      ]
     },
     "metadata": {},
     "output_type": "display_data"
    }
   ],
   "source": [
    "display(CrimeTypes)"
   ]
  },
  {
   "cell_type": "code",
   "execution_count": 85,
   "metadata": {
    "pixiedust": {
     "displayParams": {
      "aggregation": "SUM",
      "handlerId": "pieChart",
      "keyFields": "Crime_type",
      "legend": "false",
      "title": "Propotion of each Crime across February 2019 to December 2021",
      "valueFields": "count"
     }
    }
   },
   "outputs": [
    {
     "data": {
      "text/html": [
       "<style type=\"text/css\">.pd_warning{display:none;}</style><div class=\"pd_warning\"><em>Hey, there's something awesome here! To see it, open this notebook outside GitHub, in a viewer like Jupyter</em></div>\n",
       "        <div class=\"pd_save is-viewer-good\" style=\"padding-right:10px;text-align: center;line-height:initial !important;font-size: xx-large;font-weight: 500;color: coral;\">\n",
       "            Propotion of each Crime across February 2019 to December 2021\n",
       "        </div>\n",
       "    <div id=\"chartFigure16887c6e\" class=\"pd_save is-viewer-good\" style=\"overflow-x:auto\">\n",
       "            \n",
       "                    \n",
       "                            <center><img style=\"max-width:initial !important\" src=\"data:image/png;base64,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\" class=\"pd_save\"></center>\n",
       "                        \n",
       "                    \n",
       "                \n",
       "        </div>"
      ],
      "text/plain": [
       "<IPython.core.display.HTML object>"
      ]
     },
     "metadata": {},
     "output_type": "display_data"
    }
   ],
   "source": [
    "display(CrimeTypes)"
   ]
  },
  {
   "cell_type": "code",
   "execution_count": 86,
   "metadata": {
    "pixiedust": {
     "displayParams": {
      "aggregation": "COUNT",
      "clusterby": "year",
      "handlerId": "lineChart",
      "keyFields": "month",
      "title": "Crime Timeline for each year"
     }
    }
   },
   "outputs": [
    {
     "data": {
      "text/html": [
       "<style type=\"text/css\">.pd_warning{display:none;}</style><div class=\"pd_warning\"><em>Hey, there's something awesome here! To see it, open this notebook outside GitHub, in a viewer like Jupyter</em></div>\n",
       "        <div class=\"pd_save is-viewer-good\" style=\"padding-right:10px;text-align: center;line-height:initial !important;font-size: xx-large;font-weight: 500;color: coral;\">\n",
       "            Crime Timeline for each year\n",
       "        </div>\n",
       "    <div id=\"chartFigure0c14c179\" class=\"pd_save is-viewer-good\" style=\"overflow-x:auto\">\n",
       "            \n",
       "                    \n",
       "                            <center><img style=\"max-width:initial !important\" src=\"data:image/png;base64,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\" class=\"pd_save\"></center>\n",
       "                        \n",
       "                    \n",
       "                \n",
       "        </div>"
      ],
      "text/plain": [
       "<IPython.core.display.HTML object>"
      ]
     },
     "metadata": {},
     "output_type": "display_data"
    }
   ],
   "source": [
    "display(PoliceYorkDF4)"
   ]
  },
  {
   "cell_type": "code",
   "execution_count": 87,
   "metadata": {
    "pixiedust": {
     "displayParams": {
      "basemap": "outdoors-v9",
      "coloropacity": "45",
      "colorrampname": "Green to Purple",
      "handlerId": "mapView",
      "keyFields": "Longitude,Latitude",
      "kind": "densitymap",
      "mapboxtoken": "pk.eyJ1IjoibWFwYm94IiwiYSI6ImNpejY4M29iazA2Z2gycXA4N2pmbDZmangifQ.-g_vE53SD2WrJ6tFX7QHmA",
      "title": "Geographical representation of crime distribution (February 2019 - December 2021"
     }
    }
   },
   "outputs": [
    {
     "data": {
      "text/html": [
       "<style type=\"text/css\">.pd_warning{display:none;}</style><div class=\"pd_warning\"><em>Hey, there's something awesome here! To see it, open this notebook outside GitHub, in a viewer like Jupyter</em></div>\n",
       "        <div class=\"pd_save is-viewer-good\" style=\"padding-right:10px;text-align: center;line-height:initial !important;font-size: xx-large;font-weight: 500;color: coral;\">\n",
       "            Geographical representation of crime distribution (February 2019 - December 2021\n",
       "        </div>\n",
       "    <div id=\"chartFigured40917fc\" class=\"pd_save is-viewer-good\" style=\"overflow-x:auto\">\n",
       "            <script>\n",
       "  window.iframeLoaded = window.iframeLoaded || function(iframe) {\n",
       "    try {\n",
       "      iframe.contentWindow.pdMessageListeners = [];\n",
       "      iframe.contentWindow[\"addPDMessageListener\"] = function(listener){\n",
       "        iframe.contentWindow.pdMessageListeners.push(listener);\n",
       "      }\n",
       "      iframe.contentWindow.addEventListener(\"message\", function(event){\n",
       "        iframe.contentWindow.pdMessageListeners.forEach(function(listener){\n",
       "          listener(event);\n",
       "        });\n",
       "      }, false);\n",
       "      iframe.contentWindow.ready = true;\n",
       "      iframe.contentWindow[\"triggerPDEvent\"] = function(eventInfo) {\n",
       "        $(document).trigger('pd_event', eventInfo);\n",
       "      }\n",
       "    } catch (e) {\n",
       "      console.log(e)\n",
       "    }\n",
       "  }\n",
       "\n",
       "  \n",
       "</script>\n",
       "<iframe id=\"mapframed40917fc\" style=\"width:878.4000000000001px;height:500px\" srcdoc=\"<!DOCTYPE html>\n",
       "<html lang=&quot;en&quot;>\n",
       "<head>\n",
       "    <meta charset=&quot;UTF-8&quot;>\n",
       "    <meta name=&quot;viewport&quot; content=&quot;width=device-width, initial-scale=1&quot;>\n",
       "    <title>Pixiedust Mapbox map</title>\n",
       "    <script src=&quot;https://api.tiles.mapbox.com/mapbox-gl-js/v0.32.1/mapbox-gl.js&quot;></script>\n",
       "    <link href=&quot;https://api.tiles.mapbox.com/mapbox-gl-js/v0.32.1/mapbox-gl.css&quot; rel=&quot;stylesheet&quot; />\n",
       "    <style>\n",
       "    .mapboxgl-popup-content h3 { \n",
       "        margin: 2px 0 2px 0;\n",
       "        font-style: italic;\n",
       "    }\n",
       "    .mapboxgl-popup {\n",
       "        max-width: 200px;\n",
       "    }\n",
       "    #map canvas {\n",
       "        cursor: crosshair;\n",
       "    }\n",
       "    .legend {\n",
       "        background-color: rgba(255,255,255, 0.75);\n",
       "        border-radius: 3px;\n",
       "        position: absolute;\n",
       "        left: 14px;\n",
       "        top: 14px;\n",
       "        box-shadow: 0 1px 2px rgba(0,0,0,0.10);\n",
       "        font-size: 12px;\n",
       "        line-height: 18px;\n",
       "        padding: 10px;\n",
       "        z-index: 1;\n",
       "    }\n",
       "    .legend h4 {\n",
       "        margin: 0 0 10px;\n",
       "    }\n",
       "    .legend div span {\n",
       "        border-radius: 50%;\n",
       "        display: inline-block;\n",
       "        height: 10px;\n",
       "        margin-right: 5px;\n",
       "        width: 10px;\n",
       "    }\n",
       "    body { \n",
       "        background-color:#333; \n",
       "        margin:0px !important; \n",
       "        overflow: hidden;\n",
       "        font-family: &quot;Helvetica Neue&quot;, Arial, Helvetica, sans-serif;\n",
       "    }\n",
       "    </style>\n",
       "</head>\n",
       "<body>\n",
       "<div id=&quot;map-d40917fc-932f1560&quot; style=&quot;width:calc(878.4000000000001px - 4px);height:calc(500px - 4px)&quot; />\n",
       "\n",
       "\n",
       "<script>\n",
       "    !function(e){if(&quot;object&quot;==typeof exports&amp;&amp;&quot;undefined&quot;!=typeof module)module.exports=e();else if(&quot;function&quot;==typeof define&amp;&amp;define.amd)define([],e);else{var n;&quot;undefined&quot;!=typeof window?n=window:&quot;undefined&quot;!=typeof global?n=global:&quot;undefined&quot;!=typeof self&amp;&amp;(n=self),n.geojsonExtent=e()}}(function(){return function e(t,n,r){function s(o,u){if(!n[o]){if(!t[o]){var a=&quot;function&quot;==typeof require&amp;&amp;require;if(!u&amp;&amp;a)return a(o,!0);if(i)return i(o,!0);var f=new Error(&quot;Cannot find module &quot;+o+&quot;&quot;);throw f.code=&quot;MODULE_NOT_FOUND&quot;,f}var l=n[o]={exports:{}};t[o][0].call(l.exports,function(e){var n=t[o][1][e];return s(n?n:e)},l,l.exports,e,t,n,r)}return n[o].exports}for(var i=&quot;function&quot;==typeof require&amp;&amp;require,o=0;o<r.length;o++)s(r[o]);return s}({1:[function(require,module){function getExtent(_){for(var ext=extent(),coords=geojsonCoords(_),i=0;i<coords.length;i++)ext.include(coords[i]);return ext}var geojsonCoords=require(&quot;geojson-coords&quot;),traverse=require(&quot;traverse&quot;),extent=require(&quot;extent&quot;),geojsonTypes=[&quot;Point&quot;,&quot;MultiPoint&quot;,&quot;LineString&quot;,&quot;MultiLineString&quot;,&quot;Polygon&quot;,&quot;MultiPolygon&quot;,&quot;Feature&quot;,&quot;FeatureCollection&quot;,&quot;GeometryCollection&quot;];module.exports=function(_){return getExtent(_).bbox()},module.exports.polygon=function(_){return getExtent(_).polygon()},module.exports.bboxify=function(_){return traverse(_).map(function(value){value&amp;&amp;-1!==typeof geojsonTypes.indexOf(value.type)&amp;&amp;(console.log(value.type,value),value.bbox=getExtent(value).bbox(),this.update(value))})}},{extent:2,&quot;geojson-coords&quot;:4,traverse:7}],2:[function(require,module){function Extent(){return this instanceof Extent?(this._bbox=[1/0,1/0,-(1/0),-(1/0)],void(this._valid=!1)):new Extent}module.exports=Extent,Extent.prototype.include=function(ll){return this._valid=!0,this._bbox[0]=Math.min(this._bbox[0],ll[0]),this._bbox[1]=Math.min(this._bbox[1],ll[1]),this._bbox[2]=Math.max(this._bbox[2],ll[0]),this._bbox[3]=Math.max(this._bbox[3],ll[1]),this},Extent.prototype.union=function(other){return this._valid=!0,this._bbox[0]=Math.min(this._bbox[0],other[0]),this._bbox[1]=Math.min(this._bbox[1],other[1]),this._bbox[2]=Math.max(this._bbox[2],other[2]),this._bbox[3]=Math.max(this._bbox[3],other[3]),this},Extent.prototype.bbox=function(){return this._valid?this._bbox:null},Extent.prototype.contains=function(ll){return this._valid?this._bbox[0]<=ll[0]&amp;&amp;this._bbox[1]<=ll[1]&amp;&amp;this._bbox[2]>=ll[0]&amp;&amp;this._bbox[3]>=ll[1]:null},Extent.prototype.polygon=function(){return this._valid?{type:&quot;Polygon&quot;,coordinates:[[[this._bbox[0],this._bbox[1]],[this._bbox[2],this._bbox[1]],[this._bbox[2],this._bbox[3]],[this._bbox[0],this._bbox[3]],[this._bbox[0],this._bbox[1]]]]}:null}},{}],3:[function(require,module){module.exports=function(list){function _flatten(list){return Array.isArray(list)&amp;&amp;list.length&amp;&amp;&quot;number&quot;==typeof list[0]?[list]:list.reduce(function(acc,item){return Array.isArray(item)&amp;&amp;Array.isArray(item[0])?acc.concat(_flatten(item)):(acc.push(item),acc)},[])}return _flatten(list)}},{}],4:[function(require,module){var geojsonNormalize=require(&quot;geojson-normalize&quot;),geojsonFlatten=require(&quot;geojson-flatten&quot;),flatten=require(&quot;./flatten&quot;);module.exports=function(_){if(!_)return[];var normalized=geojsonFlatten(geojsonNormalize(_)),coordinates=[];return normalized.features.forEach(function(feature){feature.geometry&amp;&amp;(coordinates=coordinates.concat(flatten(feature.geometry.coordinates)))}),coordinates}},{&quot;./flatten&quot;:3,&quot;geojson-flatten&quot;:5,&quot;geojson-normalize&quot;:6}],5:[function(require,module){function flatten(gj){switch(gj&amp;&amp;gj.type||null){case&quot;FeatureCollection&quot;:return gj.features=gj.features.reduce(function(mem,feature){return mem.concat(flatten(feature))},[]),gj;case&quot;Feature&quot;:return flatten(gj.geometry).map(function(geom){return{type:&quot;Feature&quot;,properties:JSON.parse(JSON.stringify(gj.properties)),geometry:geom}});case&quot;MultiPoint&quot;:return gj.coordinates.map(function(_){return{type:&quot;Point&quot;,coordinates:_}});case&quot;MultiPolygon&quot;:return gj.coordinates.map(function(_){return{type:&quot;Polygon&quot;,coordinates:_}});case&quot;MultiLineString&quot;:return gj.coordinates.map(function(_){return{type:&quot;LineString&quot;,coordinates:_}});case&quot;GeometryCollection&quot;:return gj.geometries;case&quot;Point&quot;:case&quot;Polygon&quot;:case&quot;LineString&quot;:return[gj];default:return gj}}module.exports=flatten},{}],6:[function(require,module){function normalize(gj){if(!gj||!gj.type)return null;var type=types[gj.type];return type?&quot;geometry&quot;===type?{type:&quot;FeatureCollection&quot;,features:[{type:&quot;Feature&quot;,properties:{},geometry:gj}]}:&quot;feature&quot;===type?{type:&quot;FeatureCollection&quot;,features:[gj]}:&quot;featurecollection&quot;===type?gj:void 0:null}module.exports=normalize;var types={Point:&quot;geometry&quot;,MultiPoint:&quot;geometry&quot;,LineString:&quot;geometry&quot;,MultiLineString:&quot;geometry&quot;,Polygon:&quot;geometry&quot;,MultiPolygon:&quot;geometry&quot;,GeometryCollection:&quot;geometry&quot;,Feature:&quot;feature&quot;,FeatureCollection:&quot;featurecollection&quot;}},{}],7:[function(require,module){function Traverse(obj){this.value=obj}function walk(root,cb,immutable){var path=[],parents=[],alive=!0;return function walker(node_){function updateState(){if(&quot;object&quot;==typeof state.node&amp;&amp;null!==state.node){state.keys&amp;&amp;state.node_===state.node||(state.keys=objectKeys(state.node)),state.isLeaf=0==state.keys.length;for(var i=0;i<parents.length;i++)if(parents[i].node_===node_){state.circular=parents[i];break}}else state.isLeaf=!0,state.keys=null;state.notLeaf=!state.isLeaf,state.notRoot=!state.isRoot}var node=immutable?copy(node_):node_,modifiers={},keepGoing=!0,state={node:node,node_:node_,path:[].concat(path),parent:parents[parents.length-1],parents:parents,key:path.slice(-1)[0],isRoot:0===path.length,level:path.length,circular:null,update:function(x,stopHere){state.isRoot||(state.parent.node[state.key]=x),state.node=x,stopHere&amp;&amp;(keepGoing=!1)},&quot;delete&quot;:function(stopHere){delete state.parent.node[state.key],stopHere&amp;&amp;(keepGoing=!1)},remove:function(stopHere){isArray(state.parent.node)?state.parent.node.splice(state.key,1):delete state.parent.node[state.key],stopHere&amp;&amp;(keepGoing=!1)},keys:null,before:function(f){modifiers.before=f},after:function(f){modifiers.after=f},pre:function(f){modifiers.pre=f},post:function(f){modifiers.post=f},stop:function(){alive=!1},block:function(){keepGoing=!1}};if(!alive)return state;updateState();var ret=cb.call(state,state.node);return void 0!==ret&amp;&amp;state.update&amp;&amp;state.update(ret),modifiers.before&amp;&amp;modifiers.before.call(state,state.node),keepGoing?(&quot;object&quot;!=typeof state.node||null===state.node||state.circular||(parents.push(state),updateState(),forEach(state.keys,function(key,i){path.push(key),modifiers.pre&amp;&amp;modifiers.pre.call(state,state.node[key],key);var child=walker(state.node[key]);immutable&amp;&amp;hasOwnProperty.call(state.node,key)&amp;&amp;(state.node[key]=child.node),child.isLast=i==state.keys.length-1,child.isFirst=0==i,modifiers.post&amp;&amp;modifiers.post.call(state,child),path.pop()}),parents.pop()),modifiers.after&amp;&amp;modifiers.after.call(state,state.node),state):state}(root).node}function copy(src){if(&quot;object&quot;==typeof src&amp;&amp;null!==src){var dst;if(isArray(src))dst=[];else if(isDate(src))dst=new Date(src.getTime?src.getTime():src);else if(isRegExp(src))dst=new RegExp(src);else if(isError(src))dst={message:src.message};else if(isBoolean(src))dst=new Boolean(src);else if(isNumber(src))dst=new Number(src);else if(isString(src))dst=new String(src);else if(Object.create&amp;&amp;Object.getPrototypeOf)dst=Object.create(Object.getPrototypeOf(src));else if(src.constructor===Object)dst={};else{var proto=src.constructor&amp;&amp;src.constructor.prototype||src.__proto__||{},T=function(){};T.prototype=proto,dst=new T}return forEach(objectKeys(src),function(key){dst[key]=src[key]}),dst}return src}function toS(obj){return Object.prototype.toString.call(obj)}function isDate(obj){return&quot;[object Date]&quot;===toS(obj)}function isRegExp(obj){return&quot;[object RegExp]&quot;===toS(obj)}function isError(obj){return&quot;[object Error]&quot;===toS(obj)}function isBoolean(obj){return&quot;[object Boolean]&quot;===toS(obj)}function isNumber(obj){return&quot;[object Number]&quot;===toS(obj)}function isString(obj){return&quot;[object String]&quot;===toS(obj)}var traverse=module.exports=function(obj){return new Traverse(obj)};Traverse.prototype.get=function(ps){for(var node=this.value,i=0;i<ps.length;i++){var key=ps[i];if(!node||!hasOwnProperty.call(node,key)){node=void 0;break}node=node[key]}return node},Traverse.prototype.has=function(ps){for(var node=this.value,i=0;i<ps.length;i++){var key=ps[i];if(!node||!hasOwnProperty.call(node,key))return!1;node=node[key]}return!0},Traverse.prototype.set=function(ps,value){for(var node=this.value,i=0;i<ps.length-1;i++){var key=ps[i];hasOwnProperty.call(node,key)||(node[key]={}),node=node[key]}return node[ps[i]]=value,value},Traverse.prototype.map=function(cb){return walk(this.value,cb,!0)},Traverse.prototype.forEach=function(cb){return this.value=walk(this.value,cb,!1),this.value},Traverse.prototype.reduce=function(cb,init){var skip=1===arguments.length,acc=skip?this.value:init;return this.forEach(function(x){this.isRoot&amp;&amp;skip||(acc=cb.call(this,acc,x))}),acc},Traverse.prototype.paths=function(){var acc=[];return this.forEach(function(){acc.push(this.path)}),acc},Traverse.prototype.nodes=function(){var acc=[];return this.forEach(function(){acc.push(this.node)}),acc},Traverse.prototype.clone=function(){var parents=[],nodes=[];return function clone(src){for(var i=0;i<parents.length;i++)if(parents[i]===src)return nodes[i];if(&quot;object&quot;==typeof src&amp;&amp;null!==src){var dst=copy(src);return parents.push(src),nodes.push(dst),forEach(objectKeys(src),function(key){dst[key]=clone(src[key])}),parents.pop(),nodes.pop(),dst}return src}(this.value)};var objectKeys=Object.keys||function(obj){var res=[];for(var key in obj)res.push(key);return res},isArray=Array.isArray||function(xs){return&quot;[object Array]&quot;===Object.prototype.toString.call(xs)},forEach=function(xs,fn){if(xs.forEach)return xs.forEach(fn);for(var i=0;i<xs.length;i++)fn(xs[i],i,xs)};forEach(objectKeys(Traverse.prototype),function(key){traverse[key]=function(obj){var args=[].slice.call(arguments,1),t=new Traverse(obj);return t[key].apply(t,args)}});var hasOwnProperty=Object.hasOwnProperty||function(obj,key){return key in obj}},{}]},{},[1])(1)});    \n",
       "    var comment = &quot;&quot;;\n",
       "    mapboxgl.accessToken=&quot;pk.eyJ1IjoibWFwYm94IiwiYSI6ImNpejY4M29iazA2Z2gycXA4N2pmbDZmangifQ.-g_vE53SD2WrJ6tFX7QHmA&quot;;\n",
       "    var mapdata = null;\n",
       "    var map = new mapboxgl.Map({\n",
       "        container: &quot;map-d40917fc-932f1560&quot;,\n",
       "        style: &quot;mapbox://styles/mapbox/outdoors-v9&quot;\n",
       "    });\n",
       "\n",
       "    setTimeout(function(){\n",
       "        if (window.addPDMessageListener){\n",
       "            window.addPDMessageListener(function(event){\n",
       "                streamingLayer = map.getSource(&quot;streamingLayer&quot;);\n",
       "                if (streamingLayer){\n",
       "                    streamingLayer.setData(event.data.data);\n",
       "                }else{\n",
       "                    map.addLayer({\n",
       "                        &quot;id&quot;: &quot;streamingLayer&quot;,\n",
       "                        &quot;maptype&quot;: &quot;mapbox&quot;,\n",
       "                        &quot;type&quot;: event.data.type,\n",
       "                        &quot;source&quot;: { type: &quot;geojson&quot;, data: event.data.data },\n",
       "                        &quot;layout&quot;: event.data.layout || {},\n",
       "                        &quot;paint&quot;: event.data.paint || {}\n",
       "                    });\n",
       "                    if (event.data.fitbounds &amp;&amp; event.data.data.features){\n",
       "                        function updateBounds(res, ar){\n",
       "                            if (ar[0].length >=2 &amp;&amp; ar[1].length >= 2 ){\n",
       "                                if (!res){\n",
       "                                    return ar;\n",
       "                                }\n",
       "                                return [ \n",
       "                                    [Math.min( ar[0][0]-0.1, res[0][0]), Math.min( ar[0][1]-0.1, res[0][1])],\n",
       "                                    [Math.max( ar[1][0]+0.1, res[1][0]), Math.max( ar[1][1]+0.1, res[1][1])]\n",
       "                                ]\n",
       "                            }\n",
       "                            return null;\n",
       "                        }\n",
       "                        var bbox = event.data.data.features.reduce(function(res, value){\n",
       "                            var coord = value.geometry.coordinates;\n",
       "                            if (coord.length >= 2 ){\n",
       "                                res = updateBounds( res, [coord[0], coord[1]]);\n",
       "                            }\n",
       "                            return res;\n",
       "                        }, null);\n",
       "                        if (bbox){\n",
       "                            map.fitBounds(bbox);\n",
       "                        }\n",
       "                    }\n",
       "                }\n",
       "            });\n",
       "        };\n",
       "    },100);\n",
       "\n",
       "    var popup = new mapboxgl.Popup({closeButton: false,closeOnClick: true});\n",
       "\n",
       "    function divineGeometryType(mapdata) {\n",
       "        comment = &quot;check type of first geometry. Later expand to check all geometries and make a good decision&quot;;\n",
       "        return mapdata.features[0].geometry.type;\n",
       "    }\n",
       "    \n",
       "    map.on(&quot;mousemove&quot;, function (e) {\n",
       "        var fs = map.queryRenderedFeatures(e.point,{layers:[&quot;pxlayer&quot;]});\n",
       "        if (!fs || !fs.length) {popup.remove();return;};\n",
       "        popuphtml = &quot;&quot;;\n",
       "        var hr = false;\n",
       "        fs.forEach(function(f){\n",
       "            if (hr){ \n",
       "                popuphtml += &quot;<hr>\\n&quot;;\n",
       "            }\n",
       "            hr=true;\n",
       "            popuphtml += &quot;<h3>&quot;+f.layer.id.toUpperCase()+&quot;</h3>\\n&quot;;\n",
       "            var keylength = Object.keys(f.properties).length;\n",
       "            for (var key in f.properties) {\n",
       "                popuphtml += &quot;<b>&quot;+key+&quot;: </b> &quot;+f.properties[key]+&quot;<br/>\\n&quot;;\n",
       "            }\n",
       "        });\n",
       "        popup.setLngLat(e.lngLat).setHTML(popuphtml).addTo(map);\n",
       "    });\n",
       "    \n",
       "    map.on(&quot;click&quot;, function (e) {\n",
       "        var fs = map.queryRenderedFeatures(e.point, { layers: [&quot;pxlayer&quot;] });\n",
       "        if (fs &amp;&amp; fs.length) {\n",
       "            var f = fs[0];\n",
       "            console.log(&quot;clicked&quot;, f);\n",
       "            var keylength = Object.keys(f.properties).length;\n",
       "            var payload = {type:&quot;select&quot;, targetDivId: &quot;&quot; };\n",
       "\n",
       "            for (var key in f.properties) {\n",
       "                payload[key] = f.properties[key];\n",
       "            }\n",
       "\n",
       "            if (window.triggerPDEvent) {\n",
       "                window.triggerPDEvent(payload);\n",
       "            }\n",
       "        }\n",
       "    });\n",
       "        \n",
       "    map.on(&quot;load&quot;, function() {\n",
       "        \n",
       "        mapdata={&quot;type&quot;: &quot;FeatureCollection&quot;, &quot;features&quot;: [{&quot;type&quot;: &quot;Feature&quot;, &quot;properties&quot;: {&quot;pd_count&quot;: 3.0}, &quot;geometry&quot;: {&quot;type&quot;: &quot;Point&quot;, &quot;coordinates&quot;: [-2.132216, 53.736812]}}, {&quot;type&quot;: &quot;Feature&quot;, &quot;properties&quot;: {&quot;pd_count&quot;: 3.0}, &quot;geometry&quot;: {&quot;type&quot;: &quot;Point&quot;, &quot;coordinates&quot;: [-2.10412, 53.697921]}}, {&quot;type&quot;: &quot;Feature&quot;, &quot;properties&quot;: {&quot;pd_count&quot;: 2.0}, &quot;geometry&quot;: {&quot;type&quot;: &quot;Point&quot;, &quot;coordinates&quot;: [-2.085377, 53.716497]}}, {&quot;type&quot;: &quot;Feature&quot;, &quot;properties&quot;: {&quot;pd_count&quot;: 3.0}, &quot;geometry&quot;: {&quot;type&quot;: &quot;Point&quot;, &quot;coordinates&quot;: [-2.023402, 53.74117]}}, {&quot;type&quot;: &quot;Feature&quot;, &quot;properties&quot;: {&quot;pd_count&quot;: 9.0}, &quot;geometry&quot;: {&quot;type&quot;: &quot;Point&quot;, &quot;coordinates&quot;: [-1.946711, 53.721396]}}, {&quot;type&quot;: &quot;Feature&quot;, &quot;properties&quot;: {&quot;pd_count&quot;: 9.0}, &quot;geometry&quot;: {&quot;type&quot;: &quot;Point&quot;, &quot;coordinates&quot;: [-1.923773, 53.852842]}}, {&quot;type&quot;: &quot;Feature&quot;, &quot;properties&quot;: {&quot;pd_count&quot;: 18.0}, &quot;geometry&quot;: {&quot;type&quot;: &quot;Point&quot;, &quot;coordinates&quot;: [-1.917056, 53.604371]}}, {&quot;type&quot;: &quot;Feature&quot;, &quot;properties&quot;: {&quot;pd_count&quot;: 4.0}, &quot;geometry&quot;: {&quot;type&quot;: &quot;Point&quot;, &quot;coordinates&quot;: [-1.890723, 53.824127]}}, {&quot;type&quot;: &quot;Feature&quot;, &quot;properties&quot;: {&quot;pd_count&quot;: 6.0}, &quot;geometry&quot;: {&quot;type&quot;: &quot;Point&quot;, &quot;coordinates&quot;: [-1.884336, 53.876251]}}, {&quot;type&quot;: &quot;Feature&quot;, &quot;properties&quot;: {&quot;pd_count&quot;: 1.0}, &quot;geometry&quot;: {&quot;type&quot;: &quot;Point&quot;, &quot;coordinates&quot;: [-1.874844, 53.610815]}}, {&quot;type&quot;: &quot;Feature&quot;, &quot;properties&quot;: {&quot;pd_count&quot;: 2.0}, &quot;geometry&quot;: {&quot;type&quot;: &quot;Point&quot;, &quot;coordinates&quot;: [-1.858349, 53.621223]}}, {&quot;type&quot;: &quot;Feature&quot;, &quot;properties&quot;: {&quot;pd_count&quot;: 6.0}, &quot;geometry&quot;: {&quot;type&quot;: &quot;Point&quot;, &quot;coordinates&quot;: [-1.84936, 53.69168]}}, {&quot;type&quot;: &quot;Feature&quot;, &quot;properties&quot;: {&quot;pd_count&quot;: 3.0}, &quot;geometry&quot;: {&quot;type&quot;: &quot;Point&quot;, &quot;coordinates&quot;: [-1.848952, 53.644797]}}, {&quot;type&quot;: &quot;Feature&quot;, &quot;properties&quot;: {&quot;pd_count&quot;: 35.0}, &quot;geometry&quot;: {&quot;type&quot;: &quot;Point&quot;, &quot;coordinates&quot;: [-1.836074, 53.767306]}}, {&quot;type&quot;: &quot;Feature&quot;, &quot;properties&quot;: {&quot;pd_count&quot;: 11.0}, &quot;geometry&quot;: {&quot;type&quot;: &quot;Point&quot;, &quot;coordinates&quot;: [-1.83416, 53.844968]}}, {&quot;type&quot;: &quot;Feature&quot;, &quot;properties&quot;: {&quot;pd_count&quot;: 10.0}, &quot;geometry&quot;: {&quot;type&quot;: &quot;Point&quot;, &quot;coordinates&quot;: [-1.834, 53.685215]}}, {&quot;type&quot;: &quot;Feature&quot;, &quot;properties&quot;: {&quot;pd_count&quot;: 2.0}, &quot;geometry&quot;: {&quot;type&quot;: &quot;Point&quot;, &quot;coordinates&quot;: [-1.833379, 53.861801]}}, {&quot;type&quot;: &quot;Feature&quot;, &quot;properties&quot;: {&quot;pd_count&quot;: 15.0}, &quot;geometry&quot;: {&quot;type&quot;: &quot;Point&quot;, &quot;coordinates&quot;: [-1.82808, 53.848878]}}, {&quot;type&quot;: &quot;Feature&quot;, &quot;properties&quot;: {&quot;pd_count&quot;: 6.0}, &quot;geometry&quot;: {&quot;type&quot;: &quot;Point&quot;, &quot;coordinates&quot;: [-1.815049, 53.614558]}}, {&quot;type&quot;: &quot;Feature&quot;, &quot;properties&quot;: {&quot;pd_count&quot;: 2.0}, &quot;geometry&quot;: {&quot;type&quot;: &quot;Point&quot;, &quot;coordinates&quot;: [-1.795837, 53.623955]}}, {&quot;type&quot;: &quot;Feature&quot;, &quot;properties&quot;: {&quot;pd_count&quot;: 20.0}, &quot;geometry&quot;: {&quot;type&quot;: &quot;Point&quot;, &quot;coordinates&quot;: [-1.794961, 53.798512]}}, {&quot;type&quot;: &quot;Feature&quot;, &quot;properties&quot;: {&quot;pd_count&quot;: 27.0}, &quot;geometry&quot;: {&quot;type&quot;: &quot;Point&quot;, &quot;coordinates&quot;: [-1.794474, 53.77703]}}, {&quot;type&quot;: &quot;Feature&quot;, &quot;properties&quot;: {&quot;pd_count&quot;: 7.0}, &quot;geometry&quot;: {&quot;type&quot;: &quot;Point&quot;, &quot;coordinates&quot;: [-1.794448, 53.816433]}}, {&quot;type&quot;: &quot;Feature&quot;, &quot;properties&quot;: {&quot;pd_count&quot;: 28.0}, &quot;geometry&quot;: {&quot;type&quot;: &quot;Point&quot;, &quot;coordinates&quot;: [-1.786961, 53.642222]}}, {&quot;type&quot;: &quot;Feature&quot;, &quot;properties&quot;: {&quot;pd_count&quot;: 23.0}, &quot;geometry&quot;: {&quot;type&quot;: &quot;Point&quot;, &quot;coordinates&quot;: [-1.785488, 53.80432]}}, {&quot;type&quot;: &quot;Feature&quot;, &quot;properties&quot;: {&quot;pd_count&quot;: 13.0}, &quot;geometry&quot;: {&quot;type&quot;: &quot;Point&quot;, &quot;coordinates&quot;: [-1.785186, 53.723723]}}, {&quot;type&quot;: &quot;Feature&quot;, &quot;properties&quot;: {&quot;pd_count&quot;: 7.0}, &quot;geometry&quot;: {&quot;type&quot;: &quot;Point&quot;, &quot;coordinates&quot;: [-1.783606, 53.71253]}}, {&quot;type&quot;: &quot;Feature&quot;, &quot;properties&quot;: {&quot;pd_count&quot;: 11.0}, &quot;geometry&quot;: {&quot;type&quot;: &quot;Point&quot;, &quot;coordinates&quot;: [-1.780331, 53.657769]}}, {&quot;type&quot;: &quot;Feature&quot;, &quot;properties&quot;: {&quot;pd_count&quot;: 42.0}, &quot;geometry&quot;: {&quot;type&quot;: &quot;Point&quot;, &quot;coordinates&quot;: [-1.778833, 53.837006]}}, {&quot;type&quot;: &quot;Feature&quot;, &quot;properties&quot;: {&quot;pd_count&quot;: 33.0}, &quot;geometry&quot;: {&quot;type&quot;: &quot;Point&quot;, &quot;coordinates&quot;: [-1.775054, 53.841618]}}, {&quot;type&quot;: &quot;Feature&quot;, &quot;properties&quot;: {&quot;pd_count&quot;: 8.0}, &quot;geometry&quot;: {&quot;type&quot;: &quot;Point&quot;, &quot;coordinates&quot;: [-1.767237, 53.650508]}}, {&quot;type&quot;: &quot;Feature&quot;, &quot;properties&quot;: {&quot;pd_count&quot;: 12.0}, &quot;geometry&quot;: {&quot;type&quot;: &quot;Point&quot;, &quot;coordinates&quot;: [-1.760726, 53.643314]}}, {&quot;type&quot;: &quot;Feature&quot;, &quot;properties&quot;: {&quot;pd_count&quot;: 32.0}, &quot;geometry&quot;: {&quot;type&quot;: &quot;Point&quot;, &quot;coordinates&quot;: [-1.758178, 53.776791]}}, {&quot;type&quot;: &quot;Feature&quot;, &quot;properties&quot;: {&quot;pd_count&quot;: 2.0}, &quot;geometry&quot;: {&quot;type&quot;: &quot;Point&quot;, &quot;coordinates&quot;: [-1.754953, 53.752104]}}, {&quot;type&quot;: &quot;Feature&quot;, &quot;properties&quot;: {&quot;pd_count&quot;: 13.0}, &quot;geometry&quot;: {&quot;type&quot;: &quot;Point&quot;, &quot;coordinates&quot;: [-1.745513, 53.856237]}}, {&quot;type&quot;: &quot;Feature&quot;, &quot;properties&quot;: {&quot;pd_count&quot;: 19.0}, &quot;geometry&quot;: {&quot;type&quot;: &quot;Point&quot;, &quot;coordinates&quot;: [-1.732032, 53.765024]}}, {&quot;type&quot;: &quot;Feature&quot;, &quot;properties&quot;: {&quot;pd_count&quot;: 40.0}, &quot;geometry&quot;: {&quot;type&quot;: &quot;Point&quot;, &quot;coordinates&quot;: [-1.728682, 53.823583]}}, {&quot;type&quot;: &quot;Feature&quot;, &quot;properties&quot;: {&quot;pd_count&quot;: 2.0}, &quot;geometry&quot;: {&quot;type&quot;: &quot;Point&quot;, &quot;coordinates&quot;: [-1.719659, 53.716353]}}, {&quot;type&quot;: &quot;Feature&quot;, &quot;properties&quot;: {&quot;pd_count&quot;: 3.0}, &quot;geometry&quot;: {&quot;type&quot;: &quot;Point&quot;, &quot;coordinates&quot;: [-1.7165, 53.724129]}}, {&quot;type&quot;: &quot;Feature&quot;, &quot;properties&quot;: {&quot;pd_count&quot;: 42.0}, &quot;geometry&quot;: {&quot;type&quot;: &quot;Point&quot;, &quot;coordinates&quot;: [-1.714685, 53.681045]}}, {&quot;type&quot;: &quot;Feature&quot;, &quot;properties&quot;: {&quot;pd_count&quot;: 5.0}, &quot;geometry&quot;: {&quot;type&quot;: &quot;Point&quot;, &quot;coordinates&quot;: [-1.702078, 53.901319]}}, {&quot;type&quot;: &quot;Feature&quot;, &quot;properties&quot;: {&quot;pd_count&quot;: 12.0}, &quot;geometry&quot;: {&quot;type&quot;: &quot;Point&quot;, &quot;coordinates&quot;: [-1.686091, 53.865623]}}, {&quot;type&quot;: &quot;Feature&quot;, &quot;properties&quot;: {&quot;pd_count&quot;: 20.0}, &quot;geometry&quot;: {&quot;type&quot;: &quot;Point&quot;, &quot;coordinates&quot;: [-1.679999, 53.870802]}}, {&quot;type&quot;: &quot;Feature&quot;, &quot;properties&quot;: {&quot;pd_count&quot;: 6.0}, &quot;geometry&quot;: {&quot;type&quot;: &quot;Point&quot;, &quot;coordinates&quot;: [-1.674675, 53.71001]}}, {&quot;type&quot;: &quot;Feature&quot;, &quot;properties&quot;: {&quot;pd_count&quot;: 33.0}, &quot;geometry&quot;: {&quot;type&quot;: &quot;Point&quot;, &quot;coordinates&quot;: [-1.663975, 53.678118]}}, {&quot;type&quot;: &quot;Feature&quot;, &quot;properties&quot;: {&quot;pd_count&quot;: 11.0}, &quot;geometry&quot;: {&quot;type&quot;: &quot;Point&quot;, &quot;coordinates&quot;: [-1.657619, 53.787907]}}, {&quot;type&quot;: &quot;Feature&quot;, &quot;properties&quot;: {&quot;pd_count&quot;: 5.0}, &quot;geometry&quot;: {&quot;type&quot;: &quot;Point&quot;, &quot;coordinates&quot;: [-1.642602, 53.833352]}}, {&quot;type&quot;: &quot;Feature&quot;, &quot;properties&quot;: {&quot;pd_count&quot;: 26.0}, &quot;geometry&quot;: {&quot;type&quot;: &quot;Point&quot;, &quot;coordinates&quot;: [-1.636756, 53.839887]}}, {&quot;type&quot;: &quot;Feature&quot;, &quot;properties&quot;: {&quot;pd_count&quot;: 6.0}, &quot;geometry&quot;: {&quot;type&quot;: &quot;Point&quot;, &quot;coordinates&quot;: [-1.63536, 53.808164]}}, {&quot;type&quot;: &quot;Feature&quot;, &quot;properties&quot;: {&quot;pd_count&quot;: 9.0}, &quot;geometry&quot;: {&quot;type&quot;: &quot;Point&quot;, &quot;coordinates&quot;: [-1.63175, 53.67396]}}, {&quot;type&quot;: &quot;Feature&quot;, &quot;properties&quot;: {&quot;pd_count&quot;: 6.0}, &quot;geometry&quot;: {&quot;type&quot;: &quot;Point&quot;, &quot;coordinates&quot;: [-1.631632, 53.805474]}}, {&quot;type&quot;: &quot;Feature&quot;, &quot;properties&quot;: {&quot;pd_count&quot;: 11.0}, &quot;geometry&quot;: {&quot;type&quot;: &quot;Point&quot;, &quot;coordinates&quot;: [-1.629158, 53.901754]}}, {&quot;type&quot;: &quot;Feature&quot;, &quot;properties&quot;: {&quot;pd_count&quot;: 2.0}, &quot;geometry&quot;: {&quot;type&quot;: &quot;Point&quot;, &quot;coordinates&quot;: [-1.617451, 53.88376]}}, {&quot;type&quot;: &quot;Feature&quot;, &quot;properties&quot;: {&quot;pd_count&quot;: 19.0}, &quot;geometry&quot;: {&quot;type&quot;: &quot;Point&quot;, &quot;coordinates&quot;: [-1.609573, 53.597086]}}, {&quot;type&quot;: &quot;Feature&quot;, &quot;properties&quot;: {&quot;pd_count&quot;: 51.0}, &quot;geometry&quot;: {&quot;type&quot;: &quot;Point&quot;, &quot;coordinates&quot;: [-1.609281, 53.859367]}}, {&quot;type&quot;: &quot;Feature&quot;, &quot;properties&quot;: {&quot;pd_count&quot;: 5.0}, &quot;geometry&quot;: {&quot;type&quot;: &quot;Point&quot;, &quot;coordinates&quot;: [-1.608055, 53.756118]}}, {&quot;type&quot;: &quot;Feature&quot;, &quot;properties&quot;: {&quot;pd_count&quot;: 19.0}, &quot;geometry&quot;: {&quot;type&quot;: &quot;Point&quot;, &quot;coordinates&quot;: [-1.605938, 53.740867]}}, {&quot;type&quot;: &quot;Feature&quot;, &quot;properties&quot;: {&quot;pd_count&quot;: 42.0}, &quot;geometry&quot;: {&quot;type&quot;: &quot;Point&quot;, &quot;coordinates&quot;: [-1.601997, 53.684561]}}, {&quot;type&quot;: &quot;Feature&quot;, &quot;properties&quot;: {&quot;pd_count&quot;: 44.0}, &quot;geometry&quot;: {&quot;type&quot;: &quot;Point&quot;, &quot;coordinates&quot;: [-1.600682, 53.797933]}}, {&quot;type&quot;: &quot;Feature&quot;, &quot;properties&quot;: {&quot;pd_count&quot;: 53.0}, &quot;geometry&quot;: {&quot;type&quot;: &quot;Point&quot;, &quot;coordinates&quot;: [-1.589842, 53.797968]}}, {&quot;type&quot;: &quot;Feature&quot;, &quot;properties&quot;: {&quot;pd_count&quot;: 44.0}, &quot;geometry&quot;: {&quot;type&quot;: &quot;Point&quot;, &quot;coordinates&quot;: [-1.587985, 53.733266]}}, {&quot;type&quot;: &quot;Feature&quot;, &quot;properties&quot;: {&quot;pd_count&quot;: 38.0}, &quot;geometry&quot;: {&quot;type&quot;: &quot;Point&quot;, &quot;coordinates&quot;: [-1.562279, 53.8279]}}, {&quot;type&quot;: &quot;Feature&quot;, &quot;properties&quot;: {&quot;pd_count&quot;: 6.0}, &quot;geometry&quot;: {&quot;type&quot;: &quot;Point&quot;, &quot;coordinates&quot;: [-1.557909, 53.675634]}}, {&quot;type&quot;: &quot;Feature&quot;, &quot;properties&quot;: {&quot;pd_count&quot;: 12.0}, &quot;geometry&quot;: {&quot;type&quot;: &quot;Point&quot;, &quot;coordinates&quot;: [-1.5555, 53.776418]}}, {&quot;type&quot;: &quot;Feature&quot;, &quot;properties&quot;: {&quot;pd_count&quot;: 7.0}, &quot;geometry&quot;: {&quot;type&quot;: &quot;Point&quot;, &quot;coordinates&quot;: [-1.553469, 53.671753]}}, {&quot;type&quot;: &quot;Feature&quot;, &quot;properties&quot;: {&quot;pd_count&quot;: 5.0}, &quot;geometry&quot;: {&quot;type&quot;: &quot;Point&quot;, &quot;coordinates&quot;: [-1.547517, 53.899272]}}, {&quot;type&quot;: &quot;Feature&quot;, &quot;properties&quot;: {&quot;pd_count&quot;: 12.0}, &quot;geometry&quot;: {&quot;type&quot;: &quot;Point&quot;, &quot;coordinates&quot;: [-1.546678, 53.741763]}}, {&quot;type&quot;: &quot;Feature&quot;, &quot;properties&quot;: {&quot;pd_count&quot;: 14.0}, &quot;geometry&quot;: {&quot;type&quot;: &quot;Point&quot;, &quot;coordinates&quot;: [-1.540543, 53.632668]}}, {&quot;type&quot;: &quot;Feature&quot;, &quot;properties&quot;: {&quot;pd_count&quot;: 10.0}, &quot;geometry&quot;: {&quot;type&quot;: &quot;Point&quot;, &quot;coordinates&quot;: [-1.540418, 53.779076]}}, {&quot;type&quot;: &quot;Feature&quot;, &quot;properties&quot;: {&quot;pd_count&quot;: 11.0}, &quot;geometry&quot;: {&quot;type&quot;: &quot;Point&quot;, &quot;coordinates&quot;: [-1.536759, 53.835821]}}, {&quot;type&quot;: &quot;Feature&quot;, &quot;properties&quot;: {&quot;pd_count&quot;: 7.0}, &quot;geometry&quot;: {&quot;type&quot;: &quot;Point&quot;, &quot;coordinates&quot;: [-1.536295, 53.829618]}}, {&quot;type&quot;: &quot;Feature&quot;, &quot;properties&quot;: {&quot;pd_count&quot;: 162.0}, &quot;geometry&quot;: {&quot;type&quot;: &quot;Point&quot;, &quot;coordinates&quot;: [-1.53271, 53.803674]}}, {&quot;type&quot;: &quot;Feature&quot;, &quot;properties&quot;: {&quot;pd_count&quot;: 13.0}, &quot;geometry&quot;: {&quot;type&quot;: &quot;Point&quot;, &quot;coordinates&quot;: [-1.521493, 53.632324]}}, {&quot;type&quot;: &quot;Feature&quot;, &quot;properties&quot;: {&quot;pd_count&quot;: 69.0}, &quot;geometry&quot;: {&quot;type&quot;: &quot;Point&quot;, &quot;coordinates&quot;: [-1.519335, 53.802084]}}, {&quot;type&quot;: &quot;Feature&quot;, &quot;properties&quot;: {&quot;pd_count&quot;: 3.0}, &quot;geometry&quot;: {&quot;type&quot;: &quot;Point&quot;, &quot;coordinates&quot;: [-1.5193, 53.758689]}}, {&quot;type&quot;: &quot;Feature&quot;, &quot;properties&quot;: {&quot;pd_count&quot;: 31.0}, &quot;geometry&quot;: {&quot;type&quot;: &quot;Point&quot;, &quot;coordinates&quot;: [-1.508254, 53.829138]}}, {&quot;type&quot;: &quot;Feature&quot;, &quot;properties&quot;: {&quot;pd_count&quot;: 24.0}, &quot;geometry&quot;: {&quot;type&quot;: &quot;Point&quot;, &quot;coordinates&quot;: [-1.5058, 53.825919]}}, {&quot;type&quot;: &quot;Feature&quot;, &quot;properties&quot;: {&quot;pd_count&quot;: 39.0}, &quot;geometry&quot;: {&quot;type&quot;: &quot;Point&quot;, &quot;coordinates&quot;: [-1.494379, 53.66644]}}, {&quot;type&quot;: &quot;Feature&quot;, &quot;properties&quot;: {&quot;pd_count&quot;: 13.0}, &quot;geometry&quot;: {&quot;type&quot;: &quot;Point&quot;, &quot;coordinates&quot;: [-1.475411, 53.750847]}}, {&quot;type&quot;: &quot;Feature&quot;, &quot;properties&quot;: {&quot;pd_count&quot;: 37.0}, &quot;geometry&quot;: {&quot;type&quot;: &quot;Point&quot;, &quot;coordinates&quot;: [-1.46511, 53.818042]}}, {&quot;type&quot;: &quot;Feature&quot;, &quot;properties&quot;: {&quot;pd_count&quot;: 22.0}, &quot;geometry&quot;: {&quot;type&quot;: &quot;Point&quot;, &quot;coordinates&quot;: [-1.459583, 53.824983]}}, {&quot;type&quot;: &quot;Feature&quot;, &quot;properties&quot;: {&quot;pd_count&quot;: 2.0}, &quot;geometry&quot;: {&quot;type&quot;: &quot;Point&quot;, &quot;coordinates&quot;: [-1.457931, 53.799899]}}, {&quot;type&quot;: &quot;Feature&quot;, &quot;properties&quot;: {&quot;pd_count&quot;: 8.0}, &quot;geometry&quot;: {&quot;type&quot;: &quot;Point&quot;, &quot;coordinates&quot;: [-1.419404, 53.688265]}}, {&quot;type&quot;: &quot;Feature&quot;, &quot;properties&quot;: {&quot;pd_count&quot;: 1.0}, &quot;geometry&quot;: {&quot;type&quot;: &quot;Point&quot;, &quot;coordinates&quot;: [-1.406182, 53.635718]}}, {&quot;type&quot;: &quot;Feature&quot;, &quot;properties&quot;: {&quot;pd_count&quot;: 13.0}, &quot;geometry&quot;: {&quot;type&quot;: &quot;Point&quot;, &quot;coordinates&quot;: [-1.392095, 53.688786]}}, {&quot;type&quot;: &quot;Feature&quot;, &quot;properties&quot;: {&quot;pd_count&quot;: 4.0}, &quot;geometry&quot;: {&quot;type&quot;: &quot;Point&quot;, &quot;coordinates&quot;: [-1.376883, 53.794984]}}, {&quot;type&quot;: &quot;Feature&quot;, &quot;properties&quot;: {&quot;pd_count&quot;: 56.0}, &quot;geometry&quot;: {&quot;type&quot;: &quot;Point&quot;, &quot;coordinates&quot;: [-1.363495, 53.715611]}}, {&quot;type&quot;: &quot;Feature&quot;, &quot;properties&quot;: {&quot;pd_count&quot;: 33.0}, &quot;geometry&quot;: {&quot;type&quot;: &quot;Point&quot;, &quot;coordinates&quot;: [-1.352182, 53.672757]}}, {&quot;type&quot;: &quot;Feature&quot;, &quot;properties&quot;: {&quot;pd_count&quot;: 16.0}, &quot;geometry&quot;: {&quot;type&quot;: &quot;Point&quot;, &quot;coordinates&quot;: [-1.350628, 53.684245]}}, {&quot;type&quot;: &quot;Feature&quot;, &quot;properties&quot;: {&quot;pd_count&quot;: 7.0}, &quot;geometry&quot;: {&quot;type&quot;: &quot;Point&quot;, &quot;coordinates&quot;: [-1.349134, 53.904644]}}, {&quot;type&quot;: &quot;Feature&quot;, &quot;properties&quot;: {&quot;pd_count&quot;: 2.0}, &quot;geometry&quot;: {&quot;type&quot;: &quot;Point&quot;, &quot;coordinates&quot;: [-1.343164, 53.612171]}}, {&quot;type&quot;: &quot;Feature&quot;, &quot;properties&quot;: {&quot;pd_count&quot;: 40.0}, &quot;geometry&quot;: {&quot;type&quot;: &quot;Point&quot;, &quot;coordinates&quot;: [-1.342468, 53.712415]}}, {&quot;type&quot;: &quot;Feature&quot;, &quot;properties&quot;: {&quot;pd_count&quot;: 2.0}, &quot;geometry&quot;: {&quot;type&quot;: &quot;Point&quot;, &quot;coordinates&quot;: [-1.306525, 53.599201]}}, {&quot;type&quot;: &quot;Feature&quot;, &quot;properties&quot;: {&quot;pd_count&quot;: 45.0}, &quot;geometry&quot;: {&quot;type&quot;: &quot;Point&quot;, &quot;coordinates&quot;: [-1.301318, 53.679401]}}, {&quot;type&quot;: &quot;Feature&quot;, &quot;properties&quot;: {&quot;pd_count&quot;: 8.0}, &quot;geometry&quot;: {&quot;type&quot;: &quot;Point&quot;, &quot;coordinates&quot;: [-1.295869, 53.702928]}}, {&quot;type&quot;: &quot;Feature&quot;, &quot;properties&quot;: {&quot;pd_count&quot;: 2.0}, &quot;geometry&quot;: {&quot;type&quot;: &quot;Point&quot;, &quot;coordinates&quot;: [-1.291018, 53.676105]}}, {&quot;type&quot;: &quot;Feature&quot;, &quot;properties&quot;: {&quot;pd_count&quot;: 16.0}, &quot;geometry&quot;: {&quot;type&quot;: &quot;Point&quot;, &quot;coordinates&quot;: [-1.289466, 53.690954]}}, {&quot;type&quot;: &quot;Feature&quot;, &quot;properties&quot;: {&quot;pd_count&quot;: 50.0}, &quot;geometry&quot;: {&quot;type&quot;: &quot;Point&quot;, &quot;coordinates&quot;: [-1.274472, 53.701632]}}, {&quot;type&quot;: &quot;Feature&quot;, &quot;properties&quot;: {&quot;pd_count&quot;: 9.0}, &quot;geometry&quot;: {&quot;type&quot;: &quot;Point&quot;, &quot;coordinates&quot;: [-1.265751, 53.711888]}}, {&quot;type&quot;: &quot;Feature&quot;, &quot;properties&quot;: {&quot;pd_count&quot;: 1.0}, &quot;geometry&quot;: {&quot;type&quot;: &quot;Point&quot;, &quot;coordinates&quot;: [-1.084149, 53.963999]}}]};\n",
       "        geomtype = divineGeometryType(mapdata);\n",
       "        \n",
       "        comment = &quot;this is a densitymap...&quot;;\n",
       "        map.addSource(&quot;pxdatasource&quot;, {\n",
       "            &quot;type&quot;:&quot;geojson&quot;,\n",
       "            &quot;data&quot;:mapdata,\n",
       "            &quot;cluster&quot;: true, \n",
       "            &quot;clusterMaxZoom&quot;: 11, \n",
       "            &quot;clusterRadius&quot;: 20\n",
       "        });\n",
       "        var layers = [];\n",
       "        \n",
       "            layers.push([1.0, &quot;#3e9e7a&quot;]);\n",
       "        \n",
       "            layers.push([5.0, &quot;#2f7c7f&quot;]);\n",
       "        \n",
       "            layers.push([11.0, &quot;#214360&quot;]);\n",
       "        \n",
       "            layers.push([26.25, &quot;#151a3f&quot;]);\n",
       "        \n",
       "            layers.push([162.0, &quot;#0f091d&quot;]);\n",
       "        \n",
       "\n",
       "        layers.forEach(function(layer,i) {\n",
       "            map.addLayer({\n",
       "                &quot;id&quot;: &quot;cluster-&quot; + i, \n",
       "                &quot;type&quot;: &quot;circle&quot;, \n",
       "                &quot;source&quot;: &quot;pxdatasource&quot;, \n",
       "                &quot;paint&quot;: {\n",
       "                    &quot;circle-color&quot;: layer[1],\n",
       "                    &quot;circle-radius&quot;: 70, \n",
       "                    &quot;circle-blur&quot;: 1\n",
       "                }, \n",
       "                &quot;filter&quot;: i === layers.length-1 ? [&quot;>=&quot;, &quot;pd_count&quot;, layer[0]] : \n",
       "                    [&quot;all&quot;, [&quot;>=&quot;, &quot;pd_count&quot;, layer[0]], [&quot;<&quot;, &quot;pd_count&quot;, layers[i+1][0]]]\n",
       "\n",
       "            }, &quot;waterway-label&quot;);\n",
       "        });\n",
       "        \n",
       "        map.addLayer({\n",
       "            &quot;id&quot;: &quot;pxlayer&quot;, \n",
       "            &quot;type&quot;: &quot;circle&quot;, \n",
       "            &quot;source&quot;: &quot;pxdatasource&quot;, \n",
       "            &quot;paint&quot;: {\n",
       "                &quot;circle-color&quot;: &quot;rgba(0,255,0,0.5)&quot;, \n",
       "                &quot;circle-radius&quot;: 20, \n",
       "                &quot;circle-blur&quot;: 1\n",
       "            }, \n",
       "            &quot;filter&quot;: [&quot;!=&quot;, &quot;cluster&quot;, true]\n",
       "        }, &quot;waterway-label&quot;);\n",
       "\n",
       "        \n",
       "        \n",
       "\n",
       "        comment = &quot;Add user layers&quot;;\n",
       "        var layers = [];\n",
       "        \n",
       "        layers.sort(function(a,b) {\n",
       "            return a[1] - b[1];\n",
       "        });\n",
       "        for (layersi=layers.length-1; layersi>=0; layersi--) {\n",
       "            map.addLayer(layers[layersi][0]);\n",
       "            comment = &quot;User layer legend&quot;;\n",
       "            \n",
       "        }\n",
       "        \n",
       "        map.fitBounds([[-2.132216, 53.597086], [-1.084149, 53.963999]]);\n",
       "        \n",
       "        \n",
       "    });\n",
       "</script>\n",
       "</body>\n",
       "</html>\" onload=\"iframeLoaded(this)\"></iframe>\n",
       "<script>\n",
       "  var iframe = document.getElementById('mapframed40917fc');\n",
       "  iframe.setAttribute('srcdoc', atob('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'));\n",
       "</script>\n",
       "\n",
       "        </div>"
      ],
      "text/plain": [
       "<IPython.core.display.HTML object>"
      ]
     },
     "metadata": {},
     "output_type": "display_data"
    }
   ],
   "source": [
    "display(CrimeTypesGeo)"
   ]
  },
  {
   "cell_type": "code",
   "execution_count": 88,
   "metadata": {
    "pixiedust": {
     "displayParams": {
      "aggregation": "COUNT",
      "handlerId": "pieChart",
      "keyFields": "Crime_type",
      "legend": "false",
      "title": "Analysis of Crime in 2020"
     }
    }
   },
   "outputs": [
    {
     "data": {
      "text/html": [
       "<style type=\"text/css\">.pd_warning{display:none;}</style><div class=\"pd_warning\"><em>Hey, there's something awesome here! To see it, open this notebook outside GitHub, in a viewer like Jupyter</em></div>\n",
       "        <div class=\"pd_save is-viewer-good\" style=\"padding-right:10px;text-align: center;line-height:initial !important;font-size: xx-large;font-weight: 500;color: coral;\">\n",
       "            Analysis of Crime in 2020\n",
       "        </div>\n",
       "    <div id=\"chartFigure4e619bdd\" class=\"pd_save is-viewer-good\" style=\"overflow-x:auto\">\n",
       "            \n",
       "                    \n",
       "                            <center><img style=\"max-width:initial !important\" src=\"data:image/png;base64,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\" class=\"pd_save\"></center>\n",
       "                        \n",
       "                    \n",
       "                \n",
       "        </div>"
      ],
      "text/plain": [
       "<IPython.core.display.HTML object>"
      ]
     },
     "metadata": {},
     "output_type": "display_data"
    }
   ],
   "source": [
    "#piechart for 2020 crimes\n",
    "display(DF2020_crime)"
   ]
  },
  {
   "cell_type": "code",
   "execution_count": null,
   "metadata": {
    "pixiedust": {
     "displayParams": {
      "basemap": "outdoors-v9",
      "colorrampname": "Green to Purple",
      "handlerId": "mapView",
      "keyFields": "Latitude,Longitude",
      "kind": "densitymap",
      "mapboxtoken": "pk.eyJ1IjoibWFwYm94IiwiYSI6ImNpejY4M29iazA2Z2gycXA4N2pmbDZmangifQ.-g_vE53SD2WrJ6tFX7QHmA",
      "title": "Geographical representation of crime distribution for 2020"
     }
    }
   },
   "outputs": [
    {
     "data": {
      "text/html": [
       "<style type=\"text/css\">.pd_warning{display:none;}</style><div class=\"pd_warning\"><em>Hey, there's something awesome here! To see it, open this notebook outside GitHub, in a viewer like Jupyter</em></div>\n",
       "        <div class=\"pd_save is-viewer-good\" style=\"padding-right:10px;text-align: center;line-height:initial !important;font-size: xx-large;font-weight: 500;color: coral;\">\n",
       "            Geographical representation of crime distribution for 2020\n",
       "        </div>\n",
       "    <div id=\"chartFiguree1a80d00\" class=\"pd_save is-viewer-good\" style=\"overflow-x:auto\">\n",
       "            <script>\n",
       "  window.iframeLoaded = window.iframeLoaded || function(iframe) {\n",
       "    try {\n",
       "      iframe.contentWindow.pdMessageListeners = [];\n",
       "      iframe.contentWindow[\"addPDMessageListener\"] = function(listener){\n",
       "        iframe.contentWindow.pdMessageListeners.push(listener);\n",
       "      }\n",
       "      iframe.contentWindow.addEventListener(\"message\", function(event){\n",
       "        iframe.contentWindow.pdMessageListeners.forEach(function(listener){\n",
       "          listener(event);\n",
       "        });\n",
       "      }, false);\n",
       "      iframe.contentWindow.ready = true;\n",
       "      iframe.contentWindow[\"triggerPDEvent\"] = function(eventInfo) {\n",
       "        $(document).trigger('pd_event', eventInfo);\n",
       "      }\n",
       "    } catch (e) {\n",
       "      console.log(e)\n",
       "    }\n",
       "  }\n",
       "\n",
       "  \n",
       "</script>\n",
       "<iframe id=\"mapframee1a80d00\" style=\"width:878.4000000000001px;height:500px\" srcdoc=\"<!DOCTYPE html>\n",
       "<html lang=&quot;en&quot;>\n",
       "<head>\n",
       "    <meta charset=&quot;UTF-8&quot;>\n",
       "    <meta name=&quot;viewport&quot; content=&quot;width=device-width, initial-scale=1&quot;>\n",
       "    <title>Pixiedust Mapbox map</title>\n",
       "    <script src=&quot;https://api.tiles.mapbox.com/mapbox-gl-js/v0.32.1/mapbox-gl.js&quot;></script>\n",
       "    <link href=&quot;https://api.tiles.mapbox.com/mapbox-gl-js/v0.32.1/mapbox-gl.css&quot; rel=&quot;stylesheet&quot; />\n",
       "    <style>\n",
       "    .mapboxgl-popup-content h3 { \n",
       "        margin: 2px 0 2px 0;\n",
       "        font-style: italic;\n",
       "    }\n",
       "    .mapboxgl-popup {\n",
       "        max-width: 200px;\n",
       "    }\n",
       "    #map canvas {\n",
       "        cursor: crosshair;\n",
       "    }\n",
       "    .legend {\n",
       "        background-color: rgba(255,255,255, 0.75);\n",
       "        border-radius: 3px;\n",
       "        position: absolute;\n",
       "        left: 14px;\n",
       "        top: 14px;\n",
       "        box-shadow: 0 1px 2px rgba(0,0,0,0.10);\n",
       "        font-size: 12px;\n",
       "        line-height: 18px;\n",
       "        padding: 10px;\n",
       "        z-index: 1;\n",
       "    }\n",
       "    .legend h4 {\n",
       "        margin: 0 0 10px;\n",
       "    }\n",
       "    .legend div span {\n",
       "        border-radius: 50%;\n",
       "        display: inline-block;\n",
       "        height: 10px;\n",
       "        margin-right: 5px;\n",
       "        width: 10px;\n",
       "    }\n",
       "    body { \n",
       "        background-color:#333; \n",
       "        margin:0px !important; \n",
       "        overflow: hidden;\n",
       "        font-family: &quot;Helvetica Neue&quot;, Arial, Helvetica, sans-serif;\n",
       "    }\n",
       "    </style>\n",
       "</head>\n",
       "<body>\n",
       "<div id=&quot;map-e1a80d00-e41f3137&quot; style=&quot;width:calc(878.4000000000001px - 4px);height:calc(500px - 4px)&quot; />\n",
       "\n",
       "\n",
       "<script>\n",
       "    !function(e){if(&quot;object&quot;==typeof exports&amp;&amp;&quot;undefined&quot;!=typeof module)module.exports=e();else if(&quot;function&quot;==typeof define&amp;&amp;define.amd)define([],e);else{var n;&quot;undefined&quot;!=typeof window?n=window:&quot;undefined&quot;!=typeof global?n=global:&quot;undefined&quot;!=typeof self&amp;&amp;(n=self),n.geojsonExtent=e()}}(function(){return function e(t,n,r){function s(o,u){if(!n[o]){if(!t[o]){var a=&quot;function&quot;==typeof require&amp;&amp;require;if(!u&amp;&amp;a)return a(o,!0);if(i)return i(o,!0);var f=new Error(&quot;Cannot find module &quot;+o+&quot;&quot;);throw f.code=&quot;MODULE_NOT_FOUND&quot;,f}var l=n[o]={exports:{}};t[o][0].call(l.exports,function(e){var n=t[o][1][e];return s(n?n:e)},l,l.exports,e,t,n,r)}return n[o].exports}for(var i=&quot;function&quot;==typeof require&amp;&amp;require,o=0;o<r.length;o++)s(r[o]);return s}({1:[function(require,module){function getExtent(_){for(var ext=extent(),coords=geojsonCoords(_),i=0;i<coords.length;i++)ext.include(coords[i]);return ext}var geojsonCoords=require(&quot;geojson-coords&quot;),traverse=require(&quot;traverse&quot;),extent=require(&quot;extent&quot;),geojsonTypes=[&quot;Point&quot;,&quot;MultiPoint&quot;,&quot;LineString&quot;,&quot;MultiLineString&quot;,&quot;Polygon&quot;,&quot;MultiPolygon&quot;,&quot;Feature&quot;,&quot;FeatureCollection&quot;,&quot;GeometryCollection&quot;];module.exports=function(_){return getExtent(_).bbox()},module.exports.polygon=function(_){return getExtent(_).polygon()},module.exports.bboxify=function(_){return traverse(_).map(function(value){value&amp;&amp;-1!==typeof geojsonTypes.indexOf(value.type)&amp;&amp;(console.log(value.type,value),value.bbox=getExtent(value).bbox(),this.update(value))})}},{extent:2,&quot;geojson-coords&quot;:4,traverse:7}],2:[function(require,module){function Extent(){return this instanceof Extent?(this._bbox=[1/0,1/0,-(1/0),-(1/0)],void(this._valid=!1)):new Extent}module.exports=Extent,Extent.prototype.include=function(ll){return this._valid=!0,this._bbox[0]=Math.min(this._bbox[0],ll[0]),this._bbox[1]=Math.min(this._bbox[1],ll[1]),this._bbox[2]=Math.max(this._bbox[2],ll[0]),this._bbox[3]=Math.max(this._bbox[3],ll[1]),this},Extent.prototype.union=function(other){return this._valid=!0,this._bbox[0]=Math.min(this._bbox[0],other[0]),this._bbox[1]=Math.min(this._bbox[1],other[1]),this._bbox[2]=Math.max(this._bbox[2],other[2]),this._bbox[3]=Math.max(this._bbox[3],other[3]),this},Extent.prototype.bbox=function(){return this._valid?this._bbox:null},Extent.prototype.contains=function(ll){return this._valid?this._bbox[0]<=ll[0]&amp;&amp;this._bbox[1]<=ll[1]&amp;&amp;this._bbox[2]>=ll[0]&amp;&amp;this._bbox[3]>=ll[1]:null},Extent.prototype.polygon=function(){return this._valid?{type:&quot;Polygon&quot;,coordinates:[[[this._bbox[0],this._bbox[1]],[this._bbox[2],this._bbox[1]],[this._bbox[2],this._bbox[3]],[this._bbox[0],this._bbox[3]],[this._bbox[0],this._bbox[1]]]]}:null}},{}],3:[function(require,module){module.exports=function(list){function _flatten(list){return Array.isArray(list)&amp;&amp;list.length&amp;&amp;&quot;number&quot;==typeof list[0]?[list]:list.reduce(function(acc,item){return Array.isArray(item)&amp;&amp;Array.isArray(item[0])?acc.concat(_flatten(item)):(acc.push(item),acc)},[])}return _flatten(list)}},{}],4:[function(require,module){var geojsonNormalize=require(&quot;geojson-normalize&quot;),geojsonFlatten=require(&quot;geojson-flatten&quot;),flatten=require(&quot;./flatten&quot;);module.exports=function(_){if(!_)return[];var normalized=geojsonFlatten(geojsonNormalize(_)),coordinates=[];return normalized.features.forEach(function(feature){feature.geometry&amp;&amp;(coordinates=coordinates.concat(flatten(feature.geometry.coordinates)))}),coordinates}},{&quot;./flatten&quot;:3,&quot;geojson-flatten&quot;:5,&quot;geojson-normalize&quot;:6}],5:[function(require,module){function flatten(gj){switch(gj&amp;&amp;gj.type||null){case&quot;FeatureCollection&quot;:return gj.features=gj.features.reduce(function(mem,feature){return mem.concat(flatten(feature))},[]),gj;case&quot;Feature&quot;:return flatten(gj.geometry).map(function(geom){return{type:&quot;Feature&quot;,properties:JSON.parse(JSON.stringify(gj.properties)),geometry:geom}});case&quot;MultiPoint&quot;:return gj.coordinates.map(function(_){return{type:&quot;Point&quot;,coordinates:_}});case&quot;MultiPolygon&quot;:return gj.coordinates.map(function(_){return{type:&quot;Polygon&quot;,coordinates:_}});case&quot;MultiLineString&quot;:return gj.coordinates.map(function(_){return{type:&quot;LineString&quot;,coordinates:_}});case&quot;GeometryCollection&quot;:return gj.geometries;case&quot;Point&quot;:case&quot;Polygon&quot;:case&quot;LineString&quot;:return[gj];default:return gj}}module.exports=flatten},{}],6:[function(require,module){function normalize(gj){if(!gj||!gj.type)return null;var type=types[gj.type];return type?&quot;geometry&quot;===type?{type:&quot;FeatureCollection&quot;,features:[{type:&quot;Feature&quot;,properties:{},geometry:gj}]}:&quot;feature&quot;===type?{type:&quot;FeatureCollection&quot;,features:[gj]}:&quot;featurecollection&quot;===type?gj:void 0:null}module.exports=normalize;var types={Point:&quot;geometry&quot;,MultiPoint:&quot;geometry&quot;,LineString:&quot;geometry&quot;,MultiLineString:&quot;geometry&quot;,Polygon:&quot;geometry&quot;,MultiPolygon:&quot;geometry&quot;,GeometryCollection:&quot;geometry&quot;,Feature:&quot;feature&quot;,FeatureCollection:&quot;featurecollection&quot;}},{}],7:[function(require,module){function Traverse(obj){this.value=obj}function walk(root,cb,immutable){var path=[],parents=[],alive=!0;return function walker(node_){function updateState(){if(&quot;object&quot;==typeof state.node&amp;&amp;null!==state.node){state.keys&amp;&amp;state.node_===state.node||(state.keys=objectKeys(state.node)),state.isLeaf=0==state.keys.length;for(var i=0;i<parents.length;i++)if(parents[i].node_===node_){state.circular=parents[i];break}}else state.isLeaf=!0,state.keys=null;state.notLeaf=!state.isLeaf,state.notRoot=!state.isRoot}var node=immutable?copy(node_):node_,modifiers={},keepGoing=!0,state={node:node,node_:node_,path:[].concat(path),parent:parents[parents.length-1],parents:parents,key:path.slice(-1)[0],isRoot:0===path.length,level:path.length,circular:null,update:function(x,stopHere){state.isRoot||(state.parent.node[state.key]=x),state.node=x,stopHere&amp;&amp;(keepGoing=!1)},&quot;delete&quot;:function(stopHere){delete state.parent.node[state.key],stopHere&amp;&amp;(keepGoing=!1)},remove:function(stopHere){isArray(state.parent.node)?state.parent.node.splice(state.key,1):delete state.parent.node[state.key],stopHere&amp;&amp;(keepGoing=!1)},keys:null,before:function(f){modifiers.before=f},after:function(f){modifiers.after=f},pre:function(f){modifiers.pre=f},post:function(f){modifiers.post=f},stop:function(){alive=!1},block:function(){keepGoing=!1}};if(!alive)return state;updateState();var ret=cb.call(state,state.node);return void 0!==ret&amp;&amp;state.update&amp;&amp;state.update(ret),modifiers.before&amp;&amp;modifiers.before.call(state,state.node),keepGoing?(&quot;object&quot;!=typeof state.node||null===state.node||state.circular||(parents.push(state),updateState(),forEach(state.keys,function(key,i){path.push(key),modifiers.pre&amp;&amp;modifiers.pre.call(state,state.node[key],key);var child=walker(state.node[key]);immutable&amp;&amp;hasOwnProperty.call(state.node,key)&amp;&amp;(state.node[key]=child.node),child.isLast=i==state.keys.length-1,child.isFirst=0==i,modifiers.post&amp;&amp;modifiers.post.call(state,child),path.pop()}),parents.pop()),modifiers.after&amp;&amp;modifiers.after.call(state,state.node),state):state}(root).node}function copy(src){if(&quot;object&quot;==typeof src&amp;&amp;null!==src){var dst;if(isArray(src))dst=[];else if(isDate(src))dst=new Date(src.getTime?src.getTime():src);else if(isRegExp(src))dst=new RegExp(src);else if(isError(src))dst={message:src.message};else if(isBoolean(src))dst=new Boolean(src);else if(isNumber(src))dst=new Number(src);else if(isString(src))dst=new String(src);else if(Object.create&amp;&amp;Object.getPrototypeOf)dst=Object.create(Object.getPrototypeOf(src));else if(src.constructor===Object)dst={};else{var proto=src.constructor&amp;&amp;src.constructor.prototype||src.__proto__||{},T=function(){};T.prototype=proto,dst=new T}return forEach(objectKeys(src),function(key){dst[key]=src[key]}),dst}return src}function toS(obj){return Object.prototype.toString.call(obj)}function isDate(obj){return&quot;[object Date]&quot;===toS(obj)}function isRegExp(obj){return&quot;[object RegExp]&quot;===toS(obj)}function isError(obj){return&quot;[object Error]&quot;===toS(obj)}function isBoolean(obj){return&quot;[object Boolean]&quot;===toS(obj)}function isNumber(obj){return&quot;[object Number]&quot;===toS(obj)}function isString(obj){return&quot;[object String]&quot;===toS(obj)}var traverse=module.exports=function(obj){return new Traverse(obj)};Traverse.prototype.get=function(ps){for(var node=this.value,i=0;i<ps.length;i++){var key=ps[i];if(!node||!hasOwnProperty.call(node,key)){node=void 0;break}node=node[key]}return node},Traverse.prototype.has=function(ps){for(var node=this.value,i=0;i<ps.length;i++){var key=ps[i];if(!node||!hasOwnProperty.call(node,key))return!1;node=node[key]}return!0},Traverse.prototype.set=function(ps,value){for(var node=this.value,i=0;i<ps.length-1;i++){var key=ps[i];hasOwnProperty.call(node,key)||(node[key]={}),node=node[key]}return node[ps[i]]=value,value},Traverse.prototype.map=function(cb){return walk(this.value,cb,!0)},Traverse.prototype.forEach=function(cb){return this.value=walk(this.value,cb,!1),this.value},Traverse.prototype.reduce=function(cb,init){var skip=1===arguments.length,acc=skip?this.value:init;return this.forEach(function(x){this.isRoot&amp;&amp;skip||(acc=cb.call(this,acc,x))}),acc},Traverse.prototype.paths=function(){var acc=[];return this.forEach(function(){acc.push(this.path)}),acc},Traverse.prototype.nodes=function(){var acc=[];return this.forEach(function(){acc.push(this.node)}),acc},Traverse.prototype.clone=function(){var parents=[],nodes=[];return function clone(src){for(var i=0;i<parents.length;i++)if(parents[i]===src)return nodes[i];if(&quot;object&quot;==typeof src&amp;&amp;null!==src){var dst=copy(src);return parents.push(src),nodes.push(dst),forEach(objectKeys(src),function(key){dst[key]=clone(src[key])}),parents.pop(),nodes.pop(),dst}return src}(this.value)};var objectKeys=Object.keys||function(obj){var res=[];for(var key in obj)res.push(key);return res},isArray=Array.isArray||function(xs){return&quot;[object Array]&quot;===Object.prototype.toString.call(xs)},forEach=function(xs,fn){if(xs.forEach)return xs.forEach(fn);for(var i=0;i<xs.length;i++)fn(xs[i],i,xs)};forEach(objectKeys(Traverse.prototype),function(key){traverse[key]=function(obj){var args=[].slice.call(arguments,1),t=new Traverse(obj);return t[key].apply(t,args)}});var hasOwnProperty=Object.hasOwnProperty||function(obj,key){return key in obj}},{}]},{},[1])(1)});    \n",
       "    var comment = &quot;&quot;;\n",
       "    mapboxgl.accessToken=&quot;pk.eyJ1IjoibWFwYm94IiwiYSI6ImNpejY4M29iazA2Z2gycXA4N2pmbDZmangifQ.-g_vE53SD2WrJ6tFX7QHmA&quot;;\n",
       "    var mapdata = null;\n",
       "    var map = new mapboxgl.Map({\n",
       "        container: &quot;map-e1a80d00-e41f3137&quot;,\n",
       "        style: &quot;mapbox://styles/mapbox/outdoors-v9&quot;\n",
       "    });\n",
       "\n",
       "    setTimeout(function(){\n",
       "        if (window.addPDMessageListener){\n",
       "            window.addPDMessageListener(function(event){\n",
       "                streamingLayer = map.getSource(&quot;streamingLayer&quot;);\n",
       "                if (streamingLayer){\n",
       "                    streamingLayer.setData(event.data.data);\n",
       "                }else{\n",
       "                    map.addLayer({\n",
       "                        &quot;id&quot;: &quot;streamingLayer&quot;,\n",
       "                        &quot;maptype&quot;: &quot;mapbox&quot;,\n",
       "                        &quot;type&quot;: event.data.type,\n",
       "                        &quot;source&quot;: { type: &quot;geojson&quot;, data: event.data.data },\n",
       "                        &quot;layout&quot;: event.data.layout || {},\n",
       "                        &quot;paint&quot;: event.data.paint || {}\n",
       "                    });\n",
       "                    if (event.data.fitbounds &amp;&amp; event.data.data.features){\n",
       "                        function updateBounds(res, ar){\n",
       "                            if (ar[0].length >=2 &amp;&amp; ar[1].length >= 2 ){\n",
       "                                if (!res){\n",
       "                                    return ar;\n",
       "                                }\n",
       "                                return [ \n",
       "                                    [Math.min( ar[0][0]-0.1, res[0][0]), Math.min( ar[0][1]-0.1, res[0][1])],\n",
       "                                    [Math.max( ar[1][0]+0.1, res[1][0]), Math.max( ar[1][1]+0.1, res[1][1])]\n",
       "                                ]\n",
       "                            }\n",
       "                            return null;\n",
       "                        }\n",
       "                        var bbox = event.data.data.features.reduce(function(res, value){\n",
       "                            var coord = value.geometry.coordinates;\n",
       "                            if (coord.length >= 2 ){\n",
       "                                res = updateBounds( res, [coord[0], coord[1]]);\n",
       "                            }\n",
       "                            return res;\n",
       "                        }, null);\n",
       "                        if (bbox){\n",
       "                            map.fitBounds(bbox);\n",
       "                        }\n",
       "                    }\n",
       "                }\n",
       "            });\n",
       "        };\n",
       "    },100);\n",
       "\n",
       "    var popup = new mapboxgl.Popup({closeButton: false,closeOnClick: true});\n",
       "\n",
       "    function divineGeometryType(mapdata) {\n",
       "        comment = &quot;check type of first geometry. Later expand to check all geometries and make a good decision&quot;;\n",
       "        return mapdata.features[0].geometry.type;\n",
       "    }\n",
       "    \n",
       "    map.on(&quot;mousemove&quot;, function (e) {\n",
       "        var fs = map.queryRenderedFeatures(e.point,{layers:[&quot;pxlayer&quot;]});\n",
       "        if (!fs || !fs.length) {popup.remove();return;};\n",
       "        popuphtml = &quot;&quot;;\n",
       "        var hr = false;\n",
       "        fs.forEach(function(f){\n",
       "            if (hr){ \n",
       "                popuphtml += &quot;<hr>\\n&quot;;\n",
       "            }\n",
       "            hr=true;\n",
       "            popuphtml += &quot;<h3>&quot;+f.layer.id.toUpperCase()+&quot;</h3>\\n&quot;;\n",
       "            var keylength = Object.keys(f.properties).length;\n",
       "            for (var key in f.properties) {\n",
       "                popuphtml += &quot;<b>&quot;+key+&quot;: </b> &quot;+f.properties[key]+&quot;<br/>\\n&quot;;\n",
       "            }\n",
       "        });\n",
       "        popup.setLngLat(e.lngLat).setHTML(popuphtml).addTo(map);\n",
       "    });\n",
       "    \n",
       "    map.on(&quot;click&quot;, function (e) {\n",
       "        var fs = map.queryRenderedFeatures(e.point, { layers: [&quot;pxlayer&quot;] });\n",
       "        if (fs &amp;&amp; fs.length) {\n",
       "            var f = fs[0];\n",
       "            console.log(&quot;clicked&quot;, f);\n",
       "            var keylength = Object.keys(f.properties).length;\n",
       "            var payload = {type:&quot;select&quot;, targetDivId: &quot;&quot; };\n",
       "\n",
       "            for (var key in f.properties) {\n",
       "                payload[key] = f.properties[key];\n",
       "            }\n",
       "\n",
       "            if (window.triggerPDEvent) {\n",
       "                window.triggerPDEvent(payload);\n",
       "            }\n",
       "        }\n",
       "    });\n",
       "        \n",
       "    map.on(&quot;load&quot;, function() {\n",
       "        \n",
       "        mapdata={&quot;type&quot;: &quot;FeatureCollection&quot;, &quot;features&quot;: [{&quot;type&quot;: &quot;Feature&quot;, &quot;properties&quot;: {&quot;pd_count&quot;: 6.0}, &quot;geometry&quot;: {&quot;type&quot;: &quot;Point&quot;, &quot;coordinates&quot;: [-1.805605, 53.567786]}}, {&quot;type&quot;: &quot;Feature&quot;, &quot;properties&quot;: {&quot;pd_count&quot;: 2.0}, &quot;geometry&quot;: {&quot;type&quot;: &quot;Point&quot;, &quot;coordinates&quot;: [-1.804935, 53.568926]}}, {&quot;type&quot;: &quot;Feature&quot;, &quot;properties&quot;: {&quot;pd_count&quot;: 1.0}, &quot;geometry&quot;: {&quot;type&quot;: &quot;Point&quot;, &quot;coordinates&quot;: [-1.786693, 53.572284]}}, {&quot;type&quot;: &quot;Feature&quot;, &quot;properties&quot;: {&quot;pd_count&quot;: 1.0}, &quot;geometry&quot;: {&quot;type&quot;: &quot;Point&quot;, &quot;coordinates&quot;: [-1.455886, 53.628035]}}, {&quot;type&quot;: &quot;Feature&quot;, &quot;properties&quot;: {&quot;pd_count&quot;: 1.0}, &quot;geometry&quot;: {&quot;type&quot;: &quot;Point&quot;, &quot;coordinates&quot;: [-1.542401, 53.653843]}}, {&quot;type&quot;: &quot;Feature&quot;, &quot;properties&quot;: {&quot;pd_count&quot;: 3.0}, &quot;geometry&quot;: {&quot;type&quot;: &quot;Point&quot;, &quot;coordinates&quot;: [-1.542187, 53.663873]}}, {&quot;type&quot;: &quot;Feature&quot;, &quot;properties&quot;: {&quot;pd_count&quot;: 1.0}, &quot;geometry&quot;: {&quot;type&quot;: &quot;Point&quot;, &quot;coordinates&quot;: [-1.553469, 53.671753]}}, {&quot;type&quot;: &quot;Feature&quot;, &quot;properties&quot;: {&quot;pd_count&quot;: 5.0}, &quot;geometry&quot;: {&quot;type&quot;: &quot;Point&quot;, &quot;coordinates&quot;: [-1.939457, 53.675436]}}, {&quot;type&quot;: &quot;Feature&quot;, &quot;properties&quot;: {&quot;pd_count&quot;: 2.0}, &quot;geometry&quot;: {&quot;type&quot;: &quot;Point&quot;, &quot;coordinates&quot;: [-1.750605, 53.679588]}}, {&quot;type&quot;: &quot;Feature&quot;, &quot;properties&quot;: {&quot;pd_count&quot;: 25.0}, &quot;geometry&quot;: {&quot;type&quot;: &quot;Point&quot;, &quot;coordinates&quot;: [-1.579003, 53.680995]}}, {&quot;type&quot;: &quot;Feature&quot;, &quot;properties&quot;: {&quot;pd_count&quot;: 1.0}, &quot;geometry&quot;: {&quot;type&quot;: &quot;Point&quot;, &quot;coordinates&quot;: [-1.427946, 53.68259]}}, {&quot;type&quot;: &quot;Feature&quot;, &quot;properties&quot;: {&quot;pd_count&quot;: 8.0}, &quot;geometry&quot;: {&quot;type&quot;: &quot;Point&quot;, &quot;coordinates&quot;: [-1.482116, 53.684031]}}, {&quot;type&quot;: &quot;Feature&quot;, &quot;properties&quot;: {&quot;pd_count&quot;: 5.0}, &quot;geometry&quot;: {&quot;type&quot;: &quot;Point&quot;, &quot;coordinates&quot;: [-1.318087, 53.690976]}}, {&quot;type&quot;: &quot;Feature&quot;, &quot;properties&quot;: {&quot;pd_count&quot;: 6.0}, &quot;geometry&quot;: {&quot;type&quot;: &quot;Point&quot;, &quot;coordinates&quot;: [-1.411143, 53.691101]}}, {&quot;type&quot;: &quot;Feature&quot;, &quot;properties&quot;: {&quot;pd_count&quot;: 29.0}, &quot;geometry&quot;: {&quot;type&quot;: &quot;Point&quot;, &quot;coordinates&quot;: [-1.312703, 53.691512]}}, {&quot;type&quot;: &quot;Feature&quot;, &quot;properties&quot;: {&quot;pd_count&quot;: 8.0}, &quot;geometry&quot;: {&quot;type&quot;: &quot;Point&quot;, &quot;coordinates&quot;: [-1.696479, 53.69272]}}, {&quot;type&quot;: &quot;Feature&quot;, &quot;properties&quot;: {&quot;pd_count&quot;: 7.0}, &quot;geometry&quot;: {&quot;type&quot;: &quot;Point&quot;, &quot;coordinates&quot;: [-1.789956, 53.694026]}}, {&quot;type&quot;: &quot;Feature&quot;, &quot;properties&quot;: {&quot;pd_count&quot;: 3.0}, &quot;geometry&quot;: {&quot;type&quot;: &quot;Point&quot;, &quot;coordinates&quot;: [-1.402124, 53.696989]}}, {&quot;type&quot;: &quot;Feature&quot;, &quot;properties&quot;: {&quot;pd_count&quot;: 12.0}, &quot;geometry&quot;: {&quot;type&quot;: &quot;Point&quot;, &quot;coordinates&quot;: [-1.25767, 53.700999]}}, {&quot;type&quot;: &quot;Feature&quot;, &quot;properties&quot;: {&quot;pd_count&quot;: 1.0}, &quot;geometry&quot;: {&quot;type&quot;: &quot;Point&quot;, &quot;coordinates&quot;: [-1.664723, 53.705884]}}, {&quot;type&quot;: &quot;Feature&quot;, &quot;properties&quot;: {&quot;pd_count&quot;: 3.0}, &quot;geometry&quot;: {&quot;type&quot;: &quot;Point&quot;, &quot;coordinates&quot;: [-1.659195, 53.709572]}}, {&quot;type&quot;: &quot;Feature&quot;, &quot;properties&quot;: {&quot;pd_count&quot;: 6.0}, &quot;geometry&quot;: {&quot;type&quot;: &quot;Point&quot;, &quot;coordinates&quot;: [-1.363537, 53.711782]}}, {&quot;type&quot;: &quot;Feature&quot;, &quot;properties&quot;: {&quot;pd_count&quot;: 3.0}, &quot;geometry&quot;: {&quot;type&quot;: &quot;Point&quot;, &quot;coordinates&quot;: [-1.870134, 53.712547]}}, {&quot;type&quot;: &quot;Feature&quot;, &quot;properties&quot;: {&quot;pd_count&quot;: 5.0}, &quot;geometry&quot;: {&quot;type&quot;: &quot;Point&quot;, &quot;coordinates&quot;: [-1.83133, 53.712922]}}, {&quot;type&quot;: &quot;Feature&quot;, &quot;properties&quot;: {&quot;pd_count&quot;: 2.0}, &quot;geometry&quot;: {&quot;type&quot;: &quot;Point&quot;, &quot;coordinates&quot;: [-1.669453, 53.717115]}}, {&quot;type&quot;: &quot;Feature&quot;, &quot;properties&quot;: {&quot;pd_count&quot;: 1.0}, &quot;geometry&quot;: {&quot;type&quot;: &quot;Point&quot;, &quot;coordinates&quot;: [-1.668748, 53.718092]}}, {&quot;type&quot;: &quot;Feature&quot;, &quot;properties&quot;: {&quot;pd_count&quot;: 39.0}, &quot;geometry&quot;: {&quot;type&quot;: &quot;Point&quot;, &quot;coordinates&quot;: [-1.322838, 53.719559]}}, {&quot;type&quot;: &quot;Feature&quot;, &quot;properties&quot;: {&quot;pd_count&quot;: 1.0}, &quot;geometry&quot;: {&quot;type&quot;: &quot;Point&quot;, &quot;coordinates&quot;: [-1.684218, 53.720291]}}, {&quot;type&quot;: &quot;Feature&quot;, &quot;properties&quot;: {&quot;pd_count&quot;: 10.0}, &quot;geometry&quot;: {&quot;type&quot;: &quot;Point&quot;, &quot;coordinates&quot;: [-1.863516, 53.721025]}}, {&quot;type&quot;: &quot;Feature&quot;, &quot;properties&quot;: {&quot;pd_count&quot;: 4.0}, &quot;geometry&quot;: {&quot;type&quot;: &quot;Point&quot;, &quot;coordinates&quot;: [-1.570415, 53.728971]}}, {&quot;type&quot;: &quot;Feature&quot;, &quot;properties&quot;: {&quot;pd_count&quot;: 21.0}, &quot;geometry&quot;: {&quot;type&quot;: &quot;Point&quot;, &quot;coordinates&quot;: [-1.308326, 53.72939]}}, {&quot;type&quot;: &quot;Feature&quot;, &quot;properties&quot;: {&quot;pd_count&quot;: 1.0}, &quot;geometry&quot;: {&quot;type&quot;: &quot;Point&quot;, &quot;coordinates&quot;: [-1.760994, 53.737897]}}, {&quot;type&quot;: &quot;Feature&quot;, &quot;properties&quot;: {&quot;pd_count&quot;: 3.0}, &quot;geometry&quot;: {&quot;type&quot;: &quot;Point&quot;, &quot;coordinates&quot;: [-1.656488, 53.7406]}}, {&quot;type&quot;: &quot;Feature&quot;, &quot;properties&quot;: {&quot;pd_count&quot;: 1.0}, &quot;geometry&quot;: {&quot;type&quot;: &quot;Point&quot;, &quot;coordinates&quot;: [-1.690498, 53.742167]}}, {&quot;type&quot;: &quot;Feature&quot;, &quot;properties&quot;: {&quot;pd_count&quot;: 38.0}, &quot;geometry&quot;: {&quot;type&quot;: &quot;Point&quot;, &quot;coordinates&quot;: [-1.768026, 53.746485]}}, {&quot;type&quot;: &quot;Feature&quot;, &quot;properties&quot;: {&quot;pd_count&quot;: 1.0}, &quot;geometry&quot;: {&quot;type&quot;: &quot;Point&quot;, &quot;coordinates&quot;: [-1.668319, 53.749478]}}, {&quot;type&quot;: &quot;Feature&quot;, &quot;properties&quot;: {&quot;pd_count&quot;: 3.0}, &quot;geometry&quot;: {&quot;type&quot;: &quot;Point&quot;, &quot;coordinates&quot;: [-1.888644, 53.760203]}}, {&quot;type&quot;: &quot;Feature&quot;, &quot;properties&quot;: {&quot;pd_count&quot;: 2.0}, &quot;geometry&quot;: {&quot;type&quot;: &quot;Point&quot;, &quot;coordinates&quot;: [-1.733721, 53.761775]}}, {&quot;type&quot;: &quot;Feature&quot;, &quot;properties&quot;: {&quot;pd_count&quot;: 37.0}, &quot;geometry&quot;: {&quot;type&quot;: &quot;Point&quot;, &quot;coordinates&quot;: [-1.80319, 53.762744]}}, {&quot;type&quot;: &quot;Feature&quot;, &quot;properties&quot;: {&quot;pd_count&quot;: 1.0}, &quot;geometry&quot;: {&quot;type&quot;: &quot;Point&quot;, &quot;coordinates&quot;: [-1.732137, 53.762832]}}, {&quot;type&quot;: &quot;Feature&quot;, &quot;properties&quot;: {&quot;pd_count&quot;: 8.0}, &quot;geometry&quot;: {&quot;type&quot;: &quot;Point&quot;, &quot;coordinates&quot;: [-1.768203, 53.764012]}}, {&quot;type&quot;: &quot;Feature&quot;, &quot;properties&quot;: {&quot;pd_count&quot;: 2.0}, &quot;geometry&quot;: {&quot;type&quot;: &quot;Point&quot;, &quot;coordinates&quot;: [-1.839413, 53.766915]}}, {&quot;type&quot;: &quot;Feature&quot;, &quot;properties&quot;: {&quot;pd_count&quot;: 25.0}, &quot;geometry&quot;: {&quot;type&quot;: &quot;Point&quot;, &quot;coordinates&quot;: [-1.710112, 53.76714]}}, {&quot;type&quot;: &quot;Feature&quot;, &quot;properties&quot;: {&quot;pd_count&quot;: 10.0}, &quot;geometry&quot;: {&quot;type&quot;: &quot;Point&quot;, &quot;coordinates&quot;: [-1.75926, 53.768111]}}, {&quot;type&quot;: &quot;Feature&quot;, &quot;properties&quot;: {&quot;pd_count&quot;: 14.0}, &quot;geometry&quot;: {&quot;type&quot;: &quot;Point&quot;, &quot;coordinates&quot;: [-1.569219, 53.76882]}}, {&quot;type&quot;: &quot;Feature&quot;, &quot;properties&quot;: {&quot;pd_count&quot;: 3.0}, &quot;geometry&quot;: {&quot;type&quot;: &quot;Point&quot;, &quot;coordinates&quot;: [-1.528751, 53.769405]}}, {&quot;type&quot;: &quot;Feature&quot;, &quot;properties&quot;: {&quot;pd_count&quot;: 3.0}, &quot;geometry&quot;: {&quot;type&quot;: &quot;Point&quot;, &quot;coordinates&quot;: [-1.558922, 53.771326]}}, {&quot;type&quot;: &quot;Feature&quot;, &quot;properties&quot;: {&quot;pd_count&quot;: 5.0}, &quot;geometry&quot;: {&quot;type&quot;: &quot;Point&quot;, &quot;coordinates&quot;: [-1.523138, 53.772034]}}, {&quot;type&quot;: &quot;Feature&quot;, &quot;properties&quot;: {&quot;pd_count&quot;: 4.0}, &quot;geometry&quot;: {&quot;type&quot;: &quot;Point&quot;, &quot;coordinates&quot;: [-1.745299, 53.773601]}}, {&quot;type&quot;: &quot;Feature&quot;, &quot;properties&quot;: {&quot;pd_count&quot;: 10.0}, &quot;geometry&quot;: {&quot;type&quot;: &quot;Point&quot;, &quot;coordinates&quot;: [-1.546464, 53.777086]}}, {&quot;type&quot;: &quot;Feature&quot;, &quot;properties&quot;: {&quot;pd_count&quot;: 3.0}, &quot;geometry&quot;: {&quot;type&quot;: &quot;Point&quot;, &quot;coordinates&quot;: [-1.767339, 53.777546]}}, {&quot;type&quot;: &quot;Feature&quot;, &quot;properties&quot;: {&quot;pd_count&quot;: 31.0}, &quot;geometry&quot;: {&quot;type&quot;: &quot;Point&quot;, &quot;coordinates&quot;: [-1.753329, 53.778327]}}, {&quot;type&quot;: &quot;Feature&quot;, &quot;properties&quot;: {&quot;pd_count&quot;: 6.0}, &quot;geometry&quot;: {&quot;type&quot;: &quot;Point&quot;, &quot;coordinates&quot;: [-1.560591, 53.783007]}}, {&quot;type&quot;: &quot;Feature&quot;, &quot;properties&quot;: {&quot;pd_count&quot;: 20.0}, &quot;geometry&quot;: {&quot;type&quot;: &quot;Point&quot;, &quot;coordinates&quot;: [-1.755474, 53.785136]}}, {&quot;type&quot;: &quot;Feature&quot;, &quot;properties&quot;: {&quot;pd_count&quot;: 4.0}, &quot;geometry&quot;: {&quot;type&quot;: &quot;Point&quot;, &quot;coordinates&quot;: [-1.385381, 53.795217]}}, {&quot;type&quot;: &quot;Feature&quot;, &quot;properties&quot;: {&quot;pd_count&quot;: 9.0}, &quot;geometry&quot;: {&quot;type&quot;: &quot;Point&quot;, &quot;coordinates&quot;: [-1.627097, 53.798108]}}, {&quot;type&quot;: &quot;Feature&quot;, &quot;properties&quot;: {&quot;pd_count&quot;: 11.0}, &quot;geometry&quot;: {&quot;type&quot;: &quot;Point&quot;, &quot;coordinates&quot;: [-1.768268, 53.799039]}}, {&quot;type&quot;: &quot;Feature&quot;, &quot;properties&quot;: {&quot;pd_count&quot;: 2.0}, &quot;geometry&quot;: {&quot;type&quot;: &quot;Point&quot;, &quot;coordinates&quot;: [-1.512424, 53.801022]}}, {&quot;type&quot;: &quot;Feature&quot;, &quot;properties&quot;: {&quot;pd_count&quot;: 12.0}, &quot;geometry&quot;: {&quot;type&quot;: &quot;Point&quot;, &quot;coordinates&quot;: [-1.541846, 53.801273]}}, {&quot;type&quot;: &quot;Feature&quot;, &quot;properties&quot;: {&quot;pd_count&quot;: 3.0}, &quot;geometry&quot;: {&quot;type&quot;: &quot;Point&quot;, &quot;coordinates&quot;: [-1.439739, 53.801334]}}, {&quot;type&quot;: &quot;Feature&quot;, &quot;properties&quot;: {&quot;pd_count&quot;: 6.0}, &quot;geometry&quot;: {&quot;type&quot;: &quot;Point&quot;, &quot;coordinates&quot;: [-1.665882, 53.802563]}}, {&quot;type&quot;: &quot;Feature&quot;, &quot;properties&quot;: {&quot;pd_count&quot;: 4.0}, &quot;geometry&quot;: {&quot;type&quot;: &quot;Point&quot;, &quot;coordinates&quot;: [-1.477871, 53.803142]}}, {&quot;type&quot;: &quot;Feature&quot;, &quot;properties&quot;: {&quot;pd_count&quot;: 9.0}, &quot;geometry&quot;: {&quot;type&quot;: &quot;Point&quot;, &quot;coordinates&quot;: [-1.759053, 53.804278]}}, {&quot;type&quot;: &quot;Feature&quot;, &quot;properties&quot;: {&quot;pd_count&quot;: 7.0}, &quot;geometry&quot;: {&quot;type&quot;: &quot;Point&quot;, &quot;coordinates&quot;: [-1.515015, 53.805473]}}, {&quot;type&quot;: &quot;Feature&quot;, &quot;properties&quot;: {&quot;pd_count&quot;: 3.0}, &quot;geometry&quot;: {&quot;type&quot;: &quot;Point&quot;, &quot;coordinates&quot;: [-1.464819, 53.807435]}}, {&quot;type&quot;: &quot;Feature&quot;, &quot;properties&quot;: {&quot;pd_count&quot;: 5.0}, &quot;geometry&quot;: {&quot;type&quot;: &quot;Point&quot;, &quot;coordinates&quot;: [-1.620717, 53.808622]}}, {&quot;type&quot;: &quot;Feature&quot;, &quot;properties&quot;: {&quot;pd_count&quot;: 53.0}, &quot;geometry&quot;: {&quot;type&quot;: &quot;Point&quot;, &quot;coordinates&quot;: [-1.656324, 53.808954]}}, {&quot;type&quot;: &quot;Feature&quot;, &quot;properties&quot;: {&quot;pd_count&quot;: 6.0}, &quot;geometry&quot;: {&quot;type&quot;: &quot;Point&quot;, &quot;coordinates&quot;: [-1.583664, 53.810063]}}, {&quot;type&quot;: &quot;Feature&quot;, &quot;properties&quot;: {&quot;pd_count&quot;: 45.0}, &quot;geometry&quot;: {&quot;type&quot;: &quot;Point&quot;, &quot;coordinates&quot;: [-1.809282, 53.810903]}}, {&quot;type&quot;: &quot;Feature&quot;, &quot;properties&quot;: {&quot;pd_count&quot;: 11.0}, &quot;geometry&quot;: {&quot;type&quot;: &quot;Point&quot;, &quot;coordinates&quot;: [-1.516129, 53.814214]}}, {&quot;type&quot;: &quot;Feature&quot;, &quot;properties&quot;: {&quot;pd_count&quot;: 9.0}, &quot;geometry&quot;: {&quot;type&quot;: &quot;Point&quot;, &quot;coordinates&quot;: [-1.646371, 53.815207]}}, {&quot;type&quot;: &quot;Feature&quot;, &quot;properties&quot;: {&quot;pd_count&quot;: 1.0}, &quot;geometry&quot;: {&quot;type&quot;: &quot;Point&quot;, &quot;coordinates&quot;: [-1.578972, 53.819142]}}, {&quot;type&quot;: &quot;Feature&quot;, &quot;properties&quot;: {&quot;pd_count&quot;: 1.0}, &quot;geometry&quot;: {&quot;type&quot;: &quot;Point&quot;, &quot;coordinates&quot;: [-1.565202, 53.825834]}}, {&quot;type&quot;: &quot;Feature&quot;, &quot;properties&quot;: {&quot;pd_count&quot;: 1.0}, &quot;geometry&quot;: {&quot;type&quot;: &quot;Point&quot;, &quot;coordinates&quot;: [-1.569009, 53.826414]}}, {&quot;type&quot;: &quot;Feature&quot;, &quot;properties&quot;: {&quot;pd_count&quot;: 3.0}, &quot;geometry&quot;: {&quot;type&quot;: &quot;Point&quot;, &quot;coordinates&quot;: [-1.688842, 53.826794]}}, {&quot;type&quot;: &quot;Feature&quot;, &quot;properties&quot;: {&quot;pd_count&quot;: 1.0}, &quot;geometry&quot;: {&quot;type&quot;: &quot;Point&quot;, &quot;coordinates&quot;: [-1.952228, 53.828212]}}, {&quot;type&quot;: &quot;Feature&quot;, &quot;properties&quot;: {&quot;pd_count&quot;: 1.0}, &quot;geometry&quot;: {&quot;type&quot;: &quot;Point&quot;, &quot;coordinates&quot;: [-1.767251, 53.829209]}}, {&quot;type&quot;: &quot;Feature&quot;, &quot;properties&quot;: {&quot;pd_count&quot;: 2.0}, &quot;geometry&quot;: {&quot;type&quot;: &quot;Point&quot;, &quot;coordinates&quot;: [-1.511737, 53.832747]}}, {&quot;type&quot;: &quot;Feature&quot;, &quot;properties&quot;: {&quot;pd_count&quot;: 9.0}, &quot;geometry&quot;: {&quot;type&quot;: &quot;Point&quot;, &quot;coordinates&quot;: [-1.564969, 53.838093]}}, {&quot;type&quot;: &quot;Feature&quot;, &quot;properties&quot;: {&quot;pd_count&quot;: 2.0}, &quot;geometry&quot;: {&quot;type&quot;: &quot;Point&quot;, &quot;coordinates&quot;: [-1.766772, 53.84154]}}, {&quot;type&quot;: &quot;Feature&quot;, &quot;properties&quot;: {&quot;pd_count&quot;: 1.0}, &quot;geometry&quot;: {&quot;type&quot;: &quot;Point&quot;, &quot;coordinates&quot;: [-1.734076, 53.84246]}}, {&quot;type&quot;: &quot;Feature&quot;, &quot;properties&quot;: {&quot;pd_count&quot;: 8.0}, &quot;geometry&quot;: {&quot;type&quot;: &quot;Point&quot;, &quot;coordinates&quot;: [-1.507373, 53.844692]}}, {&quot;type&quot;: &quot;Feature&quot;, &quot;properties&quot;: {&quot;pd_count&quot;: 1.0}, &quot;geometry&quot;: {&quot;type&quot;: &quot;Point&quot;, &quot;coordinates&quot;: [-1.833597, 53.845039]}}, {&quot;type&quot;: &quot;Feature&quot;, &quot;properties&quot;: {&quot;pd_count&quot;: 13.0}, &quot;geometry&quot;: {&quot;type&quot;: &quot;Point&quot;, &quot;coordinates&quot;: [-1.619637, 53.850745]}}, {&quot;type&quot;: &quot;Feature&quot;, &quot;properties&quot;: {&quot;pd_count&quot;: 16.0}, &quot;geometry&quot;: {&quot;type&quot;: &quot;Point&quot;, &quot;coordinates&quot;: [-1.920635, 53.85603]}}, {&quot;type&quot;: &quot;Feature&quot;, &quot;properties&quot;: {&quot;pd_count&quot;: 2.0}, &quot;geometry&quot;: {&quot;type&quot;: &quot;Point&quot;, &quot;coordinates&quot;: [-1.935681, 53.859455]}}, {&quot;type&quot;: &quot;Feature&quot;, &quot;properties&quot;: {&quot;pd_count&quot;: 1.0}, &quot;geometry&quot;: {&quot;type&quot;: &quot;Point&quot;, &quot;coordinates&quot;: [-1.548627, 53.861231]}}, {&quot;type&quot;: &quot;Feature&quot;, &quot;properties&quot;: {&quot;pd_count&quot;: 66.0}, &quot;geometry&quot;: {&quot;type&quot;: &quot;Point&quot;, &quot;coordinates&quot;: [-1.937234, 53.867751]}}, {&quot;type&quot;: &quot;Feature&quot;, &quot;properties&quot;: {&quot;pd_count&quot;: 8.0}, &quot;geometry&quot;: {&quot;type&quot;: &quot;Point&quot;, &quot;coordinates&quot;: [-1.931166, 53.868233]}}, {&quot;type&quot;: &quot;Feature&quot;, &quot;properties&quot;: {&quot;pd_count&quot;: 2.0}, &quot;geometry&quot;: {&quot;type&quot;: &quot;Point&quot;, &quot;coordinates&quot;: [-1.889496, 53.875042]}}, {&quot;type&quot;: &quot;Feature&quot;, &quot;properties&quot;: {&quot;pd_count&quot;: 2.0}, &quot;geometry&quot;: {&quot;type&quot;: &quot;Point&quot;, &quot;coordinates&quot;: [-1.930041, 53.886191]}}, {&quot;type&quot;: &quot;Feature&quot;, &quot;properties&quot;: {&quot;pd_count&quot;: 2.0}, &quot;geometry&quot;: {&quot;type&quot;: &quot;Point&quot;, &quot;coordinates&quot;: [-1.75129, 53.8922]}}, {&quot;type&quot;: &quot;Feature&quot;, &quot;properties&quot;: {&quot;pd_count&quot;: 1.0}, &quot;geometry&quot;: {&quot;type&quot;: &quot;Point&quot;, &quot;coordinates&quot;: [-1.353193, 53.896109]}}, {&quot;type&quot;: &quot;Feature&quot;, &quot;properties&quot;: {&quot;pd_count&quot;: 1.0}, &quot;geometry&quot;: {&quot;type&quot;: &quot;Point&quot;, &quot;coordinates&quot;: [-1.929008, 53.912389]}}, {&quot;type&quot;: &quot;Feature&quot;, &quot;properties&quot;: {&quot;pd_count&quot;: 10.0}, &quot;geometry&quot;: {&quot;type&quot;: &quot;Point&quot;, &quot;coordinates&quot;: [-1.948005, 53.91346]}}, {&quot;type&quot;: &quot;Feature&quot;, &quot;properties&quot;: {&quot;pd_count&quot;: 69.0}, &quot;geometry&quot;: {&quot;type&quot;: &quot;Point&quot;, &quot;coordinates&quot;: [-1.33124, 53.915718]}}, {&quot;type&quot;: &quot;Feature&quot;, &quot;properties&quot;: {&quot;pd_count&quot;: 1.0}, &quot;geometry&quot;: {&quot;type&quot;: &quot;Point&quot;, &quot;coordinates&quot;: [-1.800961, 53.919813]}}, {&quot;type&quot;: &quot;Feature&quot;, &quot;properties&quot;: {&quot;pd_count&quot;: 1.0}, &quot;geometry&quot;: {&quot;type&quot;: &quot;Point&quot;, &quot;coordinates&quot;: [-1.838104, 53.925702]}}, {&quot;type&quot;: &quot;Feature&quot;, &quot;properties&quot;: {&quot;pd_count&quot;: 1.0}, &quot;geometry&quot;: {&quot;type&quot;: &quot;Point&quot;, &quot;coordinates&quot;: [-1.381379, 53.925756]}}, {&quot;type&quot;: &quot;Feature&quot;, &quot;properties&quot;: {&quot;pd_count&quot;: 3.0}, &quot;geometry&quot;: {&quot;type&quot;: &quot;Point&quot;, &quot;coordinates&quot;: [-1.38456, 53.926959]}}]};\n",
       "        geomtype = divineGeometryType(mapdata);\n",
       "        \n",
       "        comment = &quot;this is a densitymap...&quot;;\n",
       "        map.addSource(&quot;pxdatasource&quot;, {\n",
       "            &quot;type&quot;:&quot;geojson&quot;,\n",
       "            &quot;data&quot;:mapdata,\n",
       "            &quot;cluster&quot;: true, \n",
       "            &quot;clusterMaxZoom&quot;: 11, \n",
       "            &quot;clusterRadius&quot;: 20\n",
       "        });\n",
       "        var layers = [];\n",
       "        \n",
       "            layers.push([1.0, &quot;#3e9e7a&quot;]);\n",
       "        \n",
       "            layers.push([1.75, &quot;#2f7c7f&quot;]);\n",
       "        \n",
       "            layers.push([3.5, &quot;#214360&quot;]);\n",
       "        \n",
       "            layers.push([9.0, &quot;#151a3f&quot;]);\n",
       "        \n",
       "            layers.push([69.0, &quot;#0f091d&quot;]);\n",
       "        \n",
       "\n",
       "        layers.forEach(function(layer,i) {\n",
       "            map.addLayer({\n",
       "                &quot;id&quot;: &quot;cluster-&quot; + i, \n",
       "                &quot;type&quot;: &quot;circle&quot;, \n",
       "                &quot;source&quot;: &quot;pxdatasource&quot;, \n",
       "                &quot;paint&quot;: {\n",
       "                    &quot;circle-color&quot;: layer[1],\n",
       "                    &quot;circle-radius&quot;: 70, \n",
       "                    &quot;circle-blur&quot;: 1\n",
       "                }, \n",
       "                &quot;filter&quot;: i === layers.length-1 ? [&quot;>=&quot;, &quot;pd_count&quot;, layer[0]] : \n",
       "                    [&quot;all&quot;, [&quot;>=&quot;, &quot;pd_count&quot;, layer[0]], [&quot;<&quot;, &quot;pd_count&quot;, layers[i+1][0]]]\n",
       "\n",
       "            }, &quot;waterway-label&quot;);\n",
       "        });\n",
       "        \n",
       "        map.addLayer({\n",
       "            &quot;id&quot;: &quot;pxlayer&quot;, \n",
       "            &quot;type&quot;: &quot;circle&quot;, \n",
       "            &quot;source&quot;: &quot;pxdatasource&quot;, \n",
       "            &quot;paint&quot;: {\n",
       "                &quot;circle-color&quot;: &quot;rgba(0,255,0,0.5)&quot;, \n",
       "                &quot;circle-radius&quot;: 20, \n",
       "                &quot;circle-blur&quot;: 1\n",
       "            }, \n",
       "            &quot;filter&quot;: [&quot;!=&quot;, &quot;cluster&quot;, true]\n",
       "        }, &quot;waterway-label&quot;);\n",
       "\n",
       "        \n",
       "        \n",
       "\n",
       "        comment = &quot;Add user layers&quot;;\n",
       "        var layers = [];\n",
       "        \n",
       "        layers.sort(function(a,b) {\n",
       "            return a[1] - b[1];\n",
       "        });\n",
       "        for (layersi=layers.length-1; layersi>=0; layersi--) {\n",
       "            map.addLayer(layers[layersi][0]);\n",
       "            comment = &quot;User layer legend&quot;;\n",
       "            \n",
       "        }\n",
       "        \n",
       "        map.fitBounds([[-1.952228, 53.567786], [-1.25767, 53.926959]]);\n",
       "        \n",
       "        \n",
       "    });\n",
       "</script>\n",
       "</body>\n",
       "</html>\" onload=\"iframeLoaded(this)\"></iframe>\n",
       "<script>\n",
       "  var iframe = document.getElementById('mapframee1a80d00');\n",
       "  iframe.setAttribute('srcdoc', atob('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'));\n",
       "</script>\n",
       "\n",
       "        </div>"
      ],
      "text/plain": [
       "<IPython.core.display.HTML object>"
      ]
     },
     "metadata": {},
     "output_type": "display_data"
    }
   ],
   "source": [
    "display(DF2020_crime)"
   ]
  },
  {
   "cell_type": "code",
   "execution_count": null,
   "metadata": {
    "pixiedust": {
     "displayParams": {
      "aggregation": "COUNT",
      "basemap": "outdoors-v9",
      "colorrampname": "Green to Purple",
      "handlerId": "mapView",
      "keyFields": "Latitude,Longitude",
      "kind": "densitymap",
      "mapboxtoken": "pk.eyJ1IjoiYmx1a2llIiwiYSI6ImNsMHcwYm91ejE3cHQzY241MzkxODY3emYifQ.FqXQ_1iFgdHU8vMkIxOQJw",
      "title": "Geographical representation of crime distribution for 2021"
     }
    }
   },
   "outputs": [
    {
     "data": {
      "text/html": [
       "<style type=\"text/css\">.pd_warning{display:none;}</style><div class=\"pd_warning\"><em>Hey, there's something awesome here! To see it, open this notebook outside GitHub, in a viewer like Jupyter</em></div>\n",
       "        <div class=\"pd_save is-viewer-good\" style=\"padding-right:10px;text-align: center;line-height:initial !important;font-size: xx-large;font-weight: 500;color: coral;\">\n",
       "            Geographical representation of crime distribution for 2021\n",
       "        </div>\n",
       "    <div id=\"chartFigure0fce0cb9\" class=\"pd_save is-viewer-good\" style=\"overflow-x:auto\">\n",
       "            <script>\n",
       "  window.iframeLoaded = window.iframeLoaded || function(iframe) {\n",
       "    try {\n",
       "      iframe.contentWindow.pdMessageListeners = [];\n",
       "      iframe.contentWindow[\"addPDMessageListener\"] = function(listener){\n",
       "        iframe.contentWindow.pdMessageListeners.push(listener);\n",
       "      }\n",
       "      iframe.contentWindow.addEventListener(\"message\", function(event){\n",
       "        iframe.contentWindow.pdMessageListeners.forEach(function(listener){\n",
       "          listener(event);\n",
       "        });\n",
       "      }, false);\n",
       "      iframe.contentWindow.ready = true;\n",
       "      iframe.contentWindow[\"triggerPDEvent\"] = function(eventInfo) {\n",
       "        $(document).trigger('pd_event', eventInfo);\n",
       "      }\n",
       "    } catch (e) {\n",
       "      console.log(e)\n",
       "    }\n",
       "  }\n",
       "\n",
       "  \n",
       "</script>\n",
       "<iframe id=\"mapframe0fce0cb9\" style=\"width:878.4000000000001px;height:500px\" srcdoc=\"<!DOCTYPE html>\n",
       "<html lang=&quot;en&quot;>\n",
       "<head>\n",
       "    <meta charset=&quot;UTF-8&quot;>\n",
       "    <meta name=&quot;viewport&quot; content=&quot;width=device-width, initial-scale=1&quot;>\n",
       "    <title>Pixiedust Mapbox map</title>\n",
       "    <script src=&quot;https://api.tiles.mapbox.com/mapbox-gl-js/v0.32.1/mapbox-gl.js&quot;></script>\n",
       "    <link href=&quot;https://api.tiles.mapbox.com/mapbox-gl-js/v0.32.1/mapbox-gl.css&quot; rel=&quot;stylesheet&quot; />\n",
       "    <style>\n",
       "    .mapboxgl-popup-content h3 { \n",
       "        margin: 2px 0 2px 0;\n",
       "        font-style: italic;\n",
       "    }\n",
       "    .mapboxgl-popup {\n",
       "        max-width: 200px;\n",
       "    }\n",
       "    #map canvas {\n",
       "        cursor: crosshair;\n",
       "    }\n",
       "    .legend {\n",
       "        background-color: rgba(255,255,255, 0.75);\n",
       "        border-radius: 3px;\n",
       "        position: absolute;\n",
       "        left: 14px;\n",
       "        top: 14px;\n",
       "        box-shadow: 0 1px 2px rgba(0,0,0,0.10);\n",
       "        font-size: 12px;\n",
       "        line-height: 18px;\n",
       "        padding: 10px;\n",
       "        z-index: 1;\n",
       "    }\n",
       "    .legend h4 {\n",
       "        margin: 0 0 10px;\n",
       "    }\n",
       "    .legend div span {\n",
       "        border-radius: 50%;\n",
       "        display: inline-block;\n",
       "        height: 10px;\n",
       "        margin-right: 5px;\n",
       "        width: 10px;\n",
       "    }\n",
       "    body { \n",
       "        background-color:#333; \n",
       "        margin:0px !important; \n",
       "        overflow: hidden;\n",
       "        font-family: &quot;Helvetica Neue&quot;, Arial, Helvetica, sans-serif;\n",
       "    }\n",
       "    </style>\n",
       "</head>\n",
       "<body>\n",
       "<div id=&quot;map-0fce0cb9-5a53120a&quot; style=&quot;width:calc(878.4000000000001px - 4px);height:calc(500px - 4px)&quot; />\n",
       "\n",
       "\n",
       "<script>\n",
       "    !function(e){if(&quot;object&quot;==typeof exports&amp;&amp;&quot;undefined&quot;!=typeof module)module.exports=e();else if(&quot;function&quot;==typeof define&amp;&amp;define.amd)define([],e);else{var n;&quot;undefined&quot;!=typeof window?n=window:&quot;undefined&quot;!=typeof global?n=global:&quot;undefined&quot;!=typeof self&amp;&amp;(n=self),n.geojsonExtent=e()}}(function(){return function e(t,n,r){function s(o,u){if(!n[o]){if(!t[o]){var a=&quot;function&quot;==typeof require&amp;&amp;require;if(!u&amp;&amp;a)return a(o,!0);if(i)return i(o,!0);var f=new Error(&quot;Cannot find module &quot;+o+&quot;&quot;);throw f.code=&quot;MODULE_NOT_FOUND&quot;,f}var l=n[o]={exports:{}};t[o][0].call(l.exports,function(e){var n=t[o][1][e];return s(n?n:e)},l,l.exports,e,t,n,r)}return n[o].exports}for(var i=&quot;function&quot;==typeof require&amp;&amp;require,o=0;o<r.length;o++)s(r[o]);return s}({1:[function(require,module){function getExtent(_){for(var ext=extent(),coords=geojsonCoords(_),i=0;i<coords.length;i++)ext.include(coords[i]);return ext}var geojsonCoords=require(&quot;geojson-coords&quot;),traverse=require(&quot;traverse&quot;),extent=require(&quot;extent&quot;),geojsonTypes=[&quot;Point&quot;,&quot;MultiPoint&quot;,&quot;LineString&quot;,&quot;MultiLineString&quot;,&quot;Polygon&quot;,&quot;MultiPolygon&quot;,&quot;Feature&quot;,&quot;FeatureCollection&quot;,&quot;GeometryCollection&quot;];module.exports=function(_){return getExtent(_).bbox()},module.exports.polygon=function(_){return getExtent(_).polygon()},module.exports.bboxify=function(_){return traverse(_).map(function(value){value&amp;&amp;-1!==typeof geojsonTypes.indexOf(value.type)&amp;&amp;(console.log(value.type,value),value.bbox=getExtent(value).bbox(),this.update(value))})}},{extent:2,&quot;geojson-coords&quot;:4,traverse:7}],2:[function(require,module){function Extent(){return this instanceof Extent?(this._bbox=[1/0,1/0,-(1/0),-(1/0)],void(this._valid=!1)):new Extent}module.exports=Extent,Extent.prototype.include=function(ll){return this._valid=!0,this._bbox[0]=Math.min(this._bbox[0],ll[0]),this._bbox[1]=Math.min(this._bbox[1],ll[1]),this._bbox[2]=Math.max(this._bbox[2],ll[0]),this._bbox[3]=Math.max(this._bbox[3],ll[1]),this},Extent.prototype.union=function(other){return this._valid=!0,this._bbox[0]=Math.min(this._bbox[0],other[0]),this._bbox[1]=Math.min(this._bbox[1],other[1]),this._bbox[2]=Math.max(this._bbox[2],other[2]),this._bbox[3]=Math.max(this._bbox[3],other[3]),this},Extent.prototype.bbox=function(){return this._valid?this._bbox:null},Extent.prototype.contains=function(ll){return this._valid?this._bbox[0]<=ll[0]&amp;&amp;this._bbox[1]<=ll[1]&amp;&amp;this._bbox[2]>=ll[0]&amp;&amp;this._bbox[3]>=ll[1]:null},Extent.prototype.polygon=function(){return this._valid?{type:&quot;Polygon&quot;,coordinates:[[[this._bbox[0],this._bbox[1]],[this._bbox[2],this._bbox[1]],[this._bbox[2],this._bbox[3]],[this._bbox[0],this._bbox[3]],[this._bbox[0],this._bbox[1]]]]}:null}},{}],3:[function(require,module){module.exports=function(list){function _flatten(list){return Array.isArray(list)&amp;&amp;list.length&amp;&amp;&quot;number&quot;==typeof list[0]?[list]:list.reduce(function(acc,item){return Array.isArray(item)&amp;&amp;Array.isArray(item[0])?acc.concat(_flatten(item)):(acc.push(item),acc)},[])}return _flatten(list)}},{}],4:[function(require,module){var geojsonNormalize=require(&quot;geojson-normalize&quot;),geojsonFlatten=require(&quot;geojson-flatten&quot;),flatten=require(&quot;./flatten&quot;);module.exports=function(_){if(!_)return[];var normalized=geojsonFlatten(geojsonNormalize(_)),coordinates=[];return normalized.features.forEach(function(feature){feature.geometry&amp;&amp;(coordinates=coordinates.concat(flatten(feature.geometry.coordinates)))}),coordinates}},{&quot;./flatten&quot;:3,&quot;geojson-flatten&quot;:5,&quot;geojson-normalize&quot;:6}],5:[function(require,module){function flatten(gj){switch(gj&amp;&amp;gj.type||null){case&quot;FeatureCollection&quot;:return gj.features=gj.features.reduce(function(mem,feature){return mem.concat(flatten(feature))},[]),gj;case&quot;Feature&quot;:return flatten(gj.geometry).map(function(geom){return{type:&quot;Feature&quot;,properties:JSON.parse(JSON.stringify(gj.properties)),geometry:geom}});case&quot;MultiPoint&quot;:return gj.coordinates.map(function(_){return{type:&quot;Point&quot;,coordinates:_}});case&quot;MultiPolygon&quot;:return gj.coordinates.map(function(_){return{type:&quot;Polygon&quot;,coordinates:_}});case&quot;MultiLineString&quot;:return gj.coordinates.map(function(_){return{type:&quot;LineString&quot;,coordinates:_}});case&quot;GeometryCollection&quot;:return gj.geometries;case&quot;Point&quot;:case&quot;Polygon&quot;:case&quot;LineString&quot;:return[gj];default:return gj}}module.exports=flatten},{}],6:[function(require,module){function normalize(gj){if(!gj||!gj.type)return null;var type=types[gj.type];return type?&quot;geometry&quot;===type?{type:&quot;FeatureCollection&quot;,features:[{type:&quot;Feature&quot;,properties:{},geometry:gj}]}:&quot;feature&quot;===type?{type:&quot;FeatureCollection&quot;,features:[gj]}:&quot;featurecollection&quot;===type?gj:void 0:null}module.exports=normalize;var types={Point:&quot;geometry&quot;,MultiPoint:&quot;geometry&quot;,LineString:&quot;geometry&quot;,MultiLineString:&quot;geometry&quot;,Polygon:&quot;geometry&quot;,MultiPolygon:&quot;geometry&quot;,GeometryCollection:&quot;geometry&quot;,Feature:&quot;feature&quot;,FeatureCollection:&quot;featurecollection&quot;}},{}],7:[function(require,module){function Traverse(obj){this.value=obj}function walk(root,cb,immutable){var path=[],parents=[],alive=!0;return function walker(node_){function updateState(){if(&quot;object&quot;==typeof state.node&amp;&amp;null!==state.node){state.keys&amp;&amp;state.node_===state.node||(state.keys=objectKeys(state.node)),state.isLeaf=0==state.keys.length;for(var i=0;i<parents.length;i++)if(parents[i].node_===node_){state.circular=parents[i];break}}else state.isLeaf=!0,state.keys=null;state.notLeaf=!state.isLeaf,state.notRoot=!state.isRoot}var node=immutable?copy(node_):node_,modifiers={},keepGoing=!0,state={node:node,node_:node_,path:[].concat(path),parent:parents[parents.length-1],parents:parents,key:path.slice(-1)[0],isRoot:0===path.length,level:path.length,circular:null,update:function(x,stopHere){state.isRoot||(state.parent.node[state.key]=x),state.node=x,stopHere&amp;&amp;(keepGoing=!1)},&quot;delete&quot;:function(stopHere){delete state.parent.node[state.key],stopHere&amp;&amp;(keepGoing=!1)},remove:function(stopHere){isArray(state.parent.node)?state.parent.node.splice(state.key,1):delete state.parent.node[state.key],stopHere&amp;&amp;(keepGoing=!1)},keys:null,before:function(f){modifiers.before=f},after:function(f){modifiers.after=f},pre:function(f){modifiers.pre=f},post:function(f){modifiers.post=f},stop:function(){alive=!1},block:function(){keepGoing=!1}};if(!alive)return state;updateState();var ret=cb.call(state,state.node);return void 0!==ret&amp;&amp;state.update&amp;&amp;state.update(ret),modifiers.before&amp;&amp;modifiers.before.call(state,state.node),keepGoing?(&quot;object&quot;!=typeof state.node||null===state.node||state.circular||(parents.push(state),updateState(),forEach(state.keys,function(key,i){path.push(key),modifiers.pre&amp;&amp;modifiers.pre.call(state,state.node[key],key);var child=walker(state.node[key]);immutable&amp;&amp;hasOwnProperty.call(state.node,key)&amp;&amp;(state.node[key]=child.node),child.isLast=i==state.keys.length-1,child.isFirst=0==i,modifiers.post&amp;&amp;modifiers.post.call(state,child),path.pop()}),parents.pop()),modifiers.after&amp;&amp;modifiers.after.call(state,state.node),state):state}(root).node}function copy(src){if(&quot;object&quot;==typeof src&amp;&amp;null!==src){var dst;if(isArray(src))dst=[];else if(isDate(src))dst=new Date(src.getTime?src.getTime():src);else if(isRegExp(src))dst=new RegExp(src);else if(isError(src))dst={message:src.message};else if(isBoolean(src))dst=new Boolean(src);else if(isNumber(src))dst=new Number(src);else if(isString(src))dst=new String(src);else if(Object.create&amp;&amp;Object.getPrototypeOf)dst=Object.create(Object.getPrototypeOf(src));else if(src.constructor===Object)dst={};else{var proto=src.constructor&amp;&amp;src.constructor.prototype||src.__proto__||{},T=function(){};T.prototype=proto,dst=new T}return forEach(objectKeys(src),function(key){dst[key]=src[key]}),dst}return src}function toS(obj){return Object.prototype.toString.call(obj)}function isDate(obj){return&quot;[object Date]&quot;===toS(obj)}function isRegExp(obj){return&quot;[object RegExp]&quot;===toS(obj)}function isError(obj){return&quot;[object Error]&quot;===toS(obj)}function isBoolean(obj){return&quot;[object Boolean]&quot;===toS(obj)}function isNumber(obj){return&quot;[object Number]&quot;===toS(obj)}function isString(obj){return&quot;[object String]&quot;===toS(obj)}var traverse=module.exports=function(obj){return new Traverse(obj)};Traverse.prototype.get=function(ps){for(var node=this.value,i=0;i<ps.length;i++){var key=ps[i];if(!node||!hasOwnProperty.call(node,key)){node=void 0;break}node=node[key]}return node},Traverse.prototype.has=function(ps){for(var node=this.value,i=0;i<ps.length;i++){var key=ps[i];if(!node||!hasOwnProperty.call(node,key))return!1;node=node[key]}return!0},Traverse.prototype.set=function(ps,value){for(var node=this.value,i=0;i<ps.length-1;i++){var key=ps[i];hasOwnProperty.call(node,key)||(node[key]={}),node=node[key]}return node[ps[i]]=value,value},Traverse.prototype.map=function(cb){return walk(this.value,cb,!0)},Traverse.prototype.forEach=function(cb){return this.value=walk(this.value,cb,!1),this.value},Traverse.prototype.reduce=function(cb,init){var skip=1===arguments.length,acc=skip?this.value:init;return this.forEach(function(x){this.isRoot&amp;&amp;skip||(acc=cb.call(this,acc,x))}),acc},Traverse.prototype.paths=function(){var acc=[];return this.forEach(function(){acc.push(this.path)}),acc},Traverse.prototype.nodes=function(){var acc=[];return this.forEach(function(){acc.push(this.node)}),acc},Traverse.prototype.clone=function(){var parents=[],nodes=[];return function clone(src){for(var i=0;i<parents.length;i++)if(parents[i]===src)return nodes[i];if(&quot;object&quot;==typeof src&amp;&amp;null!==src){var dst=copy(src);return parents.push(src),nodes.push(dst),forEach(objectKeys(src),function(key){dst[key]=clone(src[key])}),parents.pop(),nodes.pop(),dst}return src}(this.value)};var objectKeys=Object.keys||function(obj){var res=[];for(var key in obj)res.push(key);return res},isArray=Array.isArray||function(xs){return&quot;[object Array]&quot;===Object.prototype.toString.call(xs)},forEach=function(xs,fn){if(xs.forEach)return xs.forEach(fn);for(var i=0;i<xs.length;i++)fn(xs[i],i,xs)};forEach(objectKeys(Traverse.prototype),function(key){traverse[key]=function(obj){var args=[].slice.call(arguments,1),t=new Traverse(obj);return t[key].apply(t,args)}});var hasOwnProperty=Object.hasOwnProperty||function(obj,key){return key in obj}},{}]},{},[1])(1)});    \n",
       "    var comment = &quot;&quot;;\n",
       "    mapboxgl.accessToken=&quot;pk.eyJ1IjoiYmx1a2llIiwiYSI6ImNsMHcwYm91ejE3cHQzY241MzkxODY3emYifQ.FqXQ_1iFgdHU8vMkIxOQJw&quot;;\n",
       "    var mapdata = null;\n",
       "    var map = new mapboxgl.Map({\n",
       "        container: &quot;map-0fce0cb9-5a53120a&quot;,\n",
       "        style: &quot;mapbox://styles/mapbox/outdoors-v9&quot;\n",
       "    });\n",
       "\n",
       "    setTimeout(function(){\n",
       "        if (window.addPDMessageListener){\n",
       "            window.addPDMessageListener(function(event){\n",
       "                streamingLayer = map.getSource(&quot;streamingLayer&quot;);\n",
       "                if (streamingLayer){\n",
       "                    streamingLayer.setData(event.data.data);\n",
       "                }else{\n",
       "                    map.addLayer({\n",
       "                        &quot;id&quot;: &quot;streamingLayer&quot;,\n",
       "                        &quot;maptype&quot;: &quot;mapbox&quot;,\n",
       "                        &quot;type&quot;: event.data.type,\n",
       "                        &quot;source&quot;: { type: &quot;geojson&quot;, data: event.data.data },\n",
       "                        &quot;layout&quot;: event.data.layout || {},\n",
       "                        &quot;paint&quot;: event.data.paint || {}\n",
       "                    });\n",
       "                    if (event.data.fitbounds &amp;&amp; event.data.data.features){\n",
       "                        function updateBounds(res, ar){\n",
       "                            if (ar[0].length >=2 &amp;&amp; ar[1].length >= 2 ){\n",
       "                                if (!res){\n",
       "                                    return ar;\n",
       "                                }\n",
       "                                return [ \n",
       "                                    [Math.min( ar[0][0]-0.1, res[0][0]), Math.min( ar[0][1]-0.1, res[0][1])],\n",
       "                                    [Math.max( ar[1][0]+0.1, res[1][0]), Math.max( ar[1][1]+0.1, res[1][1])]\n",
       "                                ]\n",
       "                            }\n",
       "                            return null;\n",
       "                        }\n",
       "                        var bbox = event.data.data.features.reduce(function(res, value){\n",
       "                            var coord = value.geometry.coordinates;\n",
       "                            if (coord.length >= 2 ){\n",
       "                                res = updateBounds( res, [coord[0], coord[1]]);\n",
       "                            }\n",
       "                            return res;\n",
       "                        }, null);\n",
       "                        if (bbox){\n",
       "                            map.fitBounds(bbox);\n",
       "                        }\n",
       "                    }\n",
       "                }\n",
       "            });\n",
       "        };\n",
       "    },100);\n",
       "\n",
       "    var popup = new mapboxgl.Popup({closeButton: false,closeOnClick: true});\n",
       "\n",
       "    function divineGeometryType(mapdata) {\n",
       "        comment = &quot;check type of first geometry. Later expand to check all geometries and make a good decision&quot;;\n",
       "        return mapdata.features[0].geometry.type;\n",
       "    }\n",
       "    \n",
       "    map.on(&quot;mousemove&quot;, function (e) {\n",
       "        var fs = map.queryRenderedFeatures(e.point,{layers:[&quot;pxlayer&quot;]});\n",
       "        if (!fs || !fs.length) {popup.remove();return;};\n",
       "        popuphtml = &quot;&quot;;\n",
       "        var hr = false;\n",
       "        fs.forEach(function(f){\n",
       "            if (hr){ \n",
       "                popuphtml += &quot;<hr>\\n&quot;;\n",
       "            }\n",
       "            hr=true;\n",
       "            popuphtml += &quot;<h3>&quot;+f.layer.id.toUpperCase()+&quot;</h3>\\n&quot;;\n",
       "            var keylength = Object.keys(f.properties).length;\n",
       "            for (var key in f.properties) {\n",
       "                popuphtml += &quot;<b>&quot;+key+&quot;: </b> &quot;+f.properties[key]+&quot;<br/>\\n&quot;;\n",
       "            }\n",
       "        });\n",
       "        popup.setLngLat(e.lngLat).setHTML(popuphtml).addTo(map);\n",
       "    });\n",
       "    \n",
       "    map.on(&quot;click&quot;, function (e) {\n",
       "        var fs = map.queryRenderedFeatures(e.point, { layers: [&quot;pxlayer&quot;] });\n",
       "        if (fs &amp;&amp; fs.length) {\n",
       "            var f = fs[0];\n",
       "            console.log(&quot;clicked&quot;, f);\n",
       "            var keylength = Object.keys(f.properties).length;\n",
       "            var payload = {type:&quot;select&quot;, targetDivId: &quot;&quot; };\n",
       "\n",
       "            for (var key in f.properties) {\n",
       "                payload[key] = f.properties[key];\n",
       "            }\n",
       "\n",
       "            if (window.triggerPDEvent) {\n",
       "                window.triggerPDEvent(payload);\n",
       "            }\n",
       "        }\n",
       "    });\n",
       "        \n",
       "    map.on(&quot;load&quot;, function() {\n",
       "        \n",
       "        mapdata={&quot;type&quot;: &quot;FeatureCollection&quot;, &quot;features&quot;: [{&quot;type&quot;: &quot;Feature&quot;, &quot;properties&quot;: {&quot;pd_count&quot;: 1.0}, &quot;geometry&quot;: {&quot;type&quot;: &quot;Point&quot;, &quot;coordinates&quot;: [-1.846266, 53.588851]}}, {&quot;type&quot;: &quot;Feature&quot;, &quot;properties&quot;: {&quot;pd_count&quot;: 2.0}, &quot;geometry&quot;: {&quot;type&quot;: &quot;Point&quot;, &quot;coordinates&quot;: [-1.648855, 53.590142]}}, {&quot;type&quot;: &quot;Feature&quot;, &quot;properties&quot;: {&quot;pd_count&quot;: 1.0}, &quot;geometry&quot;: {&quot;type&quot;: &quot;Point&quot;, &quot;coordinates&quot;: [-1.371179, 53.605652]}}, {&quot;type&quot;: &quot;Feature&quot;, &quot;properties&quot;: {&quot;pd_count&quot;: 5.0}, &quot;geometry&quot;: {&quot;type&quot;: &quot;Point&quot;, &quot;coordinates&quot;: [-1.457774, 53.609357]}}, {&quot;type&quot;: &quot;Feature&quot;, &quot;properties&quot;: {&quot;pd_count&quot;: 4.0}, &quot;geometry&quot;: {&quot;type&quot;: &quot;Point&quot;, &quot;coordinates&quot;: [-1.347191, 53.613695]}}, {&quot;type&quot;: &quot;Feature&quot;, &quot;properties&quot;: {&quot;pd_count&quot;: 1.0}, &quot;geometry&quot;: {&quot;type&quot;: &quot;Point&quot;, &quot;coordinates&quot;: [-1.870592, 53.627043]}}, {&quot;type&quot;: &quot;Feature&quot;, &quot;properties&quot;: {&quot;pd_count&quot;: 13.0}, &quot;geometry&quot;: {&quot;type&quot;: &quot;Point&quot;, &quot;coordinates&quot;: [-1.80037, 53.630956]}}, {&quot;type&quot;: &quot;Feature&quot;, &quot;properties&quot;: {&quot;pd_count&quot;: 1.0}, &quot;geometry&quot;: {&quot;type&quot;: &quot;Point&quot;, &quot;coordinates&quot;: [-1.907248, 53.632398]}}, {&quot;type&quot;: &quot;Feature&quot;, &quot;properties&quot;: {&quot;pd_count&quot;: 30.0}, &quot;geometry&quot;: {&quot;type&quot;: &quot;Point&quot;, &quot;coordinates&quot;: [-1.796318, 53.637178]}}, {&quot;type&quot;: &quot;Feature&quot;, &quot;properties&quot;: {&quot;pd_count&quot;: 2.0}, &quot;geometry&quot;: {&quot;type&quot;: &quot;Point&quot;, &quot;coordinates&quot;: [-1.523562, 53.64461]}}, {&quot;type&quot;: &quot;Feature&quot;, &quot;properties&quot;: {&quot;pd_count&quot;: 7.0}, &quot;geometry&quot;: {&quot;type&quot;: &quot;Point&quot;, &quot;coordinates&quot;: [-1.735721, 53.646066]}}, {&quot;type&quot;: &quot;Feature&quot;, &quot;properties&quot;: {&quot;pd_count&quot;: 14.0}, &quot;geometry&quot;: {&quot;type&quot;: &quot;Point&quot;, &quot;coordinates&quot;: [-1.804308, 53.649226]}}, {&quot;type&quot;: &quot;Feature&quot;, &quot;properties&quot;: {&quot;pd_count&quot;: 15.0}, &quot;geometry&quot;: {&quot;type&quot;: &quot;Point&quot;, &quot;coordinates&quot;: [-1.795063, 53.655745]}}, {&quot;type&quot;: &quot;Feature&quot;, &quot;properties&quot;: {&quot;pd_count&quot;: 4.0}, &quot;geometry&quot;: {&quot;type&quot;: &quot;Point&quot;, &quot;coordinates&quot;: [-1.542187, 53.663873]}}, {&quot;type&quot;: &quot;Feature&quot;, &quot;properties&quot;: {&quot;pd_count&quot;: 3.0}, &quot;geometry&quot;: {&quot;type&quot;: &quot;Point&quot;, &quot;coordinates&quot;: [-1.830801, 53.667216]}}, {&quot;type&quot;: &quot;Feature&quot;, &quot;properties&quot;: {&quot;pd_count&quot;: 9.0}, &quot;geometry&quot;: {&quot;type&quot;: &quot;Point&quot;, &quot;coordinates&quot;: [-1.765883, 53.668266]}}, {&quot;type&quot;: &quot;Feature&quot;, &quot;properties&quot;: {&quot;pd_count&quot;: 3.0}, &quot;geometry&quot;: {&quot;type&quot;: &quot;Point&quot;, &quot;coordinates&quot;: [-1.838418, 53.670121]}}, {&quot;type&quot;: &quot;Feature&quot;, &quot;properties&quot;: {&quot;pd_count&quot;: 4.0}, &quot;geometry&quot;: {&quot;type&quot;: &quot;Point&quot;, &quot;coordinates&quot;: [-1.778331, 53.672568]}}, {&quot;type&quot;: &quot;Feature&quot;, &quot;properties&quot;: {&quot;pd_count&quot;: 4.0}, &quot;geometry&quot;: {&quot;type&quot;: &quot;Point&quot;, &quot;coordinates&quot;: [-1.34826, 53.672889]}}, {&quot;type&quot;: &quot;Feature&quot;, &quot;properties&quot;: {&quot;pd_count&quot;: 6.0}, &quot;geometry&quot;: {&quot;type&quot;: &quot;Point&quot;, &quot;coordinates&quot;: [-1.635455, 53.674394]}}, {&quot;type&quot;: &quot;Feature&quot;, &quot;properties&quot;: {&quot;pd_count&quot;: 10.0}, &quot;geometry&quot;: {&quot;type&quot;: &quot;Point&quot;, &quot;coordinates&quot;: [-1.693234, 53.674502]}}, {&quot;type&quot;: &quot;Feature&quot;, &quot;properties&quot;: {&quot;pd_count&quot;: 13.0}, &quot;geometry&quot;: {&quot;type&quot;: &quot;Point&quot;, &quot;coordinates&quot;: [-1.504723, 53.68135]}}, {&quot;type&quot;: &quot;Feature&quot;, &quot;properties&quot;: {&quot;pd_count&quot;: 4.0}, &quot;geometry&quot;: {&quot;type&quot;: &quot;Point&quot;, &quot;coordinates&quot;: [-1.629718, 53.684767]}}, {&quot;type&quot;: &quot;Feature&quot;, &quot;properties&quot;: {&quot;pd_count&quot;: 2.0}, &quot;geometry&quot;: {&quot;type&quot;: &quot;Point&quot;, &quot;coordinates&quot;: [-1.577221, 53.685097]}}, {&quot;type&quot;: &quot;Feature&quot;, &quot;properties&quot;: {&quot;pd_count&quot;: 24.0}, &quot;geometry&quot;: {&quot;type&quot;: &quot;Point&quot;, &quot;coordinates&quot;: [-1.586759, 53.688231]}}, {&quot;type&quot;: &quot;Feature&quot;, &quot;properties&quot;: {&quot;pd_count&quot;: 21.0}, &quot;geometry&quot;: {&quot;type&quot;: &quot;Point&quot;, &quot;coordinates&quot;: [-1.642119, 53.690045]}}, {&quot;type&quot;: &quot;Feature&quot;, &quot;properties&quot;: {&quot;pd_count&quot;: 1.0}, &quot;geometry&quot;: {&quot;type&quot;: &quot;Point&quot;, &quot;coordinates&quot;: [-1.608824, 53.691253]}}, {&quot;type&quot;: &quot;Feature&quot;, &quot;properties&quot;: {&quot;pd_count&quot;: 2.0}, &quot;geometry&quot;: {&quot;type&quot;: &quot;Point&quot;, &quot;coordinates&quot;: [-1.621417, 53.693594]}}, {&quot;type&quot;: &quot;Feature&quot;, &quot;properties&quot;: {&quot;pd_count&quot;: 12.0}, &quot;geometry&quot;: {&quot;type&quot;: &quot;Point&quot;, &quot;coordinates&quot;: [-1.638831, 53.695697]}}, {&quot;type&quot;: &quot;Feature&quot;, &quot;properties&quot;: {&quot;pd_count&quot;: 2.0}, &quot;geometry&quot;: {&quot;type&quot;: &quot;Point&quot;, &quot;coordinates&quot;: [-2.105781, 53.695853]}}, {&quot;type&quot;: &quot;Feature&quot;, &quot;properties&quot;: {&quot;pd_count&quot;: 4.0}, &quot;geometry&quot;: {&quot;type&quot;: &quot;Point&quot;, &quot;coordinates&quot;: [-1.232432, 53.70199]}}, {&quot;type&quot;: &quot;Feature&quot;, &quot;properties&quot;: {&quot;pd_count&quot;: 7.0}, &quot;geometry&quot;: {&quot;type&quot;: &quot;Point&quot;, &quot;coordinates&quot;: [-1.28602, 53.702213]}}, {&quot;type&quot;: &quot;Feature&quot;, &quot;properties&quot;: {&quot;pd_count&quot;: 6.0}, &quot;geometry&quot;: {&quot;type&quot;: &quot;Point&quot;, &quot;coordinates&quot;: [-1.675389, 53.70381]}}, {&quot;type&quot;: &quot;Feature&quot;, &quot;properties&quot;: {&quot;pd_count&quot;: 6.0}, &quot;geometry&quot;: {&quot;type&quot;: &quot;Point&quot;, &quot;coordinates&quot;: [-1.653476, 53.704855]}}, {&quot;type&quot;: &quot;Feature&quot;, &quot;properties&quot;: {&quot;pd_count&quot;: 1.0}, &quot;geometry&quot;: {&quot;type&quot;: &quot;Point&quot;, &quot;coordinates&quot;: [-1.687395, 53.706656]}}, {&quot;type&quot;: &quot;Feature&quot;, &quot;properties&quot;: {&quot;pd_count&quot;: 1.0}, &quot;geometry&quot;: {&quot;type&quot;: &quot;Point&quot;, &quot;coordinates&quot;: [-1.699168, 53.710578]}}, {&quot;type&quot;: &quot;Feature&quot;, &quot;properties&quot;: {&quot;pd_count&quot;: 57.0}, &quot;geometry&quot;: {&quot;type&quot;: &quot;Point&quot;, &quot;coordinates&quot;: [-1.362162, 53.71058]}}, {&quot;type&quot;: &quot;Feature&quot;, &quot;properties&quot;: {&quot;pd_count&quot;: 8.0}, &quot;geometry&quot;: {&quot;type&quot;: &quot;Point&quot;, &quot;coordinates&quot;: [-1.656318, 53.711173]}}, {&quot;type&quot;: &quot;Feature&quot;, &quot;properties&quot;: {&quot;pd_count&quot;: 10.0}, &quot;geometry&quot;: {&quot;type&quot;: &quot;Point&quot;, &quot;coordinates&quot;: [-1.344893, 53.7133]}}, {&quot;type&quot;: &quot;Feature&quot;, &quot;properties&quot;: {&quot;pd_count&quot;: 3.0}, &quot;geometry&quot;: {&quot;type&quot;: &quot;Point&quot;, &quot;coordinates&quot;: [-1.30791, 53.715024]}}, {&quot;type&quot;: &quot;Feature&quot;, &quot;properties&quot;: {&quot;pd_count&quot;: 2.0}, &quot;geometry&quot;: {&quot;type&quot;: &quot;Point&quot;, &quot;coordinates&quot;: [-1.482356, 53.716345]}}, {&quot;type&quot;: &quot;Feature&quot;, &quot;properties&quot;: {&quot;pd_count&quot;: 3.0}, &quot;geometry&quot;: {&quot;type&quot;: &quot;Point&quot;, &quot;coordinates&quot;: [-1.716057, 53.722465]}}, {&quot;type&quot;: &quot;Feature&quot;, &quot;properties&quot;: {&quot;pd_count&quot;: 13.0}, &quot;geometry&quot;: {&quot;type&quot;: &quot;Point&quot;, &quot;coordinates&quot;: [-2.107107, 53.72313]}}, {&quot;type&quot;: &quot;Feature&quot;, &quot;properties&quot;: {&quot;pd_count&quot;: 9.0}, &quot;geometry&quot;: {&quot;type&quot;: &quot;Point&quot;, &quot;coordinates&quot;: [-1.691194, 53.723761]}}, {&quot;type&quot;: &quot;Feature&quot;, &quot;properties&quot;: {&quot;pd_count&quot;: 16.0}, &quot;geometry&quot;: {&quot;type&quot;: &quot;Point&quot;, &quot;coordinates&quot;: [-1.370651, 53.725509]}}, {&quot;type&quot;: &quot;Feature&quot;, &quot;properties&quot;: {&quot;pd_count&quot;: 10.0}, &quot;geometry&quot;: {&quot;type&quot;: &quot;Point&quot;, &quot;coordinates&quot;: [-1.901303, 53.730454]}}, {&quot;type&quot;: &quot;Feature&quot;, &quot;properties&quot;: {&quot;pd_count&quot;: 1.0}, &quot;geometry&quot;: {&quot;type&quot;: &quot;Point&quot;, &quot;coordinates&quot;: [-1.497742, 53.732337]}}, {&quot;type&quot;: &quot;Feature&quot;, &quot;properties&quot;: {&quot;pd_count&quot;: 1.0}, &quot;geometry&quot;: {&quot;type&quot;: &quot;Point&quot;, &quot;coordinates&quot;: [-1.808423, 53.732724]}}, {&quot;type&quot;: &quot;Feature&quot;, &quot;properties&quot;: {&quot;pd_count&quot;: 2.0}, &quot;geometry&quot;: {&quot;type&quot;: &quot;Point&quot;, &quot;coordinates&quot;: [-1.880755, 53.733923]}}, {&quot;type&quot;: &quot;Feature&quot;, &quot;properties&quot;: {&quot;pd_count&quot;: 5.0}, &quot;geometry&quot;: {&quot;type&quot;: &quot;Point&quot;, &quot;coordinates&quot;: [-1.959094, 53.734703]}}, {&quot;type&quot;: &quot;Feature&quot;, &quot;properties&quot;: {&quot;pd_count&quot;: 6.0}, &quot;geometry&quot;: {&quot;type&quot;: &quot;Point&quot;, &quot;coordinates&quot;: [-1.381154, 53.738875]}}, {&quot;type&quot;: &quot;Feature&quot;, &quot;properties&quot;: {&quot;pd_count&quot;: 11.0}, &quot;geometry&quot;: {&quot;type&quot;: &quot;Point&quot;, &quot;coordinates&quot;: [-1.593061, 53.742909]}}, {&quot;type&quot;: &quot;Feature&quot;, &quot;properties&quot;: {&quot;pd_count&quot;: 5.0}, &quot;geometry&quot;: {&quot;type&quot;: &quot;Point&quot;, &quot;coordinates&quot;: [-2.067132, 53.744398]}}, {&quot;type&quot;: &quot;Feature&quot;, &quot;properties&quot;: {&quot;pd_count&quot;: 7.0}, &quot;geometry&quot;: {&quot;type&quot;: &quot;Point&quot;, &quot;coordinates&quot;: [-1.629389, 53.748168]}}, {&quot;type&quot;: &quot;Feature&quot;, &quot;properties&quot;: {&quot;pd_count&quot;: 6.0}, &quot;geometry&quot;: {&quot;type&quot;: &quot;Point&quot;, &quot;coordinates&quot;: [-1.730024, 53.765982]}}, {&quot;type&quot;: &quot;Feature&quot;, &quot;properties&quot;: {&quot;pd_count&quot;: 7.0}, &quot;geometry&quot;: {&quot;type&quot;: &quot;Point&quot;, &quot;coordinates&quot;: [-1.555505, 53.767332]}}, {&quot;type&quot;: &quot;Feature&quot;, &quot;properties&quot;: {&quot;pd_count&quot;: 12.0}, &quot;geometry&quot;: {&quot;type&quot;: &quot;Point&quot;, &quot;coordinates&quot;: [-1.557848, 53.773973]}}, {&quot;type&quot;: &quot;Feature&quot;, &quot;properties&quot;: {&quot;pd_count&quot;: 35.0}, &quot;geometry&quot;: {&quot;type&quot;: &quot;Point&quot;, &quot;coordinates&quot;: [-1.734947, 53.774289]}}, {&quot;type&quot;: &quot;Feature&quot;, &quot;properties&quot;: {&quot;pd_count&quot;: 4.0}, &quot;geometry&quot;: {&quot;type&quot;: &quot;Point&quot;, &quot;coordinates&quot;: [-1.621018, 53.776904]}}, {&quot;type&quot;: &quot;Feature&quot;, &quot;properties&quot;: {&quot;pd_count&quot;: 1.0}, &quot;geometry&quot;: {&quot;type&quot;: &quot;Point&quot;, &quot;coordinates&quot;: [-1.822476, 53.782872]}}, {&quot;type&quot;: &quot;Feature&quot;, &quot;properties&quot;: {&quot;pd_count&quot;: 27.0}, &quot;geometry&quot;: {&quot;type&quot;: &quot;Point&quot;, &quot;coordinates&quot;: [-1.765865, 53.783332]}}, {&quot;type&quot;: &quot;Feature&quot;, &quot;properties&quot;: {&quot;pd_count&quot;: 1.0}, &quot;geometry&quot;: {&quot;type&quot;: &quot;Point&quot;, &quot;coordinates&quot;: [-1.645129, 53.784114]}}, {&quot;type&quot;: &quot;Feature&quot;, &quot;properties&quot;: {&quot;pd_count&quot;: 15.0}, &quot;geometry&quot;: {&quot;type&quot;: &quot;Point&quot;, &quot;coordinates&quot;: [-1.780332, 53.7885]}}, {&quot;type&quot;: &quot;Feature&quot;, &quot;properties&quot;: {&quot;pd_count&quot;: 2.0}, &quot;geometry&quot;: {&quot;type&quot;: &quot;Point&quot;, &quot;coordinates&quot;: [-1.66646, 53.788957]}}, {&quot;type&quot;: &quot;Feature&quot;, &quot;properties&quot;: {&quot;pd_count&quot;: 1.0}, &quot;geometry&quot;: {&quot;type&quot;: &quot;Point&quot;, &quot;coordinates&quot;: [-1.396564, 53.789251]}}, {&quot;type&quot;: &quot;Feature&quot;, &quot;properties&quot;: {&quot;pd_count&quot;: 1.0}, &quot;geometry&quot;: {&quot;type&quot;: &quot;Point&quot;, &quot;coordinates&quot;: [-1.449065, 53.790601]}}, {&quot;type&quot;: &quot;Feature&quot;, &quot;properties&quot;: {&quot;pd_count&quot;: 26.0}, &quot;geometry&quot;: {&quot;type&quot;: &quot;Point&quot;, &quot;coordinates&quot;: [-1.759598, 53.791148]}}, {&quot;type&quot;: &quot;Feature&quot;, &quot;properties&quot;: {&quot;pd_count&quot;: 3.0}, &quot;geometry&quot;: {&quot;type&quot;: &quot;Point&quot;, &quot;coordinates&quot;: [-1.495812, 53.792307]}}, {&quot;type&quot;: &quot;Feature&quot;, &quot;properties&quot;: {&quot;pd_count&quot;: 3.0}, &quot;geometry&quot;: {&quot;type&quot;: &quot;Point&quot;, &quot;coordinates&quot;: [-1.473389, 53.792516]}}, {&quot;type&quot;: &quot;Feature&quot;, &quot;properties&quot;: {&quot;pd_count&quot;: 2.0}, &quot;geometry&quot;: {&quot;type&quot;: &quot;Point&quot;, &quot;coordinates&quot;: [-1.474869, 53.794329]}}, {&quot;type&quot;: &quot;Feature&quot;, &quot;properties&quot;: {&quot;pd_count&quot;: 22.0}, &quot;geometry&quot;: {&quot;type&quot;: &quot;Point&quot;, &quot;coordinates&quot;: [-1.762918, 53.794714]}}, {&quot;type&quot;: &quot;Feature&quot;, &quot;properties&quot;: {&quot;pd_count&quot;: 1.0}, &quot;geometry&quot;: {&quot;type&quot;: &quot;Point&quot;, &quot;coordinates&quot;: [-1.658891, 53.799524]}}, {&quot;type&quot;: &quot;Feature&quot;, &quot;properties&quot;: {&quot;pd_count&quot;: 3.0}, &quot;geometry&quot;: {&quot;type&quot;: &quot;Point&quot;, &quot;coordinates&quot;: [-1.66651, 53.799905]}}, {&quot;type&quot;: &quot;Feature&quot;, &quot;properties&quot;: {&quot;pd_count&quot;: 17.0}, &quot;geometry&quot;: {&quot;type&quot;: &quot;Point&quot;, &quot;coordinates&quot;: [-1.737569, 53.811316]}}, {&quot;type&quot;: &quot;Feature&quot;, &quot;properties&quot;: {&quot;pd_count&quot;: 5.0}, &quot;geometry&quot;: {&quot;type&quot;: &quot;Point&quot;, &quot;coordinates&quot;: [-1.514523, 53.812517]}}, {&quot;type&quot;: &quot;Feature&quot;, &quot;properties&quot;: {&quot;pd_count&quot;: 2.0}, &quot;geometry&quot;: {&quot;type&quot;: &quot;Point&quot;, &quot;coordinates&quot;: [-1.612643, 53.813018]}}, {&quot;type&quot;: &quot;Feature&quot;, &quot;properties&quot;: {&quot;pd_count&quot;: 2.0}, &quot;geometry&quot;: {&quot;type&quot;: &quot;Point&quot;, &quot;coordinates&quot;: [-1.683729, 53.817783]}}, {&quot;type&quot;: &quot;Feature&quot;, &quot;properties&quot;: {&quot;pd_count&quot;: 14.0}, &quot;geometry&quot;: {&quot;type&quot;: &quot;Point&quot;, &quot;coordinates&quot;: [-1.514096, 53.817962]}}, {&quot;type&quot;: &quot;Feature&quot;, &quot;properties&quot;: {&quot;pd_count&quot;: 1.0}, &quot;geometry&quot;: {&quot;type&quot;: &quot;Point&quot;, &quot;coordinates&quot;: [-1.537107, 53.818035]}}, {&quot;type&quot;: &quot;Feature&quot;, &quot;properties&quot;: {&quot;pd_count&quot;: 2.0}, &quot;geometry&quot;: {&quot;type&quot;: &quot;Point&quot;, &quot;coordinates&quot;: [-1.578972, 53.819142]}}, {&quot;type&quot;: &quot;Feature&quot;, &quot;properties&quot;: {&quot;pd_count&quot;: 240.0}, &quot;geometry&quot;: {&quot;type&quot;: &quot;Point&quot;, &quot;coordinates&quot;: [-1.46067, 53.821968]}}, {&quot;type&quot;: &quot;Feature&quot;, &quot;properties&quot;: {&quot;pd_count&quot;: 14.0}, &quot;geometry&quot;: {&quot;type&quot;: &quot;Point&quot;, &quot;coordinates&quot;: [-1.450662, 53.825203]}}, {&quot;type&quot;: &quot;Feature&quot;, &quot;properties&quot;: {&quot;pd_count&quot;: 11.0}, &quot;geometry&quot;: {&quot;type&quot;: &quot;Point&quot;, &quot;coordinates&quot;: [-1.766933, 53.826216]}}, {&quot;type&quot;: &quot;Feature&quot;, &quot;properties&quot;: {&quot;pd_count&quot;: 8.0}, &quot;geometry&quot;: {&quot;type&quot;: &quot;Point&quot;, &quot;coordinates&quot;: [-1.534328, 53.828936]}}, {&quot;type&quot;: &quot;Feature&quot;, &quot;properties&quot;: {&quot;pd_count&quot;: 1.0}, &quot;geometry&quot;: {&quot;type&quot;: &quot;Point&quot;, &quot;coordinates&quot;: [-1.57103, 53.829325]}}, {&quot;type&quot;: &quot;Feature&quot;, &quot;properties&quot;: {&quot;pd_count&quot;: 2.0}, &quot;geometry&quot;: {&quot;type&quot;: &quot;Point&quot;, &quot;coordinates&quot;: [-1.646831, 53.830938]}}, {&quot;type&quot;: &quot;Feature&quot;, &quot;properties&quot;: {&quot;pd_count&quot;: 2.0}, &quot;geometry&quot;: {&quot;type&quot;: &quot;Point&quot;, &quot;coordinates&quot;: [-1.536324, 53.832548]}}, {&quot;type&quot;: &quot;Feature&quot;, &quot;properties&quot;: {&quot;pd_count&quot;: 1.0}, &quot;geometry&quot;: {&quot;type&quot;: &quot;Point&quot;, &quot;coordinates&quot;: [-1.474777, 53.83331]}}, {&quot;type&quot;: &quot;Feature&quot;, &quot;properties&quot;: {&quot;pd_count&quot;: 1.0}, &quot;geometry&quot;: {&quot;type&quot;: &quot;Point&quot;, &quot;coordinates&quot;: [-1.666887, 53.842347]}}, {&quot;type&quot;: &quot;Feature&quot;, &quot;properties&quot;: {&quot;pd_count&quot;: 2.0}, &quot;geometry&quot;: {&quot;type&quot;: &quot;Point&quot;, &quot;coordinates&quot;: [-1.752868, 53.84899]}}, {&quot;type&quot;: &quot;Feature&quot;, &quot;properties&quot;: {&quot;pd_count&quot;: 2.0}, &quot;geometry&quot;: {&quot;type&quot;: &quot;Point&quot;, &quot;coordinates&quot;: [-1.833774, 53.850199]}}, {&quot;type&quot;: &quot;Feature&quot;, &quot;properties&quot;: {&quot;pd_count&quot;: 2.0}, &quot;geometry&quot;: {&quot;type&quot;: &quot;Point&quot;, &quot;coordinates&quot;: [-1.520088, 53.850568]}}, {&quot;type&quot;: &quot;Feature&quot;, &quot;properties&quot;: {&quot;pd_count&quot;: 6.0}, &quot;geometry&quot;: {&quot;type&quot;: &quot;Point&quot;, &quot;coordinates&quot;: [-1.921825, 53.853883]}}, {&quot;type&quot;: &quot;Feature&quot;, &quot;properties&quot;: {&quot;pd_count&quot;: 16.0}, &quot;geometry&quot;: {&quot;type&quot;: &quot;Point&quot;, &quot;coordinates&quot;: [-1.920959, 53.86199]}}, {&quot;type&quot;: &quot;Feature&quot;, &quot;properties&quot;: {&quot;pd_count&quot;: 7.0}, &quot;geometry&quot;: {&quot;type&quot;: &quot;Point&quot;, &quot;coordinates&quot;: [-1.559081, 53.863319]}}, {&quot;type&quot;: &quot;Feature&quot;, &quot;properties&quot;: {&quot;pd_count&quot;: 5.0}, &quot;geometry&quot;: {&quot;type&quot;: &quot;Point&quot;, &quot;coordinates&quot;: [-1.91205, 53.868437]}}, {&quot;type&quot;: &quot;Feature&quot;, &quot;properties&quot;: {&quot;pd_count&quot;: 1.0}, &quot;geometry&quot;: {&quot;type&quot;: &quot;Point&quot;, &quot;coordinates&quot;: [-1.924382, 53.87764]}}, {&quot;type&quot;: &quot;Feature&quot;, &quot;properties&quot;: {&quot;pd_count&quot;: 4.0}, &quot;geometry&quot;: {&quot;type&quot;: &quot;Point&quot;, &quot;coordinates&quot;: [-1.697549, 53.902422]}}, {&quot;type&quot;: &quot;Feature&quot;, &quot;properties&quot;: {&quot;pd_count&quot;: 5.0}, &quot;geometry&quot;: {&quot;type&quot;: &quot;Point&quot;, &quot;coordinates&quot;: [-1.929008, 53.912389]}}, {&quot;type&quot;: &quot;Feature&quot;, &quot;properties&quot;: {&quot;pd_count&quot;: 3.0}, &quot;geometry&quot;: {&quot;type&quot;: &quot;Point&quot;, &quot;coordinates&quot;: [-1.835554, 53.923739]}}]};\n",
       "        geomtype = divineGeometryType(mapdata);\n",
       "        \n",
       "        comment = &quot;this is a densitymap...&quot;;\n",
       "        map.addSource(&quot;pxdatasource&quot;, {\n",
       "            &quot;type&quot;:&quot;geojson&quot;,\n",
       "            &quot;data&quot;:mapdata,\n",
       "            &quot;cluster&quot;: true, \n",
       "            &quot;clusterMaxZoom&quot;: 11, \n",
       "            &quot;clusterRadius&quot;: 20\n",
       "        });\n",
       "        var layers = [];\n",
       "        \n",
       "            layers.push([1.0, &quot;#3e9e7a&quot;]);\n",
       "        \n",
       "            layers.push([2.0, &quot;#2f7c7f&quot;]);\n",
       "        \n",
       "            layers.push([4.0, &quot;#214360&quot;]);\n",
       "        \n",
       "            layers.push([10.0, &quot;#151a3f&quot;]);\n",
       "        \n",
       "            layers.push([240.0, &quot;#0f091d&quot;]);\n",
       "        \n",
       "\n",
       "        layers.forEach(function(layer,i) {\n",
       "            map.addLayer({\n",
       "                &quot;id&quot;: &quot;cluster-&quot; + i, \n",
       "                &quot;type&quot;: &quot;circle&quot;, \n",
       "                &quot;source&quot;: &quot;pxdatasource&quot;, \n",
       "                &quot;paint&quot;: {\n",
       "                    &quot;circle-color&quot;: layer[1],\n",
       "                    &quot;circle-radius&quot;: 70, \n",
       "                    &quot;circle-blur&quot;: 1\n",
       "                }, \n",
       "                &quot;filter&quot;: i === layers.length-1 ? [&quot;>=&quot;, &quot;pd_count&quot;, layer[0]] : \n",
       "                    [&quot;all&quot;, [&quot;>=&quot;, &quot;pd_count&quot;, layer[0]], [&quot;<&quot;, &quot;pd_count&quot;, layers[i+1][0]]]\n",
       "\n",
       "            }, &quot;waterway-label&quot;);\n",
       "        });\n",
       "        \n",
       "        map.addLayer({\n",
       "            &quot;id&quot;: &quot;pxlayer&quot;, \n",
       "            &quot;type&quot;: &quot;circle&quot;, \n",
       "            &quot;source&quot;: &quot;pxdatasource&quot;, \n",
       "            &quot;paint&quot;: {\n",
       "                &quot;circle-color&quot;: &quot;rgba(0,255,0,0.5)&quot;, \n",
       "                &quot;circle-radius&quot;: 20, \n",
       "                &quot;circle-blur&quot;: 1\n",
       "            }, \n",
       "            &quot;filter&quot;: [&quot;!=&quot;, &quot;cluster&quot;, true]\n",
       "        }, &quot;waterway-label&quot;);\n",
       "\n",
       "        \n",
       "        \n",
       "\n",
       "        comment = &quot;Add user layers&quot;;\n",
       "        var layers = [];\n",
       "        \n",
       "        layers.sort(function(a,b) {\n",
       "            return a[1] - b[1];\n",
       "        });\n",
       "        for (layersi=layers.length-1; layersi>=0; layersi--) {\n",
       "            map.addLayer(layers[layersi][0]);\n",
       "            comment = &quot;User layer legend&quot;;\n",
       "            \n",
       "        }\n",
       "        \n",
       "        map.fitBounds([[-2.107107, 53.588851], [-1.232432, 53.923739]]);\n",
       "        \n",
       "        \n",
       "    });\n",
       "</script>\n",
       "</body>\n",
       "</html>\" onload=\"iframeLoaded(this)\"></iframe>\n",
       "<script>\n",
       "  var iframe = document.getElementById('mapframe0fce0cb9');\n",
       "  iframe.setAttribute('srcdoc', atob('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'));\n",
       "</script>\n",
       "\n",
       "        </div>"
      ],
      "text/plain": [
       "<IPython.core.display.HTML object>"
      ]
     },
     "metadata": {},
     "output_type": "display_data"
    }
   ],
   "source": [
    "display(DF2021_crime)"
   ]
  },
  {
   "cell_type": "code",
   "execution_count": null,
   "metadata": {
    "pixiedust": {
     "displayParams": {
      "aggregation": "COUNT",
      "handlerId": "pieChart",
      "keyFields": "Crime_type",
      "legend": "false",
      "title": "Analysis of Crime in 2021"
     }
    }
   },
   "outputs": [
    {
     "data": {
      "text/html": [
       "<style type=\"text/css\">.pd_warning{display:none;}</style><div class=\"pd_warning\"><em>Hey, there's something awesome here! To see it, open this notebook outside GitHub, in a viewer like Jupyter</em></div>\n",
       "        <div class=\"pd_save is-viewer-good\" style=\"padding-right:10px;text-align: center;line-height:initial !important;font-size: xx-large;font-weight: 500;color: coral;\">\n",
       "            Analysis of Crime in 2021\n",
       "        </div>\n",
       "    <div id=\"chartFigure210a9aca\" class=\"pd_save is-viewer-good\" style=\"overflow-x:auto\">\n",
       "            \n",
       "                    \n",
       "                            <center><img style=\"max-width:initial !important\" src=\"data:image/png;base64,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\" class=\"pd_save\"></center>\n",
       "                        \n",
       "                    \n",
       "                \n",
       "        </div>"
      ],
      "text/plain": [
       "<IPython.core.display.HTML object>"
      ]
     },
     "metadata": {},
     "output_type": "display_data"
    }
   ],
   "source": [
    "display(DF2021_crime)"
   ]
  },
  {
   "cell_type": "code",
   "execution_count": 92,
   "metadata": {},
   "outputs": [],
   "source": [
    "#   Tokens for usng map on pixiedust\n",
    "#   pk.eyJ1IjoiYmx1a2llIiwiYSI6ImNsMHcwYm91ejE3cHQzY241MzkxODY3emYifQ.FqXQ_1iFgdHU8vMkIxOQJw"
   ]
  },
  {
   "cell_type": "code",
   "execution_count": null,
   "metadata": {},
   "outputs": [],
   "source": []
  }
 ],
 "metadata": {
  "kernelspec": {
   "display_name": "Python 3 (ipykernel)",
   "language": "python",
   "name": "python3"
  },
  "language_info": {
   "codemirror_mode": {
    "name": "ipython",
    "version": 3
   },
   "file_extension": ".py",
   "mimetype": "text/x-python",
   "name": "python",
   "nbconvert_exporter": "python",
   "pygments_lexer": "ipython3",
   "version": "3.8.5"
  },
  "toc": {
   "base_numbering": 1,
   "nav_menu": {},
   "number_sections": true,
   "sideBar": true,
   "skip_h1_title": false,
   "title_cell": "Table of Contents",
   "title_sidebar": "Contents",
   "toc_cell": false,
   "toc_position": {},
   "toc_section_display": true,
   "toc_window_display": false
  }
 },
 "nbformat": 4,
 "nbformat_minor": 2
}
